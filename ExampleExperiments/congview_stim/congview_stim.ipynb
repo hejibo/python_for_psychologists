{
 "cells": [
  {
   "cell_type": "markdown",
   "metadata": {},
   "source": [
    "# Einfluss von kongruenter Blickrichtung und Art des Stimulus auf Reaktionszeit und Treffsicherheit"
   ]
  },
  {
   "cell_type": "markdown",
   "metadata": {},
   "source": [
    "Im folgenden Experiment sollte überprüft werden, ob sich die Blickrichtung zweier Stimuli auf die Reaktionszeit und die Genauigkeit bei der Beantwortung der Frage nach der Art des Stimulus auswirkt.\n",
    "Es wurden immer zwei identische Stimuli präsentiert, wobei es sich entweder um einen Mensch oder um einen Greeble (nach Robert Abelson) handelte.\n",
    "Es wurde vermutet, dass bei sich zugewandten Stimuli - unabhängig von der Art des Stimulus - die Reaktionszeit und die Treffsicherheit verbessert sind, da so der Beobachter die Stimuli eher als interagierende Gruppe wahrnimmt und daher schneller und besser verarbeitet (Papeo, Stein & Soto-Faraco, 2017).\n",
    "Weiterhin wurde vermutet, dass sich sowohl die Reaktionszeit, als auch die Treffsicherheit verbessern, wenn es sich bei dem Stimulus um einen Mensch handelt, da es für Menschen gewohnter ist, menschliche Wesen in einer Gruppe zu sehen.\n",
    "Insgesamt lassen sich 6 Hypothesen zur Art der Auswirkung formulieren:\n",
    "\n",
    "1) Wenn sich die Stimuli ansehen (congruency = 1), ist die Reaktionszeit (RT) - unanhängig von der Art des Stimulus - niedriger im Vergleich zu Trials mit sich nicht ansehenden Stimuli (congruency = 0).\n",
    "\n",
    "2) Wenn sich die Stimuli ansehen , ist die Treffsicherheit (accuracy) - unanhängig von der Art des Stimulus - besser im Vergleich zu Trials mit sich nicht ansehenden Stimuli.\n",
    "\n",
    "3) Wenn es sich bei dem Stimulus um einen Mensch handelt, ist die Reaktionszeit niedriger im Vergleich zu Trials mit Greebles.\n",
    "\n",
    "4) Wenn es sich bei dem Stimulus um einen Mensch handelt, ist die Treffsicherheit verbessert im Vergleich zu Trials mit Greebles.\n",
    "\n",
    "5) Es gibt einen Interaktionseffekt zwischen Typ des Stimulus und Kongruenz der Blickrichtung bezüglich der RT\n",
    "\n",
    "6) Es gibt einen Interaktionseffekt zwischen Typ des Stimulus und Kongruenz der Blickrichtung bezüglich der Accuracy\n",
    "\n",
    "Um diese Hypothesen zu prüfen, wurden die folgenden 4 Bedingungen formuliert:\n",
    "- Linkes Bild mit Blick nach rechts und rechtes Bild mit Blick nach links (kongruente Bedingung)\n",
    "- Linkes Bild mit Blick nach links und rechtes Bild mit Blick nach links (inkongruente Bedingung)\n",
    "- Linkes Bild mit Blick nach links und rechtes Bild mit Blick nach rechts (inkongruente Bedingung)\n",
    "- Linkes Bild mit Blick nach rechts und rechtes Bild mit Blick nach rechts (inkongruente Bedingung)\n",
    "\n",
    "Jede dieser 4 Bedingungen gab es sowohl für Stimulus Mensch, als auch für Stimulus Greeble, wodurch ingesamt 8 Trials für einen Block entstanden. Das Experiment bestand aus 4 mal 8 Trials, wobei randomisiert war, in welcher Reihenfolge die Bedingungen innerhalb eines Blocks vorkamen.\n",
    "Die Aufgabe der Probanden war es, die Art des Stimulus durch Tastendruck anzugeben, wobei y für einen menschlichen und m für einen Greeble Stimulus gedrückt werden sollte. Dabei sollte so schnell und so genau wie möglich geantwortet werden."
   ]
  },
  {
   "cell_type": "code",
   "execution_count": 1,
   "metadata": {},
   "outputs": [],
   "source": [
    "#Importieren von Pandas\n",
    "#Importieren des T-Tests von Psychopy\n",
    "\n",
    "%matplotlib inline\n",
    "import pandas as pd\n",
    "from scipy.stats import ttest_ind"
   ]
  },
  {
   "cell_type": "code",
   "execution_count": 2,
   "metadata": {},
   "outputs": [],
   "source": [
    "#Importieren der Datensätze, sowie Ausschluss der Trials mit Reaktionszeiten <100ms und >2s\n",
    "\n",
    "from glob import glob\n",
    "all_dfs = list()\n",
    "for ii, file in enumerate (glob(\"./csv/*\")):\n",
    "    if file.endswith(\".csv\"):\n",
    "        try:\n",
    "            df = pd.read_csv(file)\n",
    "            df = df.query(\"100 < response_time < 2000\")\n",
    "            all_dfs.append(df)\n",
    "        except Exception:\n",
    "            pass\n",
    "df = pd.concat(all_dfs)"
   ]
  },
  {
   "cell_type": "code",
   "execution_count": 3,
   "metadata": {},
   "outputs": [
    {
     "data": {
      "text/html": [
       "<div>\n",
       "<style scoped>\n",
       "    .dataframe tbody tr th:only-of-type {\n",
       "        vertical-align: middle;\n",
       "    }\n",
       "\n",
       "    .dataframe tbody tr th {\n",
       "        vertical-align: top;\n",
       "    }\n",
       "\n",
       "    .dataframe thead th {\n",
       "        text-align: right;\n",
       "    }\n",
       "</style>\n",
       "<table border=\"1\" class=\"dataframe\">\n",
       "  <thead>\n",
       "    <tr style=\"text-align: right;\">\n",
       "      <th></th>\n",
       "      <th>congruency</th>\n",
       "      <th>correct_response</th>\n",
       "      <th>response</th>\n",
       "      <th>response_time</th>\n",
       "      <th>subject_nr</th>\n",
       "      <th>type</th>\n",
       "    </tr>\n",
       "  </thead>\n",
       "  <tbody>\n",
       "    <tr>\n",
       "      <th>1</th>\n",
       "      <td>0</td>\n",
       "      <td>y</td>\n",
       "      <td>y</td>\n",
       "      <td>359.418588</td>\n",
       "      <td>3</td>\n",
       "      <td>Human</td>\n",
       "    </tr>\n",
       "    <tr>\n",
       "      <th>2</th>\n",
       "      <td>1</td>\n",
       "      <td>y</td>\n",
       "      <td>m</td>\n",
       "      <td>251.538913</td>\n",
       "      <td>3</td>\n",
       "      <td>Human</td>\n",
       "    </tr>\n",
       "    <tr>\n",
       "      <th>3</th>\n",
       "      <td>0</td>\n",
       "      <td>y</td>\n",
       "      <td>y</td>\n",
       "      <td>318.610002</td>\n",
       "      <td>3</td>\n",
       "      <td>Human</td>\n",
       "    </tr>\n",
       "    <tr>\n",
       "      <th>4</th>\n",
       "      <td>0</td>\n",
       "      <td>y</td>\n",
       "      <td>y</td>\n",
       "      <td>304.901065</td>\n",
       "      <td>3</td>\n",
       "      <td>Human</td>\n",
       "    </tr>\n",
       "    <tr>\n",
       "      <th>5</th>\n",
       "      <td>0</td>\n",
       "      <td>m</td>\n",
       "      <td>m</td>\n",
       "      <td>377.023761</td>\n",
       "      <td>3</td>\n",
       "      <td>Greeble</td>\n",
       "    </tr>\n",
       "  </tbody>\n",
       "</table>\n",
       "</div>"
      ],
      "text/plain": [
       "   congruency correct_response response  response_time  subject_nr     type\n",
       "1           0                y        y     359.418588           3    Human\n",
       "2           1                y        m     251.538913           3    Human\n",
       "3           0                y        y     318.610002           3    Human\n",
       "4           0                y        y     304.901065           3    Human\n",
       "5           0                m        m     377.023761           3  Greeble"
      ]
     },
     "execution_count": 3,
     "metadata": {},
     "output_type": "execute_result"
    }
   ],
   "source": [
    "#Ausschluss der Daten, die für die weiteren Berechnungen irrelevant sind bzw. Einschluss der folgenden Spalten:\n",
    "#1) Kongruenz der Blickrichtung der Stimuli (congruency), 1=kongruent, 0=inkongruent\n",
    "#2) Korrekte Antwort im entsprechenden Trial (correct_response), y=Mensch, m =Greeble\n",
    "#3) Gegebene Antwort im entsprechenden Trial (response)\n",
    "#4) Reaktionszeit (response_time)\n",
    "#5) Probandennummer (subject_nr)\n",
    "#6) Typ des Stimulus (type), Human=Mensch, Greeble=Greeble\n",
    "\n",
    "col_list = [\"congruency\", \"correct_response\", \"response\", \"response_time\", \"subject_nr\", \"type\"]\n",
    "df = df[col_list]\n",
    "df.head()"
   ]
  },
  {
   "cell_type": "code",
   "execution_count": 4,
   "metadata": {},
   "outputs": [
    {
     "data": {
      "text/html": [
       "<div>\n",
       "<style scoped>\n",
       "    .dataframe tbody tr th:only-of-type {\n",
       "        vertical-align: middle;\n",
       "    }\n",
       "\n",
       "    .dataframe tbody tr th {\n",
       "        vertical-align: top;\n",
       "    }\n",
       "\n",
       "    .dataframe thead th {\n",
       "        text-align: right;\n",
       "    }\n",
       "</style>\n",
       "<table border=\"1\" class=\"dataframe\">\n",
       "  <thead>\n",
       "    <tr style=\"text-align: right;\">\n",
       "      <th></th>\n",
       "      <th>congruency</th>\n",
       "      <th>correct_response</th>\n",
       "      <th>response</th>\n",
       "      <th>response_time</th>\n",
       "      <th>subject_nr</th>\n",
       "      <th>type</th>\n",
       "    </tr>\n",
       "  </thead>\n",
       "  <tbody>\n",
       "    <tr>\n",
       "      <th>1</th>\n",
       "      <td>0</td>\n",
       "      <td>y</td>\n",
       "      <td>y</td>\n",
       "      <td>359.418588</td>\n",
       "      <td>3</td>\n",
       "      <td>0</td>\n",
       "    </tr>\n",
       "    <tr>\n",
       "      <th>2</th>\n",
       "      <td>1</td>\n",
       "      <td>y</td>\n",
       "      <td>m</td>\n",
       "      <td>251.538913</td>\n",
       "      <td>3</td>\n",
       "      <td>0</td>\n",
       "    </tr>\n",
       "    <tr>\n",
       "      <th>3</th>\n",
       "      <td>0</td>\n",
       "      <td>y</td>\n",
       "      <td>y</td>\n",
       "      <td>318.610002</td>\n",
       "      <td>3</td>\n",
       "      <td>0</td>\n",
       "    </tr>\n",
       "    <tr>\n",
       "      <th>4</th>\n",
       "      <td>0</td>\n",
       "      <td>y</td>\n",
       "      <td>y</td>\n",
       "      <td>304.901065</td>\n",
       "      <td>3</td>\n",
       "      <td>0</td>\n",
       "    </tr>\n",
       "    <tr>\n",
       "      <th>5</th>\n",
       "      <td>0</td>\n",
       "      <td>m</td>\n",
       "      <td>m</td>\n",
       "      <td>377.023761</td>\n",
       "      <td>3</td>\n",
       "      <td>1</td>\n",
       "    </tr>\n",
       "  </tbody>\n",
       "</table>\n",
       "</div>"
      ],
      "text/plain": [
       "   congruency correct_response response  response_time  subject_nr  type\n",
       "1           0                y        y     359.418588           3     0\n",
       "2           1                y        m     251.538913           3     0\n",
       "3           0                y        y     318.610002           3     0\n",
       "4           0                y        y     304.901065           3     0\n",
       "5           0                m        m     377.023761           3     1"
      ]
     },
     "execution_count": 4,
     "metadata": {},
     "output_type": "execute_result"
    }
   ],
   "source": [
    "#Ersetzen der Typbezeichnungen \"Human\" und \"Greeble\" durch die Werte 0 und 1\n",
    "df=df.replace(\"Human\", 0)\n",
    "df=df.replace(\"Greeble\", 1)\n",
    "df.head()"
   ]
  },
  {
   "cell_type": "code",
   "execution_count": 5,
   "metadata": {},
   "outputs": [
    {
     "data": {
      "text/html": [
       "<div>\n",
       "<style scoped>\n",
       "    .dataframe tbody tr th:only-of-type {\n",
       "        vertical-align: middle;\n",
       "    }\n",
       "\n",
       "    .dataframe tbody tr th {\n",
       "        vertical-align: top;\n",
       "    }\n",
       "\n",
       "    .dataframe thead th {\n",
       "        text-align: right;\n",
       "    }\n",
       "</style>\n",
       "<table border=\"1\" class=\"dataframe\">\n",
       "  <thead>\n",
       "    <tr style=\"text-align: right;\">\n",
       "      <th></th>\n",
       "      <th>congruency</th>\n",
       "      <th>correct_response</th>\n",
       "      <th>response</th>\n",
       "      <th>response_time</th>\n",
       "      <th>subject_nr</th>\n",
       "      <th>type</th>\n",
       "      <th>accuracy</th>\n",
       "    </tr>\n",
       "  </thead>\n",
       "  <tbody>\n",
       "    <tr>\n",
       "      <th>1</th>\n",
       "      <td>0</td>\n",
       "      <td>y</td>\n",
       "      <td>y</td>\n",
       "      <td>359.418588</td>\n",
       "      <td>3</td>\n",
       "      <td>0</td>\n",
       "      <td>True</td>\n",
       "    </tr>\n",
       "    <tr>\n",
       "      <th>2</th>\n",
       "      <td>1</td>\n",
       "      <td>y</td>\n",
       "      <td>m</td>\n",
       "      <td>251.538913</td>\n",
       "      <td>3</td>\n",
       "      <td>0</td>\n",
       "      <td>False</td>\n",
       "    </tr>\n",
       "    <tr>\n",
       "      <th>3</th>\n",
       "      <td>0</td>\n",
       "      <td>y</td>\n",
       "      <td>y</td>\n",
       "      <td>318.610002</td>\n",
       "      <td>3</td>\n",
       "      <td>0</td>\n",
       "      <td>True</td>\n",
       "    </tr>\n",
       "    <tr>\n",
       "      <th>4</th>\n",
       "      <td>0</td>\n",
       "      <td>y</td>\n",
       "      <td>y</td>\n",
       "      <td>304.901065</td>\n",
       "      <td>3</td>\n",
       "      <td>0</td>\n",
       "      <td>True</td>\n",
       "    </tr>\n",
       "    <tr>\n",
       "      <th>5</th>\n",
       "      <td>0</td>\n",
       "      <td>m</td>\n",
       "      <td>m</td>\n",
       "      <td>377.023761</td>\n",
       "      <td>3</td>\n",
       "      <td>1</td>\n",
       "      <td>True</td>\n",
       "    </tr>\n",
       "  </tbody>\n",
       "</table>\n",
       "</div>"
      ],
      "text/plain": [
       "   congruency correct_response response  response_time  subject_nr  type  \\\n",
       "1           0                y        y     359.418588           3     0   \n",
       "2           1                y        m     251.538913           3     0   \n",
       "3           0                y        y     318.610002           3     0   \n",
       "4           0                y        y     304.901065           3     0   \n",
       "5           0                m        m     377.023761           3     1   \n",
       "\n",
       "   accuracy  \n",
       "1      True  \n",
       "2     False  \n",
       "3      True  \n",
       "4      True  \n",
       "5      True  "
      ]
     },
     "execution_count": 5,
     "metadata": {},
     "output_type": "execute_result"
    }
   ],
   "source": [
    "#Erstellen einer neuen Spalte (accuracy) im Datensatz für korrekte bzw. nicht korrekte Antwort\n",
    "#True=korrekte Antwort, False=nicht korrekte Antwort\n",
    "is_corr = df[\"correct_response\"] == df[\"response\"]\n",
    "df[\"accuracy\"] = is_corr\n",
    "df.head()"
   ]
  },
  {
   "cell_type": "code",
   "execution_count": 6,
   "metadata": {},
   "outputs": [
    {
     "data": {
      "text/html": [
       "<div>\n",
       "<style scoped>\n",
       "    .dataframe tbody tr th:only-of-type {\n",
       "        vertical-align: middle;\n",
       "    }\n",
       "\n",
       "    .dataframe tbody tr th {\n",
       "        vertical-align: top;\n",
       "    }\n",
       "\n",
       "    .dataframe thead th {\n",
       "        text-align: right;\n",
       "    }\n",
       "</style>\n",
       "<table border=\"1\" class=\"dataframe\">\n",
       "  <thead>\n",
       "    <tr style=\"text-align: right;\">\n",
       "      <th></th>\n",
       "      <th>subject_nr</th>\n",
       "      <th>type</th>\n",
       "      <th>congruency</th>\n",
       "      <th>response_time</th>\n",
       "      <th>accuracy</th>\n",
       "    </tr>\n",
       "  </thead>\n",
       "  <tbody>\n",
       "    <tr>\n",
       "      <th>0</th>\n",
       "      <td>1</td>\n",
       "      <td>0</td>\n",
       "      <td>0</td>\n",
       "      <td>318.337434</td>\n",
       "      <td>1.000000</td>\n",
       "    </tr>\n",
       "    <tr>\n",
       "      <th>1</th>\n",
       "      <td>1</td>\n",
       "      <td>0</td>\n",
       "      <td>1</td>\n",
       "      <td>308.359801</td>\n",
       "      <td>0.875000</td>\n",
       "    </tr>\n",
       "    <tr>\n",
       "      <th>2</th>\n",
       "      <td>1</td>\n",
       "      <td>1</td>\n",
       "      <td>0</td>\n",
       "      <td>345.395721</td>\n",
       "      <td>0.875000</td>\n",
       "    </tr>\n",
       "    <tr>\n",
       "      <th>3</th>\n",
       "      <td>1</td>\n",
       "      <td>1</td>\n",
       "      <td>1</td>\n",
       "      <td>320.939416</td>\n",
       "      <td>0.875000</td>\n",
       "    </tr>\n",
       "    <tr>\n",
       "      <th>4</th>\n",
       "      <td>2</td>\n",
       "      <td>0</td>\n",
       "      <td>0</td>\n",
       "      <td>304.262685</td>\n",
       "      <td>0.958333</td>\n",
       "    </tr>\n",
       "    <tr>\n",
       "      <th>5</th>\n",
       "      <td>2</td>\n",
       "      <td>0</td>\n",
       "      <td>1</td>\n",
       "      <td>292.407102</td>\n",
       "      <td>0.875000</td>\n",
       "    </tr>\n",
       "    <tr>\n",
       "      <th>6</th>\n",
       "      <td>2</td>\n",
       "      <td>1</td>\n",
       "      <td>0</td>\n",
       "      <td>301.359499</td>\n",
       "      <td>0.833333</td>\n",
       "    </tr>\n",
       "    <tr>\n",
       "      <th>7</th>\n",
       "      <td>2</td>\n",
       "      <td>1</td>\n",
       "      <td>1</td>\n",
       "      <td>296.220701</td>\n",
       "      <td>1.000000</td>\n",
       "    </tr>\n",
       "    <tr>\n",
       "      <th>8</th>\n",
       "      <td>3</td>\n",
       "      <td>0</td>\n",
       "      <td>0</td>\n",
       "      <td>366.945719</td>\n",
       "      <td>0.875000</td>\n",
       "    </tr>\n",
       "    <tr>\n",
       "      <th>9</th>\n",
       "      <td>3</td>\n",
       "      <td>0</td>\n",
       "      <td>1</td>\n",
       "      <td>366.573448</td>\n",
       "      <td>0.750000</td>\n",
       "    </tr>\n",
       "    <tr>\n",
       "      <th>10</th>\n",
       "      <td>3</td>\n",
       "      <td>1</td>\n",
       "      <td>0</td>\n",
       "      <td>395.369561</td>\n",
       "      <td>0.913043</td>\n",
       "    </tr>\n",
       "    <tr>\n",
       "      <th>11</th>\n",
       "      <td>3</td>\n",
       "      <td>1</td>\n",
       "      <td>1</td>\n",
       "      <td>369.478173</td>\n",
       "      <td>0.875000</td>\n",
       "    </tr>\n",
       "    <tr>\n",
       "      <th>12</th>\n",
       "      <td>4</td>\n",
       "      <td>0</td>\n",
       "      <td>0</td>\n",
       "      <td>504.251420</td>\n",
       "      <td>1.000000</td>\n",
       "    </tr>\n",
       "    <tr>\n",
       "      <th>13</th>\n",
       "      <td>4</td>\n",
       "      <td>0</td>\n",
       "      <td>1</td>\n",
       "      <td>468.481599</td>\n",
       "      <td>1.000000</td>\n",
       "    </tr>\n",
       "    <tr>\n",
       "      <th>14</th>\n",
       "      <td>4</td>\n",
       "      <td>1</td>\n",
       "      <td>0</td>\n",
       "      <td>508.033660</td>\n",
       "      <td>1.000000</td>\n",
       "    </tr>\n",
       "    <tr>\n",
       "      <th>15</th>\n",
       "      <td>4</td>\n",
       "      <td>1</td>\n",
       "      <td>1</td>\n",
       "      <td>442.895485</td>\n",
       "      <td>1.000000</td>\n",
       "    </tr>\n",
       "    <tr>\n",
       "      <th>16</th>\n",
       "      <td>5</td>\n",
       "      <td>0</td>\n",
       "      <td>0</td>\n",
       "      <td>401.010760</td>\n",
       "      <td>0.958333</td>\n",
       "    </tr>\n",
       "    <tr>\n",
       "      <th>17</th>\n",
       "      <td>5</td>\n",
       "      <td>0</td>\n",
       "      <td>1</td>\n",
       "      <td>340.769024</td>\n",
       "      <td>1.000000</td>\n",
       "    </tr>\n",
       "    <tr>\n",
       "      <th>18</th>\n",
       "      <td>5</td>\n",
       "      <td>1</td>\n",
       "      <td>0</td>\n",
       "      <td>372.845878</td>\n",
       "      <td>1.000000</td>\n",
       "    </tr>\n",
       "    <tr>\n",
       "      <th>19</th>\n",
       "      <td>5</td>\n",
       "      <td>1</td>\n",
       "      <td>1</td>\n",
       "      <td>331.467524</td>\n",
       "      <td>1.000000</td>\n",
       "    </tr>\n",
       "  </tbody>\n",
       "</table>\n",
       "</div>"
      ],
      "text/plain": [
       "    subject_nr  type  congruency  response_time  accuracy\n",
       "0            1     0           0     318.337434  1.000000\n",
       "1            1     0           1     308.359801  0.875000\n",
       "2            1     1           0     345.395721  0.875000\n",
       "3            1     1           1     320.939416  0.875000\n",
       "4            2     0           0     304.262685  0.958333\n",
       "5            2     0           1     292.407102  0.875000\n",
       "6            2     1           0     301.359499  0.833333\n",
       "7            2     1           1     296.220701  1.000000\n",
       "8            3     0           0     366.945719  0.875000\n",
       "9            3     0           1     366.573448  0.750000\n",
       "10           3     1           0     395.369561  0.913043\n",
       "11           3     1           1     369.478173  0.875000\n",
       "12           4     0           0     504.251420  1.000000\n",
       "13           4     0           1     468.481599  1.000000\n",
       "14           4     1           0     508.033660  1.000000\n",
       "15           4     1           1     442.895485  1.000000\n",
       "16           5     0           0     401.010760  0.958333\n",
       "17           5     0           1     340.769024  1.000000\n",
       "18           5     1           0     372.845878  1.000000\n",
       "19           5     1           1     331.467524  1.000000"
      ]
     },
     "execution_count": 6,
     "metadata": {},
     "output_type": "execute_result"
    }
   ],
   "source": [
    "#Aggregation über die Trials derselben Bedingungen jedes Probanden in einem neuen Datensatz\n",
    "df_by_subj = df.groupby((\"subject_nr\", \"type\", \"congruency\"))[\"response_time\", \"accuracy\"].mean().reset_index()\n",
    "df_by_subj"
   ]
  },
  {
   "cell_type": "markdown",
   "metadata": {},
   "source": [
    "# Deskriptivstatistik"
   ]
  },
  {
   "cell_type": "code",
   "execution_count": 7,
   "metadata": {},
   "outputs": [
    {
     "data": {
      "text/html": [
       "<div>\n",
       "<style scoped>\n",
       "    .dataframe tbody tr th:only-of-type {\n",
       "        vertical-align: middle;\n",
       "    }\n",
       "\n",
       "    .dataframe tbody tr th {\n",
       "        vertical-align: top;\n",
       "    }\n",
       "\n",
       "    .dataframe thead th {\n",
       "        text-align: right;\n",
       "    }\n",
       "</style>\n",
       "<table border=\"1\" class=\"dataframe\">\n",
       "  <thead>\n",
       "    <tr style=\"text-align: right;\">\n",
       "      <th></th>\n",
       "      <th>subject_nr</th>\n",
       "      <th>type</th>\n",
       "      <th>congruency</th>\n",
       "      <th>response_time</th>\n",
       "      <th>accuracy</th>\n",
       "    </tr>\n",
       "  </thead>\n",
       "  <tbody>\n",
       "    <tr>\n",
       "      <th>count</th>\n",
       "      <td>20.000000</td>\n",
       "      <td>20.000000</td>\n",
       "      <td>20.000000</td>\n",
       "      <td>20.000000</td>\n",
       "      <td>20.000000</td>\n",
       "    </tr>\n",
       "    <tr>\n",
       "      <th>mean</th>\n",
       "      <td>3.000000</td>\n",
       "      <td>0.500000</td>\n",
       "      <td>0.500000</td>\n",
       "      <td>367.770230</td>\n",
       "      <td>0.933152</td>\n",
       "    </tr>\n",
       "    <tr>\n",
       "      <th>std</th>\n",
       "      <td>1.450953</td>\n",
       "      <td>0.512989</td>\n",
       "      <td>0.512989</td>\n",
       "      <td>67.254975</td>\n",
       "      <td>0.074583</td>\n",
       "    </tr>\n",
       "    <tr>\n",
       "      <th>min</th>\n",
       "      <td>1.000000</td>\n",
       "      <td>0.000000</td>\n",
       "      <td>0.000000</td>\n",
       "      <td>292.407102</td>\n",
       "      <td>0.750000</td>\n",
       "    </tr>\n",
       "    <tr>\n",
       "      <th>25%</th>\n",
       "      <td>2.000000</td>\n",
       "      <td>0.000000</td>\n",
       "      <td>0.000000</td>\n",
       "      <td>315.843026</td>\n",
       "      <td>0.875000</td>\n",
       "    </tr>\n",
       "    <tr>\n",
       "      <th>50%</th>\n",
       "      <td>3.000000</td>\n",
       "      <td>0.500000</td>\n",
       "      <td>0.500000</td>\n",
       "      <td>355.984585</td>\n",
       "      <td>0.958333</td>\n",
       "    </tr>\n",
       "    <tr>\n",
       "      <th>75%</th>\n",
       "      <td>4.000000</td>\n",
       "      <td>1.000000</td>\n",
       "      <td>1.000000</td>\n",
       "      <td>396.779861</td>\n",
       "      <td>1.000000</td>\n",
       "    </tr>\n",
       "    <tr>\n",
       "      <th>max</th>\n",
       "      <td>5.000000</td>\n",
       "      <td>1.000000</td>\n",
       "      <td>1.000000</td>\n",
       "      <td>508.033660</td>\n",
       "      <td>1.000000</td>\n",
       "    </tr>\n",
       "  </tbody>\n",
       "</table>\n",
       "</div>"
      ],
      "text/plain": [
       "       subject_nr       type  congruency  response_time   accuracy\n",
       "count   20.000000  20.000000   20.000000      20.000000  20.000000\n",
       "mean     3.000000   0.500000    0.500000     367.770230   0.933152\n",
       "std      1.450953   0.512989    0.512989      67.254975   0.074583\n",
       "min      1.000000   0.000000    0.000000     292.407102   0.750000\n",
       "25%      2.000000   0.000000    0.000000     315.843026   0.875000\n",
       "50%      3.000000   0.500000    0.500000     355.984585   0.958333\n",
       "75%      4.000000   1.000000    1.000000     396.779861   1.000000\n",
       "max      5.000000   1.000000    1.000000     508.033660   1.000000"
      ]
     },
     "execution_count": 7,
     "metadata": {},
     "output_type": "execute_result"
    }
   ],
   "source": [
    "df_by_subj.describe()"
   ]
  },
  {
   "cell_type": "code",
   "execution_count": 8,
   "metadata": {},
   "outputs": [
    {
     "data": {
      "text/html": [
       "<div>\n",
       "<style scoped>\n",
       "    .dataframe tbody tr th:only-of-type {\n",
       "        vertical-align: middle;\n",
       "    }\n",
       "\n",
       "    .dataframe tbody tr th {\n",
       "        vertical-align: top;\n",
       "    }\n",
       "\n",
       "    .dataframe thead th {\n",
       "        text-align: right;\n",
       "    }\n",
       "</style>\n",
       "<table border=\"1\" class=\"dataframe\">\n",
       "  <thead>\n",
       "    <tr style=\"text-align: right;\">\n",
       "      <th></th>\n",
       "      <th></th>\n",
       "      <th>response_time</th>\n",
       "      <th>accuracy</th>\n",
       "    </tr>\n",
       "    <tr>\n",
       "      <th>congruency</th>\n",
       "      <th>type</th>\n",
       "      <th></th>\n",
       "      <th></th>\n",
       "    </tr>\n",
       "  </thead>\n",
       "  <tbody>\n",
       "    <tr>\n",
       "      <th rowspan=\"2\" valign=\"top\">0</th>\n",
       "      <th>0</th>\n",
       "      <td>378.961604</td>\n",
       "      <td>0.958333</td>\n",
       "    </tr>\n",
       "    <tr>\n",
       "      <th>1</th>\n",
       "      <td>384.510371</td>\n",
       "      <td>0.924370</td>\n",
       "    </tr>\n",
       "    <tr>\n",
       "      <th rowspan=\"2\" valign=\"top\">1</th>\n",
       "      <th>0</th>\n",
       "      <td>352.416569</td>\n",
       "      <td>0.897436</td>\n",
       "    </tr>\n",
       "    <tr>\n",
       "      <th>1</th>\n",
       "      <td>349.874741</td>\n",
       "      <td>0.948718</td>\n",
       "    </tr>\n",
       "  </tbody>\n",
       "</table>\n",
       "</div>"
      ],
      "text/plain": [
       "                 response_time  accuracy\n",
       "congruency type                         \n",
       "0          0        378.961604  0.958333\n",
       "           1        384.510371  0.924370\n",
       "1          0        352.416569  0.897436\n",
       "           1        349.874741  0.948718"
      ]
     },
     "execution_count": 8,
     "metadata": {},
     "output_type": "execute_result"
    }
   ],
   "source": [
    "rt_cond = df.groupby([\"congruency\", \"type\"])[\"response_time\", \"accuracy\"]\n",
    "rt_cond.mean()"
   ]
  },
  {
   "cell_type": "code",
   "execution_count": 9,
   "metadata": {},
   "outputs": [
    {
     "data": {
      "text/plain": [
       "<matplotlib.axes._subplots.AxesSubplot at 0x1c18331668>"
      ]
     },
     "execution_count": 9,
     "metadata": {},
     "output_type": "execute_result"
    },
    {
     "data": {
      "image/png": "[encoded data removed]",
      "text/plain": [
       "<Figure size 432x288 with 1 Axes>"
      ]
     },
     "metadata": {
      "image/png": {
       "height": 253,
       "width": 378
      }
     },
     "output_type": "display_data"
    }
   ],
   "source": [
    "#Histogramm zur Veranschaulichung der Verteilung der Reaktionszeiten\n",
    "df[\"response_time\"].hist(bins = 30)"
   ]
  },
  {
   "cell_type": "code",
   "execution_count": 10,
   "metadata": {},
   "outputs": [
    {
     "data": {
      "text/plain": [
       "array([[<matplotlib.axes._subplots.AxesSubplot object at 0x1c1839e358>,\n",
       "        <matplotlib.axes._subplots.AxesSubplot object at 0x1c183d70b8>]],\n",
       "      dtype=object)"
      ]
     },
     "execution_count": 10,
     "metadata": {},
     "output_type": "execute_result"
    },
    {
     "data": {
      "image/png": "[encoded data removed]",
      "text/plain": [
       "<Figure size 432x288 with 2 Axes>"
      ]
     },
     "metadata": {
      "image/png": {
       "height": 265,
       "width": 367
      }
     },
     "output_type": "display_data"
    }
   ],
   "source": [
    "#Histogramm zur Veranschaulichung der aggregierten Daten hinsichtlich der Reaktionszeit (links) und der Treffsicherheit (rechts)\n",
    "df_by_subj[[\"response_time\", \"accuracy\"]].hist()"
   ]
  },
  {
   "cell_type": "markdown",
   "metadata": {},
   "source": [
    "# T-Tests"
   ]
  },
  {
   "cell_type": "code",
   "execution_count": 11,
   "metadata": {},
   "outputs": [
    {
     "data": {
      "text/plain": [
       "Ttest_indResult(statistic=0.9282676379723378, pvalue=0.3655501414527432)"
      ]
     },
     "execution_count": 11,
     "metadata": {},
     "output_type": "execute_result"
    }
   ],
   "source": [
    "#Definieren von zwei Subsamples mit kongruenter Blickrichtung und inkongruenter Blickrichtung bzgl. der Reaktionszeit\n",
    "blickr_incongr = df_by_subj.query(\"congruency == 0\")[\"response_time\"]\n",
    "blickr_congr = df_by_subj.query(\"congruency == 1\")[\"response_time\"]\n",
    "\n",
    "#T-Test für Gruppen mit kongruenter und nicht kongruente Blickrichtung; Hypothese 1:\n",
    "#\"Wenn sich die Stimuli ansehen, ist die Reaktionszeit niedriger im Vergleich zu Trials mit sich nicht ansehenden Stimuli\"\n",
    "#t-Test nicht notwendig, aber zur ersten Veranschaulichung gerechnet\n",
    "ttest_ind(blickr_incongr, blickr_congr)"
   ]
  },
  {
   "cell_type": "markdown",
   "metadata": {},
   "source": [
    "Mit einem t-Wert von 0,93 und einem p-Wert von 0,27 ist der Unterschied zwischen den beiden Gruppen nicht signifikant. Die Blickrichtung der Stimuli hat somit keinen signifikanten Einfluss auf die Reaktionszeit."
   ]
  },
  {
   "cell_type": "code",
   "execution_count": 12,
   "metadata": {},
   "outputs": [
    {
     "data": {
      "text/plain": [
       "<matplotlib.axes._subplots.AxesSubplot at 0x1c1842ca58>"
      ]
     },
     "execution_count": 12,
     "metadata": {},
     "output_type": "execute_result"
    },
    {
     "data": {
      "image/png": "[encoded data removed]",
      "text/plain": [
       "<Figure size 432x288 with 1 Axes>"
      ]
     },
     "metadata": {
      "image/png": {
       "height": 263,
       "width": 378
      }
     },
     "output_type": "display_data"
    }
   ],
   "source": [
    "#Balkendiagramm zur Hypothese 1\n",
    "rt_blickr = df_by_subj.groupby(\"congruency\").mean()[\"response_time\"]\n",
    "rt_blickr.plot(kind = \"bar\")"
   ]
  },
  {
   "cell_type": "markdown",
   "metadata": {},
   "source": [
    "In dem Histogramm ist eine leichte Tendenz zu einer schnelleren Reaktionszeit bei sich ansehenden Stimuli (congruency = 1) zu erkennen, was der Hypothese 1 entspricht."
   ]
  },
  {
   "cell_type": "code",
   "execution_count": 13,
   "metadata": {},
   "outputs": [
    {
     "data": {
      "text/plain": [
       "Ttest_indResult(statistic=0.4788046930750817, pvalue=0.6378422828120757)"
      ]
     },
     "execution_count": 13,
     "metadata": {},
     "output_type": "execute_result"
    }
   ],
   "source": [
    "#Definieren von zwei weiteren Subsamples mit kongruenter Blickrichtung und inkongruenter Blickrichtung bzgl. der Treffsicherheit (accuracy)\n",
    "blickr_incongr = df_by_subj.query(\"congruency == 0\")[\"accuracy\"]\n",
    "blickr_congr = df_by_subj.query(\"congruency == 1\")[\"accuracy\"]\n",
    "\n",
    "#T-Test für Gruppen kongruente und nicht kongruente Bedingung; Hypothese 2:\n",
    "ttest_ind(blickr_incongr, blickr_congr)"
   ]
  },
  {
   "cell_type": "markdown",
   "metadata": {},
   "source": [
    "Mit einem t-Wert von 0,48 und einem p-Wert von 0,63 ist der Unterschied zwischen den beiden Gruppen nicht signifikant. Die Blickrichtung der Stimuli hat somit keinen signifikanten Einfluss auf die Treffsicherheit."
   ]
  },
  {
   "cell_type": "code",
   "execution_count": 14,
   "metadata": {},
   "outputs": [
    {
     "data": {
      "text/plain": [
       "<matplotlib.axes._subplots.AxesSubplot at 0x1c184c5f98>"
      ]
     },
     "execution_count": 14,
     "metadata": {},
     "output_type": "execute_result"
    },
    {
     "data": {
      "image/png": "[encoded data removed]",
      "text/plain": [
       "<Figure size 432x288 with 1 Axes>"
      ]
     },
     "metadata": {
      "image/png": {
       "height": 263,
       "width": 375
      }
     },
     "output_type": "display_data"
    }
   ],
   "source": [
    "#Balkendiagramm zu Hypothese 2\n",
    "acc_blickr = df_by_subj.groupby(\"congruency\").mean()[\"accuracy\"]\n",
    "acc_blickr.plot(kind = \"bar\")"
   ]
  },
  {
   "cell_type": "markdown",
   "metadata": {},
   "source": [
    "Hier ist keine augenscheinliche Tendenz zu erkennen."
   ]
  },
  {
   "cell_type": "code",
   "execution_count": 15,
   "metadata": {},
   "outputs": [
    {
     "data": {
      "text/plain": [
       "Ttest_indResult(statistic=-0.040798008743612814, pvalue=0.9679060554408625)"
      ]
     },
     "execution_count": 15,
     "metadata": {},
     "output_type": "execute_result"
    }
   ],
   "source": [
    "#Definieren von zwei Subsamples mit Stimulus \"Mensch\" und \"Greeble\" bzgl. der Reaktionszeit\n",
    "type_human = df_by_subj.query(\"type == 0\")[\"response_time\"]\n",
    "type_greeble = df_by_subj.query(\"type == 1\")[\"response_time\"]\n",
    "\n",
    "#T-Test für Gruppen mit Stimulus \"Mensch\" und Stimulus \"Greeble\" hinsichtlich der Reaktionszeit; Hypothese 3:\n",
    "#\"Wenn es sich bei dem Stimulus um einen Mensch handelt, ist die RT niedriger\"\n",
    "#t-Test nicht notwendig, aber zur ersten Veranschaulichung gerechnet\n",
    "ttest_ind(type_human, type_greeble)"
   ]
  },
  {
   "cell_type": "markdown",
   "metadata": {},
   "source": [
    "Mit einem t-Wert von 0,41 und einem p-Wert von 0,97 ist der Unterschied zwischen den beiden Gruppen nicht signifikant. Die Art des Stimulus hat somit keinen signifikanten Einfluss auf die Reaktionszeit."
   ]
  },
  {
   "cell_type": "code",
   "execution_count": 16,
   "metadata": {},
   "outputs": [
    {
     "data": {
      "text/plain": [
       "<matplotlib.axes._subplots.AxesSubplot at 0x1c2198e278>"
      ]
     },
     "execution_count": 16,
     "metadata": {},
     "output_type": "execute_result"
    },
    {
     "data": {
      "image/png": "[encoded data removed]",
      "text/plain": [
       "<Figure size 432x288 with 1 Axes>"
      ]
     },
     "metadata": {
      "image/png": {
       "height": 263,
       "width": 378
      }
     },
     "output_type": "display_data"
    }
   ],
   "source": [
    "#Balkendiagramm zur Hypothese 3:\n",
    "rt_type = df_by_subj.groupby(\"type\").mean()[\"response_time\"]\n",
    "rt_type.plot(kind = \"bar\")"
   ]
  },
  {
   "cell_type": "code",
   "execution_count": 17,
   "metadata": {},
   "outputs": [
    {
     "data": {
      "text/plain": [
       "Ttest_indResult(statistic=-0.23295608936194065, pvalue=0.8184239572136915)"
      ]
     },
     "execution_count": 17,
     "metadata": {},
     "output_type": "execute_result"
    }
   ],
   "source": [
    "#Definieren von zwei Subsamples mit Stimulus \"Mensch\" und \"Greeble\" bzgl. der Treffsicherheit\n",
    "type_human = df_by_subj.query(\"type == 0\")[\"accuracy\"]\n",
    "type_greeble = df_by_subj.query(\"type == 1\")[\"accuracy\"]\n",
    "\n",
    "#T-Test für Gruppen mit Stimulus \"Mensch\" und Stimulus \"Greeble\" hinsichtlich der Treffsicherheit; Hypothese 4:\n",
    "#\"Wenn es sich bei dem Stimulus um einen Mensch handelt, ist die Treffsicherheit besser\"\n",
    "ttest_ind(type_human, type_greeble)"
   ]
  },
  {
   "cell_type": "markdown",
   "metadata": {},
   "source": [
    "Mit einem t-Wert von 0,23 und einem p-Wert von 0,82 ist der Unterschied zwischen den beiden Gruppen nicht signifikant. Die Art des Stimulus hat somit keinen signifikanten Einfluss auf die Treffsicherheit."
   ]
  },
  {
   "cell_type": "code",
   "execution_count": 18,
   "metadata": {},
   "outputs": [
    {
     "data": {
      "text/plain": [
       "<matplotlib.axes._subplots.AxesSubplot at 0x1c21b6a400>"
      ]
     },
     "execution_count": 18,
     "metadata": {},
     "output_type": "execute_result"
    },
    {
     "data": {
      "image/png": "[encoded data removed]",
      "text/plain": [
       "<Figure size 432x288 with 1 Axes>"
      ]
     },
     "metadata": {
      "image/png": {
       "height": 263,
       "width": 375
      }
     },
     "output_type": "display_data"
    }
   ],
   "source": [
    "#Balkendiagramm zur Hypothese 4\n",
    "acc_congruency = df_by_subj.groupby(\"congruency\").mean()[\"accuracy\"]\n",
    "acc_congruency.plot(kind = \"bar\")"
   ]
  },
  {
   "cell_type": "markdown",
   "metadata": {},
   "source": [
    "Hier ist augenscheinlich eine leichte Tendenz zu verbesserter Treffsicherheit für kongruente Stimuli zu erkennen."
   ]
  },
  {
   "cell_type": "markdown",
   "metadata": {},
   "source": [
    "# Hypothesentestung"
   ]
  },
  {
   "cell_type": "code",
   "execution_count": 19,
   "metadata": {},
   "outputs": [
    {
     "data": {
      "image/png": "[encoded data removed]",
      "text/plain": [
       "<Figure size 432x288 with 1 Axes>"
      ]
     },
     "metadata": {
      "image/png": {
       "height": 281,
       "width": 378
      }
     },
     "output_type": "display_data"
    },
    {
     "data": {
      "image/png": "[encoded data removed]",
      "text/plain": [
       "<Figure size 344.375x288 with 1 Axes>"
      ]
     },
     "metadata": {
      "image/png": {
       "height": 273,
       "width": 329
      }
     },
     "output_type": "display_data"
    }
   ],
   "source": [
    "#Grafische Darstellung aller vier Bedingungen bzgl. der Reaktionszeit\n",
    "#Congruency: 0 = inkongruente Bedingung, 1 = kongruente Bedingung\n",
    "#Type: 0 = Greeble, 1 = Mensch\n",
    "\n",
    "rt_cond = df.groupby([\"congruency\", \"type\"])[\"response_time\"]\n",
    "rt_cond.mean().plot(kind=\"bar\", ylim = [300,450])\n",
    "\n",
    "import seaborn as sns\n",
    "sns.set(style=\"ticks\")\n",
    "g = sns.factorplot(x=\"type\", y=\"response_time\", hue = \"congruency\", data=df)"
   ]
  },
  {
   "cell_type": "markdown",
   "metadata": {},
   "source": [
    "Augenscheinlich ist eine Tendenz zu verbesserter Reaktionszeit bei kongruenten Stimuli zu erkennen, wobei sich die Art des Stimulus nicht auf diesen Effekt auszuwirken scheint."
   ]
  },
  {
   "cell_type": "code",
   "execution_count": 20,
   "metadata": {},
   "outputs": [
    {
     "data": {
      "text/html": [
       "<table class=\"simpletable\">\n",
       "<tr>\n",
       "       <td>Model:</td>       <td>MixedLM</td> <td>Dependent Variable:</td> <td>np.log(response_time)</td>\n",
       "</tr>\n",
       "<tr>\n",
       "  <td>No. Observations:</td>   <td>317</td>         <td>Method:</td>               <td>REML</td>         \n",
       "</tr>\n",
       "<tr>\n",
       "     <td>No. Groups:</td>       <td>5</td>          <td>Scale:</td>               <td>0.0548</td>        \n",
       "</tr>\n",
       "<tr>\n",
       "  <td>Min. group size:</td>    <td>62</td>        <td>Likelihood:</td>            <td>-5.0376</td>       \n",
       "</tr>\n",
       "<tr>\n",
       "  <td>Max. group size:</td>    <td>64</td>        <td>Converged:</td>               <td>Yes</td>         \n",
       "</tr>\n",
       "<tr>\n",
       "  <td>Mean group size:</td>   <td>63.4</td>            <td></td>                     <td></td>           \n",
       "</tr>\n",
       "</table>\n",
       "<table class=\"simpletable\">\n",
       "<tr>\n",
       "         <td></td>          <th>Coef.</th> <th>Std.Err.</th>    <th>z</th>   <th>P>|z|</th> <th>[0.025</th> <th>0.975]</th>\n",
       "</tr>\n",
       "<tr>\n",
       "  <th>Intercept</th>        <td>5.881</td>   <td>0.079</td>  <td>74.810</td> <td>0.000</td>  <td>5.727</td>  <td>6.036</td>\n",
       "</tr>\n",
       "<tr>\n",
       "  <th>congruency</th>      <td>-0.036</td>   <td>0.043</td>  <td>-0.834</td> <td>0.404</td> <td>-0.121</td>  <td>0.049</td>\n",
       "</tr>\n",
       "<tr>\n",
       "  <th>type</th>             <td>0.024</td>   <td>0.030</td>   <td>0.786</td> <td>0.432</td> <td>-0.036</td>  <td>0.083</td>\n",
       "</tr>\n",
       "<tr>\n",
       "  <th>congruency:type</th> <td>-0.031</td>   <td>0.061</td>  <td>-0.503</td> <td>0.615</td> <td>-0.150</td>  <td>0.089</td>\n",
       "</tr>\n",
       "<tr>\n",
       "  <th>groups RE</th>        <td>0.029</td>   <td>0.090</td>     <td></td>      <td></td>       <td></td>       <td></td>   \n",
       "</tr>\n",
       "</table>"
      ],
      "text/plain": [
       "<class 'statsmodels.iolib.summary2.Summary'>\n",
       "\"\"\"\n",
       "               Mixed Linear Model Regression Results\n",
       "===================================================================\n",
       "Model:            MixedLM Dependent Variable: np.log(response_time)\n",
       "No. Observations: 317     Method:             REML                 \n",
       "No. Groups:       5       Scale:              0.0548               \n",
       "Min. group size:  62      Likelihood:         -5.0376              \n",
       "Max. group size:  64      Converged:          Yes                  \n",
       "Mean group size:  63.4                                             \n",
       "--------------------------------------------------------------------\n",
       "                     Coef.   Std.Err.    z     P>|z|  [0.025  0.975]\n",
       "--------------------------------------------------------------------\n",
       "Intercept             5.881     0.079  74.810  0.000   5.727   6.036\n",
       "congruency           -0.036     0.043  -0.834  0.404  -0.121   0.049\n",
       "type                  0.024     0.030   0.786  0.432  -0.036   0.083\n",
       "congruency:type      -0.031     0.061  -0.503  0.615  -0.150   0.089\n",
       "groups RE             0.029     0.090                               \n",
       "===================================================================\n",
       "\n",
       "\"\"\""
      ]
     },
     "execution_count": 20,
     "metadata": {},
     "output_type": "execute_result"
    }
   ],
   "source": [
    "#Im Folgenden sollen die Hypothesen zur Reaktionszeit getestet werden.\n",
    "# Hypothesen 1, 3 und 5\n",
    "\n",
    "#1) Wenn sich die Stimuli ansehen, ist die Reaktionszeit niedriger im Vergleich zu Trials mit sich nicht ansehenden Stimuli.\n",
    "#3) Wenn es sich bei dem Stimulus um einen Mensch handelt, ist die Reaktionszeit niedriger im Vergleich zu Trials mit Greebles.\n",
    "#5) Es gibt einen Interaktionseffekt zwischen Typ des Stimulus und Kongruenz der Blickrichtung bezüglich der RT\n",
    "\n",
    "import statsmodels.formula.api as smf\n",
    "import numpy as np\n",
    "\n",
    "formula = \"np.log(response_time) ~ congruency * type\"\n",
    "mdl = smf.mixedlm(formula, data=df, groups=\"subject_nr\")\n",
    "res = mdl.fit()\n",
    "res.summary()"
   ]
  },
  {
   "cell_type": "markdown",
   "metadata": {},
   "source": [
    "Weder die Kongruenz der Stimuli, noch die Art des Stimulus haben einen signifikanten Einfluss auf die Reaktionszeit (p = 0,404 für congruency, p = 0,432 für type). Auch der Test zum Interaktionseffekt wird mit p = 0,615 nicht signifikant. Somit müssen die Hypothesen 1, 3 und 5 abgelehnt werden."
   ]
  },
  {
   "cell_type": "code",
   "execution_count": 21,
   "metadata": {},
   "outputs": [
    {
     "data": {
      "image/png": "[encoded data removed]",
      "text/plain": [
       "<Figure size 432x288 with 1 Axes>"
      ]
     },
     "metadata": {
      "image/png": {
       "height": 285,
       "width": 390
      }
     },
     "output_type": "display_data"
    },
    {
     "data": {
      "image/png": "[encoded data removed]",
      "text/plain": [
       "<Figure size 344.375x288 with 1 Axes>"
      ]
     },
     "metadata": {
      "image/png": {
       "height": 273,
       "width": 329
      }
     },
     "output_type": "display_data"
    }
   ],
   "source": [
    "#Grafische Darstellung aller vier Bedingungen bzgl. der Treffsicherheit\n",
    "#Congruency: 0 = inkongruente Bedingung, 1 = kongruente Bedingung\n",
    "#Type: 0 = Greeble, 1 = Mensch\n",
    "\n",
    "rt_cond = df.groupby([\"congruency\", \"type\"])[\"accuracy\"]\n",
    "rt_cond.mean().plot(kind=\"bar\", ylim = [0.8, 1])\n",
    "\n",
    "import seaborn as sns\n",
    "sns.set(style=\"ticks\")\n",
    "g = sns.factorplot(x=\"type\", y=\"accuracy\", hue = \"congruency\", data=df)"
   ]
  },
  {
   "cell_type": "markdown",
   "metadata": {},
   "source": [
    "Bei der Treffsicherheit kann augenscheinlich ein Interaktionseffekt erkannt werden. Bei Menschen (type = 0) ist die Treffsicherheit für inkongruente Stimuli besser als für kongruente. Für Greebles ist das Gegenteil der Fall. Leicht verbesserte Treffsicherheit für sich ansehende Stimuli."
   ]
  },
  {
   "cell_type": "code",
   "execution_count": 22,
   "metadata": {},
   "outputs": [
    {
     "name": "stderr",
     "output_type": "stream",
     "text": [
      "/Users/jona/miniconda3/lib/python3.6/site-packages/statsmodels/compat/pandas.py:56: FutureWarning: The pandas.core.datetools module is deprecated and will be removed in a future version. Please use the pandas.tseries module instead.\n",
      "  from pandas.core import datetools\n"
     ]
    },
    {
     "data": {
      "text/html": [
       "<table class=\"simpletable\">\n",
       "<caption>NominalGEE Regression Results</caption>\n",
       "<tr>\n",
       "  <th>Dep. Variable:</th>              <td>accuracy</td>       <th>  No. Observations:  </th>    <td>317</td>  \n",
       "</tr>\n",
       "<tr>\n",
       "  <th>Model:</th>                     <td>NominalGEE</td>      <th>  No. clusters:      </th>     <td>5</td>   \n",
       "</tr>\n",
       "<tr>\n",
       "  <th>Method:</th>                    <td>Generalized</td>     <th>  Min. cluster size: </th>    <td>62</td>   \n",
       "</tr>\n",
       "<tr>\n",
       "  <th></th>                      <td>Estimating Equations</td> <th>  Max. cluster size: </th>    <td>64</td>   \n",
       "</tr>\n",
       "<tr>\n",
       "  <th>Family:</th>                   <td>_Multinomial</td>     <th>  Mean cluster size: </th>   <td>63.4</td>  \n",
       "</tr>\n",
       "<tr>\n",
       "  <th>Dependence structure:</th>  <td>NominalIndependence</td> <th>  Num. iterations:   </th>     <td>2</td>   \n",
       "</tr>\n",
       "<tr>\n",
       "  <th>Date:</th>                   <td>Tue, 20 Mar 2018</td>   <th>  Scale:             </th>   <td>1.000</td> \n",
       "</tr>\n",
       "<tr>\n",
       "  <th>Covariance type: </th>            <td>robust</td>        <th>  Time:              </th> <td>17:02:24</td>\n",
       "</tr>\n",
       "</table>\n",
       "<table class=\"simpletable\">\n",
       "<tr>\n",
       "            <td></td>              <th>coef</th>     <th>std err</th>      <th>z</th>      <th>P>|z|</th>  <th>[0.025</th>    <th>0.975]</th>  \n",
       "</tr>\n",
       "<tr>\n",
       "  <th>type[0.0]</th>            <td>   -2.5033</td> <td>    0.431</td> <td>   -5.813</td> <td> 0.000</td> <td>   -3.347</td> <td>   -1.659</td>\n",
       "</tr>\n",
       "<tr>\n",
       "  <th>congruency[0.0]</th>      <td>   -2.1691</td> <td>    0.453</td> <td>   -4.788</td> <td> 0.000</td> <td>   -3.057</td> <td>   -1.281</td>\n",
       "</tr>\n",
       "<tr>\n",
       "  <th>congruencyXtype[0.0]</th> <td>    1.7545</td> <td>    0.634</td> <td>    2.768</td> <td> 0.006</td> <td>    0.512</td> <td>    2.997</td>\n",
       "</tr>\n",
       "</table>\n",
       "<table class=\"simpletable\">\n",
       "<tr>\n",
       "  <th>Skew:</th>          <td>      1.5408</td> <th>  Kurtosis:          </th> <td>      3.4435</td>\n",
       "</tr>\n",
       "<tr>\n",
       "  <th>Centered skew:</th> <td>      1.3932</td> <th>  Centered kurtosis: </th> <td>      2.9608</td>\n",
       "</tr>\n",
       "</table>"
      ],
      "text/plain": [
       "<class 'statsmodels.iolib.summary.Summary'>\n",
       "\"\"\"\n",
       "                           NominalGEE Regression Results                           \n",
       "===================================================================================\n",
       "Dep. Variable:                    accuracy   No. Observations:                  317\n",
       "Model:                          NominalGEE   No. clusters:                        5\n",
       "Method:                        Generalized   Min. cluster size:                  62\n",
       "                      Estimating Equations   Max. cluster size:                  64\n",
       "Family:                       _Multinomial   Mean cluster size:                63.4\n",
       "Dependence structure:  NominalIndependence   Num. iterations:                     2\n",
       "Date:                     Tue, 20 Mar 2018   Scale:                           1.000\n",
       "Covariance type:                    robust   Time:                         17:02:24\n",
       "========================================================================================\n",
       "                           coef    std err          z      P>|z|      [0.025      0.975]\n",
       "----------------------------------------------------------------------------------------\n",
       "type[0.0]               -2.5033      0.431     -5.813      0.000      -3.347      -1.659\n",
       "congruency[0.0]         -2.1691      0.453     -4.788      0.000      -3.057      -1.281\n",
       "congruencyXtype[0.0]     1.7545      0.634      2.768      0.006       0.512       2.997\n",
       "==============================================================================\n",
       "Skew:                          1.5408   Kurtosis:                       3.4435\n",
       "Centered skew:                 1.3932   Centered kurtosis:              2.9608\n",
       "==============================================================================\n",
       "\"\"\""
      ]
     },
     "execution_count": 22,
     "metadata": {},
     "output_type": "execute_result"
    }
   ],
   "source": [
    "#Im Folgenden sollen die Hypothesen zur Treffsicherheit getestet werden.\n",
    "# Hypothesen 2, 4 und 6\n",
    "\n",
    "#2) Wenn sich die Stimuli ansehen, ist die Treffsicherheit besser im Vergleich zu Trials mit sich nicht ansehenden Stimuli.\n",
    "#4) Wenn es sich bei dem Stimulus um einen Mensch handelt, ist die Treffsicherheit verbessert im Vergleich zu Trials mit Greebles.\n",
    "#6) Es gibt einen Interaktionseffekt zwischen Typ des Stimulus und Kongruenz der Blickrichtung bezüglich der Accuracy\n",
    "\n",
    "import statsmodels.api as sm\n",
    "\n",
    "df[\"congruencyXtype\"] = df[\"type\"] * df[\"congruency\"]\n",
    "mod = sm.NominalGEE(df[\"accuracy\"], df[[\"type\", \"congruency\", \"congruencyXtype\"]],\n",
    "                     groups=df[\"subject_nr\"])\n",
    "res = mod.fit()\n",
    "res.summary()"
   ]
  },
  {
   "cell_type": "markdown",
   "metadata": {},
   "source": [
    "Im Bezug auf die Treffsicherheit können signifikante Effekte für die Kongruenz der Stimuli (p < 0,001) und die Art des Stimulus (p < 0,001) gefunden werden. Jedoch wurde - entgegen der Hypothese 2 - eine verbesserte Treffsicherheit für voneinander abgewandte Stimuli gefunden. Bei der Stimulusart konnte für menschliche Stimuli eine bessere Treffsicherheit gefunden werden, was Hypothese 4 entspricht.\n",
    "Der Interaktionseffekt wird mit p = 0,006 knapp nicht signifikant.\n",
    "\n",
    "Somit kann die Hypothese 4 bestätigt werden, Hypothesen 2 und 6 müssen hingegen abgelehnt werden."
   ]
  },
  {
   "cell_type": "markdown",
   "metadata": {},
   "source": [
    "# Diskussion"
   ]
  },
  {
   "cell_type": "markdown",
   "metadata": {},
   "source": [
    "Für die zwei Bedingungen \"Kongruenz der Blickrichtung\" und \"Art des Stimulus\" konnten folgende Auswirkungen auf die Reaktionszeit und die Treffsicherheit bei der Bestimmung der Stimulusart gefunden werden:\n",
    "\n",
    "Für einander zugewandte Stimuli, also mit kongruenter Blickrichtung, konnte eine Tendenz zu verbesserter Reaktiongeschwindigkeit gefunden werden, die jedoch nicht signifikant wurde. Hierbei hatte die Art des Stimulus keinen Einfluss auf den Effekt, menschliche Stimuli werden also nicht signifikant schneller verarbeitet als Greebles.\n",
    "\n",
    "Hinsichtlich der Treffsicherheit konnte ein signifikanter Effekt für kongruente Stimuli und Art des Stimulus gefunden werden. Demnach werden menschliche Stimuli signifikant häufiger richtig benannt als Greebles und auch die Kongruenz der Blickrichtung hatte einen signifikanten Einfluss auf die Treffsicherheit, jedoch entgegen der Hypothese, nämlich verbesserte Treffsicherheit für inkongruente Stimuli. Der Interaktionseffekt bzgl. der Treffsicherheit wurde nicht signifikant.\n",
    "\n",
    "Somit konnte nur eine der fünf Hypothesen bestätigt werden, was jedoch aufgrund der sehr kleinen Stichprobe von n = 5 nicht verwunderlich ist."
   ]
  },
  {
   "cell_type": "code",
   "execution_count": null,
   "metadata": {},
   "outputs": [],
   "source": []
  }
 ],
 "metadata": {
  "kernelspec": {
   "display_name": "Python 3",
   "language": "python",
   "name": "python3"
  },
  "language_info": {
   "codemirror_mode": {
    "name": "ipython",
    "version": 3
   },
   "file_extension": ".py",
   "mimetype": "text/x-python",
   "name": "python",
   "nbconvert_exporter": "python",
   "pygments_lexer": "ipython3",
   "version": "3.6.4"
  }
 },
 "nbformat": 4,
 "nbformat_minor": 2
}
