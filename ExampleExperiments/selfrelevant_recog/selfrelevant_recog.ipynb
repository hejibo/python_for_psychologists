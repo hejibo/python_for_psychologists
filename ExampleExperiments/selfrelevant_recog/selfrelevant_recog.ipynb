{
 "cells": [
  {
   "cell_type": "markdown",
   "metadata": {},
   "source": [
    "Frankfurt, den 15.03.2018<br><br>\n",
    "Anonym<br>\n",
    "Matrikelnummer: Anonym<br><br>\n",
    "PsyMSc 4(Kog.): Praxismodul - Python für Psychologen<br>\n",
    "Dr. Jona Sassenhagen<br>\n",
    "Wintersemester 2017/2018<br>\n",
    "Goethe Universität Frankfurt am Main<br>"
   ]
  },
  {
   "cell_type": "markdown",
   "metadata": {},
   "source": [
    "## Erleichtern selbstrelevante Informationen das Wiedererkennen?"
   ]
  },
  {
   "cell_type": "markdown",
   "metadata": {},
   "source": [
    "### Einleitung\n",
    "\n",
    "In einer Umgebung, in der uns eine unzählige Menge an Informationen gleichzeitig erreicht, ist es wichtig, relevante Informationen zu selektieren und irrelevante Informationen auszublenden. Ein Instrument, das uns hilft, Informationen zu filtern, ist die Selbstrelevanz. Um selbstrelevante Stimuli von vertrauten und ueberlernten Stimuli abzugrenzen, haben Sui, He und Humphreys (2012) ein Paradigma entworfen, in welchem geometrische Formen mit dem Selbst, einer vertrauten Person und einem neutralen Gegenstand assoziiert werden. Den Effekt, dass Personen in einem anschließenden Wiedererkennungstest die mit dem Selbst assoziierten Kombinationen schneller und fehlerfreier identifizieren als die anderen Kombinationen, nennen sie Selbstpriorisierungseffekt. Dieser soll in diesem Experiment erneut untersucht werden.<br><br>\n",
    "### Methode\n",
    "\n",
    "In diesem Experiment gibt es zwei unabhaengige Variablen Label (Ich vs. Stuhl) und Kongruenz (Inkongruenz vs. Kongruenz). Die abhaengigen Variablen stellen Reaktionszeit und Fehlerfreiheit dar.<br>\n",
    "Zu Beginn des Experiments lernten die Versuchspersonen folgende Assoziationen: \n",
    "- \"Ich\" gehoert zu Dreieck \n",
    "- \"Stuhl\" gehoert zu Kreis\n",
    "\n",
    "Anschließend wurden ihnen in jedem Durchgang gleichzeitig ein Label (Ich oder Stuhl) und eine Form (Dreieck oder Kreis) gezeigt. Die Versuchspersonen mussten durch Tastenklick entscheiden, ob sie diese Kombination gelernt hatten (Taste \"m\") oder nicht (Taste \"c\"). Die Versuchspersonen durchliefen 4 Bloecke, die aus jeweils 10 Durchgaengen bestanden. <br><br>\n",
    "Die Hypothese dieses Experiments lautet, dass Personen von Selbstrelevanz profitieren und somit schneller bzw. akkurater auf die gelernten Kombinationen mit dem Label \"Ich\" reagieren als auf die gelernten Kombinationen mit dem Label \"Stuhl\".<br><br>\n",
    "Hierfuer wurden in den Analysen lediglich die kongruenten Durchgaenge betrachtet, also diejenigen Durchgaenge, bei denen es sich um die Präsentation vorher gelernter Kombinationen handelte, da der Selbstpriorisierungseffekt in vorherigen Studien nur in kongruenten Durchgaengen gefunden wurde."
   ]
  },
  {
   "cell_type": "markdown",
   "metadata": {},
   "source": [
    "### Analyse und Ergebnisse"
   ]
  },
  {
   "cell_type": "code",
   "execution_count": 3,
   "metadata": {},
   "outputs": [],
   "source": [
    "%matplotlib inline\n",
    "import pandas as pd\n",
    "import seaborn as sns\n",
    "import matplotlib as mpl\n",
    "from scipy.stats import ttest_rel\n",
    "from scipy import stats\n",
    "from scipy.stats import wilcoxon\n",
    "from glob import glob\n",
    "\n",
    "all_dfs = list()\n",
    "for ii, file in enumerate(glob(\"./csv/*\")):  \n",
    "    if file.endswith(\".csv\"): \n",
    "        try:\n",
    "            df = pd.read_csv(file)\n",
    "            df[\"subj\"] = ii \n",
    "            all_dfs.append(df)\n",
    "        except Exception:\n",
    "            pass\n",
    "df = pd.concat(all_dfs)"
   ]
  },
  {
   "cell_type": "code",
   "execution_count": 4,
   "metadata": {},
   "outputs": [],
   "source": [
    "data = df.query(\"congruence == True\")"
   ]
  },
  {
   "cell_type": "code",
   "execution_count": 5,
   "metadata": {},
   "outputs": [
    {
     "name": "stdout",
     "output_type": "stream",
     "text": [
      "In diesem Experiment wurden die Daten aus 115 Durchgaengen von insgesamt 6 Versuchspersonen analysiert.\n"
     ]
    }
   ],
   "source": [
    "number_dg = len(data)\n",
    "number_subj = len(data[\"subj\"].unique())\n",
    "print(\"In diesem Experiment wurden die Daten aus {} Durchgaengen von insgesamt {} Versuchspersonen analysiert.\".format(number_dg, number_subj))"
   ]
  },
  {
   "cell_type": "code",
   "execution_count": 6,
   "metadata": {},
   "outputs": [
    {
     "data": {
      "text/html": [
       "<div>\n",
       "<style scoped>\n",
       "    .dataframe tbody tr th:only-of-type {\n",
       "        vertical-align: middle;\n",
       "    }\n",
       "\n",
       "    .dataframe tbody tr th {\n",
       "        vertical-align: top;\n",
       "    }\n",
       "\n",
       "    .dataframe thead th {\n",
       "        text-align: right;\n",
       "    }\n",
       "</style>\n",
       "<table border=\"1\" class=\"dataframe\">\n",
       "  <thead>\n",
       "    <tr style=\"text-align: right;\">\n",
       "      <th></th>\n",
       "      <th>block</th>\n",
       "      <th>trial</th>\n",
       "      <th>congruence</th>\n",
       "      <th>label</th>\n",
       "      <th>correct</th>\n",
       "      <th>rt</th>\n",
       "      <th>subj</th>\n",
       "    </tr>\n",
       "  </thead>\n",
       "  <tbody>\n",
       "    <tr>\n",
       "      <th>0</th>\n",
       "      <td>1</td>\n",
       "      <td>0</td>\n",
       "      <td>True</td>\n",
       "      <td>Stuhl</td>\n",
       "      <td>False</td>\n",
       "      <td>0.727463</td>\n",
       "      <td>0</td>\n",
       "    </tr>\n",
       "    <tr>\n",
       "      <th>1</th>\n",
       "      <td>1</td>\n",
       "      <td>1</td>\n",
       "      <td>True</td>\n",
       "      <td>Stuhl</td>\n",
       "      <td>True</td>\n",
       "      <td>0.724633</td>\n",
       "      <td>0</td>\n",
       "    </tr>\n",
       "    <tr>\n",
       "      <th>3</th>\n",
       "      <td>1</td>\n",
       "      <td>3</td>\n",
       "      <td>True</td>\n",
       "      <td>Stuhl</td>\n",
       "      <td>True</td>\n",
       "      <td>1.258269</td>\n",
       "      <td>0</td>\n",
       "    </tr>\n",
       "    <tr>\n",
       "      <th>4</th>\n",
       "      <td>1</td>\n",
       "      <td>4</td>\n",
       "      <td>True</td>\n",
       "      <td>Stuhl</td>\n",
       "      <td>True</td>\n",
       "      <td>0.743416</td>\n",
       "      <td>0</td>\n",
       "    </tr>\n",
       "    <tr>\n",
       "      <th>7</th>\n",
       "      <td>1</td>\n",
       "      <td>7</td>\n",
       "      <td>True</td>\n",
       "      <td>Ich</td>\n",
       "      <td>True</td>\n",
       "      <td>0.589521</td>\n",
       "      <td>0</td>\n",
       "    </tr>\n",
       "    <tr>\n",
       "      <th>8</th>\n",
       "      <td>1</td>\n",
       "      <td>8</td>\n",
       "      <td>True</td>\n",
       "      <td>Ich</td>\n",
       "      <td>True</td>\n",
       "      <td>0.644934</td>\n",
       "      <td>0</td>\n",
       "    </tr>\n",
       "    <tr>\n",
       "      <th>9</th>\n",
       "      <td>1</td>\n",
       "      <td>9</td>\n",
       "      <td>True</td>\n",
       "      <td>Stuhl</td>\n",
       "      <td>True</td>\n",
       "      <td>0.665582</td>\n",
       "      <td>0</td>\n",
       "    </tr>\n",
       "    <tr>\n",
       "      <th>13</th>\n",
       "      <td>2</td>\n",
       "      <td>3</td>\n",
       "      <td>True</td>\n",
       "      <td>Stuhl</td>\n",
       "      <td>True</td>\n",
       "      <td>1.123118</td>\n",
       "      <td>0</td>\n",
       "    </tr>\n",
       "    <tr>\n",
       "      <th>15</th>\n",
       "      <td>2</td>\n",
       "      <td>5</td>\n",
       "      <td>True</td>\n",
       "      <td>Ich</td>\n",
       "      <td>True</td>\n",
       "      <td>0.675999</td>\n",
       "      <td>0</td>\n",
       "    </tr>\n",
       "    <tr>\n",
       "      <th>16</th>\n",
       "      <td>2</td>\n",
       "      <td>6</td>\n",
       "      <td>True</td>\n",
       "      <td>Ich</td>\n",
       "      <td>True</td>\n",
       "      <td>0.601578</td>\n",
       "      <td>0</td>\n",
       "    </tr>\n",
       "  </tbody>\n",
       "</table>\n",
       "</div>"
      ],
      "text/plain": [
       "    block  trial  congruence  label  correct        rt  subj\n",
       "0       1      0        True  Stuhl    False  0.727463     0\n",
       "1       1      1        True  Stuhl     True  0.724633     0\n",
       "3       1      3        True  Stuhl     True  1.258269     0\n",
       "4       1      4        True  Stuhl     True  0.743416     0\n",
       "7       1      7        True    Ich     True  0.589521     0\n",
       "8       1      8        True    Ich     True  0.644934     0\n",
       "9       1      9        True  Stuhl     True  0.665582     0\n",
       "13      2      3        True  Stuhl     True  1.123118     0\n",
       "15      2      5        True    Ich     True  0.675999     0\n",
       "16      2      6        True    Ich     True  0.601578     0"
      ]
     },
     "execution_count": 6,
     "metadata": {},
     "output_type": "execute_result"
    }
   ],
   "source": [
    "data.head(10)"
   ]
  },
  {
   "cell_type": "markdown",
   "metadata": {},
   "source": [
    "##### 1. Ausreißeranalyse\n",
    "Boxplot der Reaktionszeiten:"
   ]
  },
  {
   "cell_type": "code",
   "execution_count": 7,
   "metadata": {},
   "outputs": [
    {
     "data": {
      "text/plain": [
       "<matplotlib.axes._subplots.AxesSubplot at 0x1c19bb2470>"
      ]
     },
     "execution_count": 7,
     "metadata": {},
     "output_type": "execute_result"
    },
    {
     "data": {
      "image/png": "[encoded data removed]",
      "text/plain": [
       "<Figure size 432x288 with 2 Axes>"
      ]
     },
     "metadata": {
      "image/png": {
       "height": 253,
       "width": 386
      }
     },
     "output_type": "display_data"
    }
   ],
   "source": [
    "fig, axs = mpl.pyplot.subplots(1,2)\n",
    "\n",
    "data[\"rt\"].plot(kind=\"hist\", bins=50, ax=axs[0])\n",
    "data[\"rt\"].plot(kind=\"box\", sym='r.', ax=axs[1])"
   ]
  },
  {
   "cell_type": "markdown",
   "metadata": {},
   "source": [
    "Da keine der Reaktionszeiten außergewöhnlich hervorstechen, werden alle Daten in die weiteren Analysen einbezogen. Diese Vorgehensweise wird auch dadurch unterstuetzt, dass bei Sue et al. (2012) lediglich Reaktionszeiten, die kleiner als 0.2 ms sind, ausgeschlossen werden."
   ]
  },
  {
   "cell_type": "markdown",
   "metadata": {},
   "source": [
    "##### 2. Deskriptive Analysen"
   ]
  },
  {
   "cell_type": "markdown",
   "metadata": {},
   "source": [
    "Histogramm der Reaktionszeiten:"
   ]
  },
  {
   "cell_type": "code",
   "execution_count": 8,
   "metadata": {},
   "outputs": [
    {
     "data": {
      "text/plain": [
       "<matplotlib.axes._subplots.AxesSubplot at 0x1c1416be10>"
      ]
     },
     "execution_count": 8,
     "metadata": {},
     "output_type": "execute_result"
    },
    {
     "data": {
      "image/png": "[encoded data removed]",
      "text/plain": [
       "<Figure size 432x288 with 1 Axes>"
      ]
     },
     "metadata": {
      "image/png": {
       "height": 253,
       "width": 372
      }
     },
     "output_type": "display_data"
    }
   ],
   "source": [
    "data[\"rt\"].hist(bins=50)"
   ]
  },
  {
   "cell_type": "markdown",
   "metadata": {},
   "source": [
    "Mittlere Reaktionszeiten pro Versuchsperson und Label (Tabelle und Balkendiagramm):"
   ]
  },
  {
   "cell_type": "code",
   "execution_count": 9,
   "metadata": {},
   "outputs": [
    {
     "data": {
      "text/plain": [
       "pandas.core.frame.DataFrame"
      ]
     },
     "execution_count": 9,
     "metadata": {},
     "output_type": "execute_result"
    }
   ],
   "source": [
    "data_agg_rt = data.groupby([\"subj\", \"label\"]).mean()[\"rt\"].reset_index()\n",
    "type(data_agg_rt)"
   ]
  },
  {
   "cell_type": "code",
   "execution_count": 10,
   "metadata": {},
   "outputs": [
    {
     "data": {
      "text/html": [
       "<div>\n",
       "<style scoped>\n",
       "    .dataframe tbody tr th:only-of-type {\n",
       "        vertical-align: middle;\n",
       "    }\n",
       "\n",
       "    .dataframe tbody tr th {\n",
       "        vertical-align: top;\n",
       "    }\n",
       "\n",
       "    .dataframe thead th {\n",
       "        text-align: right;\n",
       "    }\n",
       "</style>\n",
       "<table border=\"1\" class=\"dataframe\">\n",
       "  <thead>\n",
       "    <tr style=\"text-align: right;\">\n",
       "      <th></th>\n",
       "      <th>subj</th>\n",
       "      <th>label</th>\n",
       "      <th>rt</th>\n",
       "    </tr>\n",
       "  </thead>\n",
       "  <tbody>\n",
       "    <tr>\n",
       "      <th>0</th>\n",
       "      <td>0</td>\n",
       "      <td>Ich</td>\n",
       "      <td>0.582419</td>\n",
       "    </tr>\n",
       "    <tr>\n",
       "      <th>1</th>\n",
       "      <td>0</td>\n",
       "      <td>Stuhl</td>\n",
       "      <td>0.833020</td>\n",
       "    </tr>\n",
       "    <tr>\n",
       "      <th>2</th>\n",
       "      <td>1</td>\n",
       "      <td>Ich</td>\n",
       "      <td>0.814928</td>\n",
       "    </tr>\n",
       "    <tr>\n",
       "      <th>3</th>\n",
       "      <td>1</td>\n",
       "      <td>Stuhl</td>\n",
       "      <td>0.740205</td>\n",
       "    </tr>\n",
       "    <tr>\n",
       "      <th>4</th>\n",
       "      <td>2</td>\n",
       "      <td>Ich</td>\n",
       "      <td>0.624374</td>\n",
       "    </tr>\n",
       "    <tr>\n",
       "      <th>5</th>\n",
       "      <td>2</td>\n",
       "      <td>Stuhl</td>\n",
       "      <td>0.648260</td>\n",
       "    </tr>\n",
       "    <tr>\n",
       "      <th>6</th>\n",
       "      <td>3</td>\n",
       "      <td>Ich</td>\n",
       "      <td>0.867362</td>\n",
       "    </tr>\n",
       "    <tr>\n",
       "      <th>7</th>\n",
       "      <td>3</td>\n",
       "      <td>Stuhl</td>\n",
       "      <td>0.972416</td>\n",
       "    </tr>\n",
       "    <tr>\n",
       "      <th>8</th>\n",
       "      <td>4</td>\n",
       "      <td>Ich</td>\n",
       "      <td>0.778624</td>\n",
       "    </tr>\n",
       "    <tr>\n",
       "      <th>9</th>\n",
       "      <td>4</td>\n",
       "      <td>Stuhl</td>\n",
       "      <td>0.762602</td>\n",
       "    </tr>\n",
       "    <tr>\n",
       "      <th>10</th>\n",
       "      <td>5</td>\n",
       "      <td>Ich</td>\n",
       "      <td>0.587303</td>\n",
       "    </tr>\n",
       "    <tr>\n",
       "      <th>11</th>\n",
       "      <td>5</td>\n",
       "      <td>Stuhl</td>\n",
       "      <td>0.638639</td>\n",
       "    </tr>\n",
       "  </tbody>\n",
       "</table>\n",
       "</div>"
      ],
      "text/plain": [
       "    subj  label        rt\n",
       "0      0    Ich  0.582419\n",
       "1      0  Stuhl  0.833020\n",
       "2      1    Ich  0.814928\n",
       "3      1  Stuhl  0.740205\n",
       "4      2    Ich  0.624374\n",
       "5      2  Stuhl  0.648260\n",
       "6      3    Ich  0.867362\n",
       "7      3  Stuhl  0.972416\n",
       "8      4    Ich  0.778624\n",
       "9      4  Stuhl  0.762602\n",
       "10     5    Ich  0.587303\n",
       "11     5  Stuhl  0.638639"
      ]
     },
     "execution_count": 10,
     "metadata": {},
     "output_type": "execute_result"
    }
   ],
   "source": [
    "data_agg_rt.head(12)"
   ]
  },
  {
   "cell_type": "code",
   "execution_count": 11,
   "metadata": {},
   "outputs": [
    {
     "data": {
      "text/plain": [
       "<seaborn.axisgrid.FacetGrid at 0x1c1d38ec18>"
      ]
     },
     "execution_count": 11,
     "metadata": {},
     "output_type": "execute_result"
    },
    {
     "data": {
      "image/png": "[encoded data removed]",
      "text/plain": [
       "<Figure size 346.875x288 with 1 Axes>"
      ]
     },
     "metadata": {
      "image/png": {
       "height": 278,
       "width": 336
      }
     },
     "output_type": "display_data"
    }
   ],
   "source": [
    "sns.factorplot(x=\"subj\", y=\"rt\", hue=\"label\", data=data_agg_rt, kind=\"bar\")"
   ]
  },
  {
   "cell_type": "code",
   "execution_count": 12,
   "metadata": {},
   "outputs": [
    {
     "data": {
      "text/plain": [
       "label  subj\n",
       "Ich    0       0.100150\n",
       "       1       0.216589\n",
       "       2       0.072796\n",
       "       3       0.160702\n",
       "       4       0.164814\n",
       "       5       0.092170\n",
       "Stuhl  0       0.230016\n",
       "       1       0.147336\n",
       "       2       0.130035\n",
       "       3       0.299568\n",
       "       4       0.212747\n",
       "       5       0.115778\n",
       "Name: rt, dtype: float64"
      ]
     },
     "execution_count": 12,
     "metadata": {},
     "output_type": "execute_result"
    }
   ],
   "source": [
    "data.groupby([\"label\", \"subj\"]).std()[\"rt\"]"
   ]
  },
  {
   "cell_type": "markdown",
   "metadata": {},
   "source": [
    "Mittlere Fehlerfreiheit pro Versuchsperson und Label (Tabelle und Balkendiagramm):"
   ]
  },
  {
   "cell_type": "code",
   "execution_count": 13,
   "metadata": {},
   "outputs": [
    {
     "data": {
      "text/plain": [
       "pandas.core.frame.DataFrame"
      ]
     },
     "execution_count": 13,
     "metadata": {},
     "output_type": "execute_result"
    }
   ],
   "source": [
    "data_agg_corr = data.groupby([\"subj\", \"label\"]).mean()[\"correct\"].reset_index()\n",
    "type(data_agg_corr)"
   ]
  },
  {
   "cell_type": "code",
   "execution_count": 14,
   "metadata": {},
   "outputs": [
    {
     "data": {
      "text/html": [
       "<div>\n",
       "<style scoped>\n",
       "    .dataframe tbody tr th:only-of-type {\n",
       "        vertical-align: middle;\n",
       "    }\n",
       "\n",
       "    .dataframe tbody tr th {\n",
       "        vertical-align: top;\n",
       "    }\n",
       "\n",
       "    .dataframe thead th {\n",
       "        text-align: right;\n",
       "    }\n",
       "</style>\n",
       "<table border=\"1\" class=\"dataframe\">\n",
       "  <thead>\n",
       "    <tr style=\"text-align: right;\">\n",
       "      <th></th>\n",
       "      <th>subj</th>\n",
       "      <th>label</th>\n",
       "      <th>correct</th>\n",
       "    </tr>\n",
       "  </thead>\n",
       "  <tbody>\n",
       "    <tr>\n",
       "      <th>0</th>\n",
       "      <td>0</td>\n",
       "      <td>Ich</td>\n",
       "      <td>1.000000</td>\n",
       "    </tr>\n",
       "    <tr>\n",
       "      <th>1</th>\n",
       "      <td>0</td>\n",
       "      <td>Stuhl</td>\n",
       "      <td>0.700000</td>\n",
       "    </tr>\n",
       "    <tr>\n",
       "      <th>2</th>\n",
       "      <td>1</td>\n",
       "      <td>Ich</td>\n",
       "      <td>1.000000</td>\n",
       "    </tr>\n",
       "    <tr>\n",
       "      <th>3</th>\n",
       "      <td>1</td>\n",
       "      <td>Stuhl</td>\n",
       "      <td>0.928571</td>\n",
       "    </tr>\n",
       "    <tr>\n",
       "      <th>4</th>\n",
       "      <td>2</td>\n",
       "      <td>Ich</td>\n",
       "      <td>1.000000</td>\n",
       "    </tr>\n",
       "    <tr>\n",
       "      <th>5</th>\n",
       "      <td>2</td>\n",
       "      <td>Stuhl</td>\n",
       "      <td>0.818182</td>\n",
       "    </tr>\n",
       "    <tr>\n",
       "      <th>6</th>\n",
       "      <td>3</td>\n",
       "      <td>Ich</td>\n",
       "      <td>1.000000</td>\n",
       "    </tr>\n",
       "    <tr>\n",
       "      <th>7</th>\n",
       "      <td>3</td>\n",
       "      <td>Stuhl</td>\n",
       "      <td>0.857143</td>\n",
       "    </tr>\n",
       "    <tr>\n",
       "      <th>8</th>\n",
       "      <td>4</td>\n",
       "      <td>Ich</td>\n",
       "      <td>1.000000</td>\n",
       "    </tr>\n",
       "    <tr>\n",
       "      <th>9</th>\n",
       "      <td>4</td>\n",
       "      <td>Stuhl</td>\n",
       "      <td>0.909091</td>\n",
       "    </tr>\n",
       "    <tr>\n",
       "      <th>10</th>\n",
       "      <td>5</td>\n",
       "      <td>Ich</td>\n",
       "      <td>0.900000</td>\n",
       "    </tr>\n",
       "    <tr>\n",
       "      <th>11</th>\n",
       "      <td>5</td>\n",
       "      <td>Stuhl</td>\n",
       "      <td>0.928571</td>\n",
       "    </tr>\n",
       "  </tbody>\n",
       "</table>\n",
       "</div>"
      ],
      "text/plain": [
       "    subj  label   correct\n",
       "0      0    Ich  1.000000\n",
       "1      0  Stuhl  0.700000\n",
       "2      1    Ich  1.000000\n",
       "3      1  Stuhl  0.928571\n",
       "4      2    Ich  1.000000\n",
       "5      2  Stuhl  0.818182\n",
       "6      3    Ich  1.000000\n",
       "7      3  Stuhl  0.857143\n",
       "8      4    Ich  1.000000\n",
       "9      4  Stuhl  0.909091\n",
       "10     5    Ich  0.900000\n",
       "11     5  Stuhl  0.928571"
      ]
     },
     "execution_count": 14,
     "metadata": {},
     "output_type": "execute_result"
    }
   ],
   "source": [
    "data_agg_corr.head(12)"
   ]
  },
  {
   "cell_type": "code",
   "execution_count": 15,
   "metadata": {},
   "outputs": [
    {
     "data": {
      "text/plain": [
       "<seaborn.axisgrid.FacetGrid at 0x1c1d57e9b0>"
      ]
     },
     "execution_count": 15,
     "metadata": {},
     "output_type": "execute_result"
    },
    {
     "data": {
      "image/png": "[encoded data removed]",
      "text/plain": [
       "<Figure size 346.875x288 with 1 Axes>"
      ]
     },
     "metadata": {
      "image/png": {
       "height": 278,
       "width": 336
      }
     },
     "output_type": "display_data"
    }
   ],
   "source": [
    "sns.factorplot(x=\"subj\", y=\"correct\", hue=\"label\", data=data_agg_corr, kind=\"bar\")"
   ]
  },
  {
   "cell_type": "code",
   "execution_count": 16,
   "metadata": {},
   "outputs": [
    {
     "data": {
      "text/plain": [
       "label  subj\n",
       "Ich    0       0.000000\n",
       "       1       0.000000\n",
       "       2       0.000000\n",
       "       3       0.000000\n",
       "       4       0.000000\n",
       "       5       0.316228\n",
       "Stuhl  0       0.483046\n",
       "       1       0.267261\n",
       "       2       0.404520\n",
       "       3       0.377964\n",
       "       4       0.301511\n",
       "       5       0.267261\n",
       "Name: correct, dtype: float64"
      ]
     },
     "execution_count": 16,
     "metadata": {},
     "output_type": "execute_result"
    }
   ],
   "source": [
    "data.groupby([\"label\", \"subj\"]).std()[\"correct\"]"
   ]
  },
  {
   "cell_type": "markdown",
   "metadata": {},
   "source": [
    "Bei rein deskriptiver Betrachtung der Fehlerfreiheit zeigt sich, dass Personen weniger Fehler machen, wenn sie auf die Kombinationen mit dem Label \"Ich\" reagieren als auf die Kombinationen mit dem Label \"Stuhl\". "
   ]
  },
  {
   "cell_type": "markdown",
   "metadata": {},
   "source": [
    "##### 3. Signifikanzpruefung"
   ]
  },
  {
   "cell_type": "markdown",
   "metadata": {},
   "source": [
    "In den folgenden Berechnungen wird geprueft, ob sich die abhaengigen Variablen Reaktionszeit und Fehlerfreiheit zwischen den beiden Stufen der unabhaengigen Variable Label (Ich vs. Stuhl) signifikant unterscheiden. \n",
    "Da die Daten messwiederholt sind, bietet sich hier ein t-Test für abhaengige Stichproben unter der Voraussetzung, dass die Daten der Stichprobe einer normalverteilten Grundgesamtheit entstammen, an. Die Voraussetzung der Normalverteilung laesst sich mit dem Kolmogorov-Smirnov-Test ueberpruefen.\n",
    "\n",
    "**Kolmogorov-Smirnov-Test**: "
   ]
  },
  {
   "cell_type": "code",
   "execution_count": 17,
   "metadata": {},
   "outputs": [],
   "source": [
    "ich_rts = data.query(\"correct == True\").query(\"label == 'Ich'\").groupby(\"subj\").mean()[\"rt\"]\n",
    "stuhl_rts = data.query(\"correct == True\").query(\"label == 'Stuhl'\").groupby(\"subj\").mean()[\"rt\"]"
   ]
  },
  {
   "cell_type": "code",
   "execution_count": 18,
   "metadata": {},
   "outputs": [
    {
     "data": {
      "text/plain": [
       "(KstestResult(statistic=0.7198577092061945, pvalue=0.0011292557174267248),\n",
       " KstestResult(statistic=0.7450462308667489, pvalue=0.0005972429744107721))"
      ]
     },
     "execution_count": 18,
     "metadata": {},
     "output_type": "execute_result"
    }
   ],
   "source": [
    "stats.kstest(ich_rts, \"norm\"), stats.kstest(stuhl_rts, \"norm\")"
   ]
  },
  {
   "cell_type": "code",
   "execution_count": 19,
   "metadata": {},
   "outputs": [],
   "source": [
    "ich_acc = data.query(\"label == 'Ich'\").groupby(\"subj\").mean()[\"correct\"]\n",
    "stuhl_acc = data.query(\"label == 'Stuhl'\").groupby(\"subj\").mean()[\"correct\"]"
   ]
  },
  {
   "cell_type": "code",
   "execution_count": 20,
   "metadata": {},
   "outputs": [
    {
     "data": {
      "text/plain": [
       "(KstestResult(statistic=0.8159398746532405, pvalue=7.778132139391047e-05),\n",
       " KstestResult(statistic=0.758036347776927, pvalue=0.0004233740002812514))"
      ]
     },
     "execution_count": 20,
     "metadata": {},
     "output_type": "execute_result"
    }
   ],
   "source": [
    "stats.kstest(ich_acc, \"norm\"), stats.kstest(stuhl_acc, \"norm\")"
   ]
  },
  {
   "cell_type": "markdown",
   "metadata": {},
   "source": [
    "Laut Kolmogorov-Smirnov-Test sind Verteilungen mit einem *p*-Wert > 0.5 normalverteilt. Somit sind die Reaktionszeiten sowie die Fehlerfreiheit mit je *p* < .01 nicht normalverteilt. Die Voraussetzung der Normalverteiltheit der Daten fuer den t-Test ist somit nicht erfuellt.<br><br>\n",
    "Eine Alternative zum t-Test fuer abhaengige Stichproben bei verletzter Normalverteilung der Daten ist der Wilcoxon-Test fuer abhaengige Stichproben.<br><br>\n",
    "**Wilcoxon-Test für abhängige Stichproben**:"
   ]
  },
  {
   "cell_type": "code",
   "execution_count": 21,
   "metadata": {},
   "outputs": [
    {
     "name": "stderr",
     "output_type": "stream",
     "text": [
      "/Users/jona/miniconda3/lib/python3.6/site-packages/scipy/stats/morestats.py:2385: UserWarning: Warning: sample size too small for normal approximation.\n",
      "  warnings.warn(\"Warning: sample size too small for normal approximation.\")\n"
     ]
    },
    {
     "data": {
      "text/plain": [
       "WilcoxonResult(statistic=4.0, pvalue=0.17295491798842066)"
      ]
     },
     "execution_count": 21,
     "metadata": {},
     "output_type": "execute_result"
    }
   ],
   "source": [
    "wilcoxon(ich_rts, stuhl_rts)"
   ]
  },
  {
   "cell_type": "code",
   "execution_count": 22,
   "metadata": {},
   "outputs": [
    {
     "name": "stdout",
     "output_type": "stream",
     "text": [
      "Bei Analyse der Reaktionszeiten durch den Wilcoxon-Test zeigt sich, dass der Unterschied in den Mittelwerten zwischen \"Ich\" und \"Stuhl\" mit Z(N=6)=4.0, p=0.173 nicht signifikant ist.\n"
     ]
    },
    {
     "name": "stderr",
     "output_type": "stream",
     "text": [
      "/Users/jona/miniconda3/lib/python3.6/site-packages/scipy/stats/morestats.py:2385: UserWarning: Warning: sample size too small for normal approximation.\n",
      "  warnings.warn(\"Warning: sample size too small for normal approximation.\")\n"
     ]
    }
   ],
   "source": [
    "Z, p = wilcoxon(ich_rts, stuhl_rts)\n",
    "print(\"\"\"Bei Analyse der Reaktionszeiten durch den Wilcoxon-Test zeigt sich, dass der Unterschied in den Mittelwerten zwischen \"Ich\" und \"Stuhl\" mit Z(N=6)={}, p={}\"\"\".format(Z, round(p,3)), \"signifikant ist.\" if p < 0.05 else \"nicht signifikant ist.\")"
   ]
  },
  {
   "cell_type": "code",
   "execution_count": 23,
   "metadata": {},
   "outputs": [
    {
     "name": "stderr",
     "output_type": "stream",
     "text": [
      "/Users/jona/miniconda3/lib/python3.6/site-packages/scipy/stats/morestats.py:2385: UserWarning: Warning: sample size too small for normal approximation.\n",
      "  warnings.warn(\"Warning: sample size too small for normal approximation.\")\n"
     ]
    },
    {
     "data": {
      "text/plain": [
       "WilcoxonResult(statistic=1.0, pvalue=0.046399461870904594)"
      ]
     },
     "execution_count": 23,
     "metadata": {},
     "output_type": "execute_result"
    }
   ],
   "source": [
    "wilcoxon(ich_acc, stuhl_acc)"
   ]
  },
  {
   "cell_type": "code",
   "execution_count": 24,
   "metadata": {},
   "outputs": [
    {
     "name": "stdout",
     "output_type": "stream",
     "text": [
      "Bei Analyse der Fehlerfreiheit durch den Wilcoxon-Test zeigt sich, dass der Unterschied in den Mittelwerten zwischen \"Ich\" und \"Stuhl\" mit Z(N=6)=1.0, p=0.046 signifikant ist.\n"
     ]
    },
    {
     "name": "stderr",
     "output_type": "stream",
     "text": [
      "/Users/jona/miniconda3/lib/python3.6/site-packages/scipy/stats/morestats.py:2385: UserWarning: Warning: sample size too small for normal approximation.\n",
      "  warnings.warn(\"Warning: sample size too small for normal approximation.\")\n"
     ]
    }
   ],
   "source": [
    "Z, p = wilcoxon(ich_acc, stuhl_acc)\n",
    "print(\"\"\"Bei Analyse der Fehlerfreiheit durch den Wilcoxon-Test zeigt sich, dass der Unterschied in den Mittelwerten zwischen \"Ich\" und \"Stuhl\" mit Z(N=6)={}, p={}\"\"\".format(Z, round(p,3)), \"signifikant ist.\" if p < 0.05 else \"nicht signifikant ist.\")"
   ]
  },
  {
   "cell_type": "markdown",
   "metadata": {},
   "source": [
    "**T-Test fuer abhaengige Stichproben**<br><br>\n",
    "Auch wenn die Voraussetzung der Normalverteiltheit der Daten nicht erfuellt ist, sind im Folgenden die Signifikanzpruefungen durch den t-Test abgebildet. (Da wir im Seminar den t-Test behandelt hatten, wollte ich ihn urspruenglich in dieser Analyse rechnen. Auch wenn er – wie angedeutet – hier nicht aussagekraeftig ist, rechne ich ihn der Vollstaendigkeit halber trotzdem.) "
   ]
  },
  {
   "cell_type": "code",
   "execution_count": 25,
   "metadata": {},
   "outputs": [
    {
     "data": {
      "text/plain": [
       "Ttest_relResult(statistic=-1.4527437459446837, pvalue=0.20602269297298376)"
      ]
     },
     "execution_count": 25,
     "metadata": {},
     "output_type": "execute_result"
    }
   ],
   "source": [
    "ttest_rel(ich_rts, stuhl_rts)"
   ]
  },
  {
   "cell_type": "code",
   "execution_count": 26,
   "metadata": {},
   "outputs": [
    {
     "name": "stdout",
     "output_type": "stream",
     "text": [
      "Laut t-Test fuer abhaengige Stichproben ist die Mittelwertdifferenz der Reaktionszeiten zwischen \"Ich\" und \"Stuhl\"  nicht signifikant.\n"
     ]
    }
   ],
   "source": [
    "t, p = ttest_rel(ich_rts, stuhl_rts)\n",
    "message = \"\"\"Laut t-Test fuer abhaengige Stichproben ist die Mittelwertdifferenz der Reaktionszeiten zwischen \"Ich\" und \"Stuhl\" \"\"\"\n",
    "print(message, \"signifikant.\" if p < 0.05 else \"nicht signifikant.\")"
   ]
  },
  {
   "cell_type": "code",
   "execution_count": 27,
   "metadata": {},
   "outputs": [
    {
     "data": {
      "text/plain": [
       "Ttest_relResult(statistic=2.785605258868057, pvalue=0.038645072464515935)"
      ]
     },
     "execution_count": 27,
     "metadata": {},
     "output_type": "execute_result"
    }
   ],
   "source": [
    "ttest_rel(ich_acc, stuhl_acc)"
   ]
  },
  {
   "cell_type": "code",
   "execution_count": 28,
   "metadata": {},
   "outputs": [
    {
     "name": "stdout",
     "output_type": "stream",
     "text": [
      "Laut t-Test fuer abhaengige Stichproben ist die Mittelwertdifferenz der Fehlerfreiheit zwischen \"Ich\" und \"Stuhl\"  signifikant.\n"
     ]
    }
   ],
   "source": [
    "t, p = ttest_rel(ich_acc, stuhl_acc)\n",
    "message = \"\"\"Laut t-Test fuer abhaengige Stichproben ist die Mittelwertdifferenz der Fehlerfreiheit zwischen \"Ich\" und \"Stuhl\" \"\"\"\n",
    "print(message, \"signifikant.\" if p < 0.05 else \"nicht signifikant.\")"
   ]
  },
  {
   "cell_type": "markdown",
   "metadata": {},
   "source": [
    "#### Diskussion\n",
    "Die Signifikanztestung durch den Wilcoxon-Test zeigt einen signifikanten Unterschied zwischen der mittleren Fehlerfreiheit je nach Auspraegung der unabhaengigen Variable Label. Dieses Ergebnis stuetzt die Vermutung durch die deskripitive Analyse, dass Personen bei Praesentation einer vorher gelernten Label-Form-Kombination mit dem Label \"Ich\" akkurater reagieren als auf eine vorher gelernte Kombination mit dem Label \"Stuhl\". Personen scheinen in ihren Reaktionen von der Verbindung mit dem Selbst zu profitieren. Diese Befunde stuetzen bisherige Befunde zum Selbstpriorisierungseffekt (Sui et al., 2012). In den Reaktionszeiten finden sich keine signifikanten Unterschiede.<br><br>\n",
    "Allerdings ist die Stichprobengroesse von 6 Personen sehr gering, weshalb die Ergebnisse nur mit Vorsicht zu interpretieren sind."
   ]
  },
  {
   "cell_type": "markdown",
   "metadata": {},
   "source": [
    "#### Literatur\n",
    "\n",
    "Schaefer, S., Wesslein, A. K., Spence, C., Wentura, D., & Frings, C. (2016). Self-prioritization in vision, audition, and touch. Experimental brain research, 234(8), 2141-2150.<br>\n",
    "Sui, J., He, X., & Humphreys, G. W. (2012). Perceptual effects of social salience: evidence from self-prioritization effects on perceptual matching. Journal of Experimental Psychology: Human Perception and Performance, 38(5), 1105."
   ]
  },
  {
   "cell_type": "code",
   "execution_count": null,
   "metadata": {},
   "outputs": [],
   "source": []
  }
 ],
 "metadata": {
  "kernelspec": {
   "display_name": "Python 3",
   "language": "python",
   "name": "python3"
  },
  "language_info": {
   "codemirror_mode": {
    "name": "ipython",
    "version": 3
   },
   "file_extension": ".py",
   "mimetype": "text/x-python",
   "name": "python",
   "nbconvert_exporter": "python",
   "pygments_lexer": "ipython3",
   "version": "3.6.4"
  }
 },
 "nbformat": 4,
 "nbformat_minor": 2
}
