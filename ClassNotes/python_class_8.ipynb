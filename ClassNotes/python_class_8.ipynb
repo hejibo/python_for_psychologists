{
 "cells": [
  {
   "cell_type": "markdown",
   "metadata": {},
   "source": [
    "# Advanced Pandas Work"
   ]
  },
  {
   "cell_type": "code",
   "execution_count": 1,
   "metadata": {},
   "outputs": [],
   "source": [
    "%matplotlib inline\n",
    "\n",
    "import pandas as pd\n",
    "import numpy as np\n",
    "import seaborn as sns"
   ]
  },
  {
   "cell_type": "code",
   "execution_count": 4,
   "metadata": {},
   "outputs": [],
   "source": [
    "fname = \"all_res_class_contextvals.csv\"\n",
    "df = pd.read_csv(fname).query(\"rt < 10\")"
   ]
  },
  {
   "cell_type": "code",
   "execution_count": 5,
   "metadata": {},
   "outputs": [
    {
     "data": {
      "text/html": [
       "<div>\n",
       "<style scoped>\n",
       "    .dataframe tbody tr th:only-of-type {\n",
       "        vertical-align: middle;\n",
       "    }\n",
       "\n",
       "    .dataframe tbody tr th {\n",
       "        vertical-align: top;\n",
       "    }\n",
       "\n",
       "    .dataframe thead th {\n",
       "        text-align: right;\n",
       "    }\n",
       "</style>\n",
       "<table border=\"1\" class=\"dataframe\">\n",
       "  <thead>\n",
       "    <tr style=\"text-align: right;\">\n",
       "      <th></th>\n",
       "      <th>Unnamed: 0</th>\n",
       "      <th>trial_id</th>\n",
       "      <th>word</th>\n",
       "      <th>correct_key</th>\n",
       "      <th>button</th>\n",
       "      <th>rt</th>\n",
       "      <th>subj</th>\n",
       "      <th>freqs</th>\n",
       "      <th>sims</th>\n",
       "    </tr>\n",
       "  </thead>\n",
       "  <tbody>\n",
       "    <tr>\n",
       "      <th>0</th>\n",
       "      <td>0</td>\n",
       "      <td>0</td>\n",
       "      <td>pinguin</td>\n",
       "      <td>l</td>\n",
       "      <td>l</td>\n",
       "      <td>0.415723</td>\n",
       "      <td>0</td>\n",
       "      <td>2.32</td>\n",
       "      <td>0.000000</td>\n",
       "    </tr>\n",
       "    <tr>\n",
       "      <th>1</th>\n",
       "      <td>1</td>\n",
       "      <td>1</td>\n",
       "      <td>goldfisch</td>\n",
       "      <td>l</td>\n",
       "      <td>l</td>\n",
       "      <td>0.487444</td>\n",
       "      <td>0</td>\n",
       "      <td>1.97</td>\n",
       "      <td>0.179393</td>\n",
       "    </tr>\n",
       "    <tr>\n",
       "      <th>2</th>\n",
       "      <td>2</td>\n",
       "      <td>2</td>\n",
       "      <td>lama</td>\n",
       "      <td>l</td>\n",
       "      <td>l</td>\n",
       "      <td>0.533625</td>\n",
       "      <td>0</td>\n",
       "      <td>4.09</td>\n",
       "      <td>0.004789</td>\n",
       "    </tr>\n",
       "    <tr>\n",
       "      <th>3</th>\n",
       "      <td>3</td>\n",
       "      <td>3</td>\n",
       "      <td>orchidee</td>\n",
       "      <td>l</td>\n",
       "      <td>l</td>\n",
       "      <td>0.470491</td>\n",
       "      <td>0</td>\n",
       "      <td>2.13</td>\n",
       "      <td>0.088054</td>\n",
       "    </tr>\n",
       "    <tr>\n",
       "      <th>4</th>\n",
       "      <td>4</td>\n",
       "      <td>4</td>\n",
       "      <td>scotch</td>\n",
       "      <td>l</td>\n",
       "      <td>l</td>\n",
       "      <td>0.459900</td>\n",
       "      <td>0</td>\n",
       "      <td>9.37</td>\n",
       "      <td>0.026734</td>\n",
       "    </tr>\n",
       "  </tbody>\n",
       "</table>\n",
       "</div>"
      ],
      "text/plain": [
       "   Unnamed: 0  trial_id       word correct_key button        rt  subj  freqs  \\\n",
       "0           0         0    pinguin           l      l  0.415723     0   2.32   \n",
       "1           1         1  goldfisch           l      l  0.487444     0   1.97   \n",
       "2           2         2       lama           l      l  0.533625     0   4.09   \n",
       "3           3         3   orchidee           l      l  0.470491     0   2.13   \n",
       "4           4         4     scotch           l      l  0.459900     0   9.37   \n",
       "\n",
       "       sims  \n",
       "0  0.000000  \n",
       "1  0.179393  \n",
       "2  0.004789  \n",
       "3  0.088054  \n",
       "4  0.026734  "
      ]
     },
     "execution_count": 5,
     "metadata": {},
     "output_type": "execute_result"
    }
   ],
   "source": [
    "df.head()"
   ]
  },
  {
   "cell_type": "markdown",
   "metadata": {},
   "source": [
    "Statistische Grundfunktionen befinden sich im scipy-Modul `stats`."
   ]
  },
  {
   "cell_type": "code",
   "execution_count": 6,
   "metadata": {},
   "outputs": [],
   "source": [
    "from scipy import stats"
   ]
  },
  {
   "cell_type": "code",
   "execution_count": 7,
   "metadata": {},
   "outputs": [
    {
     "data": {
      "text/plain": [
       "SpearmanrResult(correlation=-0.05419999048463397, pvalue=0.0016126023583921832)"
      ]
     },
     "execution_count": 7,
     "metadata": {},
     "output_type": "execute_result"
    }
   ],
   "source": [
    "stats.spearmanr(df[\"rt\"], df[\"freqs\"])"
   ]
  },
  {
   "cell_type": "code",
   "execution_count": 8,
   "metadata": {},
   "outputs": [
    {
     "data": {
      "text/plain": [
       "(-0.04374412928526735, 0.010940544434177517)"
      ]
     },
     "execution_count": 8,
     "metadata": {},
     "output_type": "execute_result"
    }
   ],
   "source": [
    "stats.pearsonr(df[\"rt\"], df[\"freqs\"])"
   ]
  },
  {
   "cell_type": "markdown",
   "metadata": {},
   "source": [
    "Natürlich lässt sich eine Rangkorrelation auch berechnen, indem man Pandas die Ränge rechnen lässt. Vgl. zur Spearman-Korrelation oben:"
   ]
  },
  {
   "cell_type": "code",
   "execution_count": 9,
   "metadata": {},
   "outputs": [
    {
     "data": {
      "text/plain": [
       "(-0.05419999048463397, 0.0016126023583903604)"
      ]
     },
     "execution_count": 9,
     "metadata": {},
     "output_type": "execute_result"
    }
   ],
   "source": [
    "stats.pearsonr(df[\"rt\"].rank(), df[\"freqs\"].rank())"
   ]
  },
  {
   "cell_type": "markdown",
   "metadata": {},
   "source": [
    "Oft lohnt es sich, in einem Pandas-Dataframe neue Spalten zu erstellen."
   ]
  },
  {
   "cell_type": "code",
   "execution_count": 10,
   "metadata": {},
   "outputs": [],
   "source": [
    "df[\"rt_ranks\"] = df[\"rt\"].rank()\n",
    "df[\"iscorrect\"] = df[\"correct_key\"] == df[\"button\"]"
   ]
  },
  {
   "cell_type": "markdown",
   "metadata": {},
   "source": [
    "Damit lassen sich manche Aufgaben schneller erledigen ..."
   ]
  },
  {
   "cell_type": "code",
   "execution_count": 11,
   "metadata": {},
   "outputs": [
    {
     "data": {
      "text/plain": [
       "Ttest_indResult(statistic=6.697868599226574, pvalue=2.4670031451335826e-11)"
      ]
     },
     "execution_count": 11,
     "metadata": {},
     "output_type": "execute_result"
    }
   ],
   "source": [
    "rt_correct = df.query(\"correct_key == button\")[\"rt\"]\n",
    "rt_incorrect = df.query(\"correct_key != button\")[\"rt\"]\n",
    "stats.ttest_ind(rt_correct, rt_incorrect)"
   ]
  },
  {
   "cell_type": "code",
   "execution_count": 12,
   "metadata": {},
   "outputs": [
    {
     "data": {
      "text/plain": [
       "Ttest_indResult(statistic=6.697868599226574, pvalue=2.4670031451335826e-11)"
      ]
     },
     "execution_count": 12,
     "metadata": {},
     "output_type": "execute_result"
    }
   ],
   "source": [
    "stats.ttest_ind(df.query(\"iscorrect\")[\"rt\"], df.query(\"iscorrect == False\")[\"rt\"])"
   ]
  },
  {
   "cell_type": "markdown",
   "metadata": {},
   "source": [
    "Natürlich handelt es sich hier um ein Repeated Measures - Design. Das heißt, wir müssen eigentlich die Daten der einzelnen Versuchspersonen gruppieren.\n",
    "\n",
    "Wir können das in Pandas mit `df.groupby`:"
   ]
  },
  {
   "cell_type": "code",
   "execution_count": 13,
   "metadata": {},
   "outputs": [
    {
     "data": {
      "text/plain": [
       "<pandas.core.groupby.groupby.DataFrameGroupBy object at 0x10fe48208>"
      ]
     },
     "execution_count": 13,
     "metadata": {},
     "output_type": "execute_result"
    }
   ],
   "source": [
    "df.groupby(\"subj\")"
   ]
  },
  {
   "cell_type": "markdown",
   "metadata": {},
   "source": [
    "Ein `groupby`-Objekt entspricht in etwa einer Liste von Unter-Dataframes. Wir können über sie aggregieren mit Hilfe einer Aggregationsfunktion:"
   ]
  },
  {
   "cell_type": "code",
   "execution_count": 14,
   "metadata": {},
   "outputs": [
    {
     "data": {
      "text/plain": [
       "subj\n",
       "0    0.504720\n",
       "1    0.510656\n",
       "2    0.457610\n",
       "3    0.512245\n",
       "4    0.505778\n",
       "5    0.646130\n",
       "6    0.438485\n",
       "7    0.524098\n",
       "Name: rt, dtype: float64"
      ]
     },
     "execution_count": 14,
     "metadata": {},
     "output_type": "execute_result"
    }
   ],
   "source": [
    "df.query(\"iscorrect\").groupby(\"subj\").mean()[\"rt\"]"
   ]
  },
  {
   "cell_type": "markdown",
   "metadata": {},
   "source": [
    "Hier haben wir:\n",
    "    - die richtig beantworteten Trials ausgewählt\n",
    "    - nach `subj` (Versuchsperson) gruppiert\n",
    "    - mit dem Mittelwert aggregiert\n",
    " \n",
    "Es ist auch möglich, über mehrere Variablen zu aggregieren:"
   ]
  },
  {
   "cell_type": "code",
   "execution_count": 15,
   "metadata": {},
   "outputs": [
    {
     "data": {
      "text/plain": [
       "subj  iscorrect\n",
       "0     False        0.494170\n",
       "      True         0.504720\n",
       "1     False        0.490985\n",
       "      True         0.510656\n",
       "2     False        0.426470\n",
       "      True         0.457610\n",
       "3     False        0.475888\n",
       "      True         0.512245\n",
       "4     False        0.437818\n",
       "      True         0.505778\n",
       "5     False        0.455135\n",
       "      True         0.646130\n",
       "6     False        0.416255\n",
       "      True         0.438485\n",
       "7     False        0.471623\n",
       "      True         0.524098\n",
       "Name: rt, dtype: float64"
      ]
     },
     "execution_count": 15,
     "metadata": {},
     "output_type": "execute_result"
    }
   ],
   "source": [
    "df.groupby([\"subj\", \"iscorrect\"]).mean()[\"rt\"]"
   ]
  },
  {
   "cell_type": "markdown",
   "metadata": {},
   "source": [
    "Das Resultat ist ein *Hierarchischer Index*.  Dieser Mehrebenen-Index kann mit `.reset_index()` in einfache Spalten umgewandelt werden:"
   ]
  },
  {
   "cell_type": "code",
   "execution_count": 16,
   "metadata": {},
   "outputs": [
    {
     "data": {
      "text/html": [
       "<div>\n",
       "<style scoped>\n",
       "    .dataframe tbody tr th:only-of-type {\n",
       "        vertical-align: middle;\n",
       "    }\n",
       "\n",
       "    .dataframe tbody tr th {\n",
       "        vertical-align: top;\n",
       "    }\n",
       "\n",
       "    .dataframe thead th {\n",
       "        text-align: right;\n",
       "    }\n",
       "</style>\n",
       "<table border=\"1\" class=\"dataframe\">\n",
       "  <thead>\n",
       "    <tr style=\"text-align: right;\">\n",
       "      <th></th>\n",
       "      <th>subj</th>\n",
       "      <th>iscorrect</th>\n",
       "      <th>rt</th>\n",
       "    </tr>\n",
       "  </thead>\n",
       "  <tbody>\n",
       "    <tr>\n",
       "      <th>0</th>\n",
       "      <td>0</td>\n",
       "      <td>False</td>\n",
       "      <td>0.494170</td>\n",
       "    </tr>\n",
       "    <tr>\n",
       "      <th>1</th>\n",
       "      <td>0</td>\n",
       "      <td>True</td>\n",
       "      <td>0.504720</td>\n",
       "    </tr>\n",
       "    <tr>\n",
       "      <th>2</th>\n",
       "      <td>1</td>\n",
       "      <td>False</td>\n",
       "      <td>0.490985</td>\n",
       "    </tr>\n",
       "    <tr>\n",
       "      <th>3</th>\n",
       "      <td>1</td>\n",
       "      <td>True</td>\n",
       "      <td>0.510656</td>\n",
       "    </tr>\n",
       "    <tr>\n",
       "      <th>4</th>\n",
       "      <td>2</td>\n",
       "      <td>False</td>\n",
       "      <td>0.426470</td>\n",
       "    </tr>\n",
       "    <tr>\n",
       "      <th>5</th>\n",
       "      <td>2</td>\n",
       "      <td>True</td>\n",
       "      <td>0.457610</td>\n",
       "    </tr>\n",
       "    <tr>\n",
       "      <th>6</th>\n",
       "      <td>3</td>\n",
       "      <td>False</td>\n",
       "      <td>0.475888</td>\n",
       "    </tr>\n",
       "    <tr>\n",
       "      <th>7</th>\n",
       "      <td>3</td>\n",
       "      <td>True</td>\n",
       "      <td>0.512245</td>\n",
       "    </tr>\n",
       "    <tr>\n",
       "      <th>8</th>\n",
       "      <td>4</td>\n",
       "      <td>False</td>\n",
       "      <td>0.437818</td>\n",
       "    </tr>\n",
       "    <tr>\n",
       "      <th>9</th>\n",
       "      <td>4</td>\n",
       "      <td>True</td>\n",
       "      <td>0.505778</td>\n",
       "    </tr>\n",
       "    <tr>\n",
       "      <th>10</th>\n",
       "      <td>5</td>\n",
       "      <td>False</td>\n",
       "      <td>0.455135</td>\n",
       "    </tr>\n",
       "    <tr>\n",
       "      <th>11</th>\n",
       "      <td>5</td>\n",
       "      <td>True</td>\n",
       "      <td>0.646130</td>\n",
       "    </tr>\n",
       "    <tr>\n",
       "      <th>12</th>\n",
       "      <td>6</td>\n",
       "      <td>False</td>\n",
       "      <td>0.416255</td>\n",
       "    </tr>\n",
       "    <tr>\n",
       "      <th>13</th>\n",
       "      <td>6</td>\n",
       "      <td>True</td>\n",
       "      <td>0.438485</td>\n",
       "    </tr>\n",
       "    <tr>\n",
       "      <th>14</th>\n",
       "      <td>7</td>\n",
       "      <td>False</td>\n",
       "      <td>0.471623</td>\n",
       "    </tr>\n",
       "    <tr>\n",
       "      <th>15</th>\n",
       "      <td>7</td>\n",
       "      <td>True</td>\n",
       "      <td>0.524098</td>\n",
       "    </tr>\n",
       "  </tbody>\n",
       "</table>\n",
       "</div>"
      ],
      "text/plain": [
       "    subj  iscorrect        rt\n",
       "0      0      False  0.494170\n",
       "1      0       True  0.504720\n",
       "2      1      False  0.490985\n",
       "3      1       True  0.510656\n",
       "4      2      False  0.426470\n",
       "5      2       True  0.457610\n",
       "6      3      False  0.475888\n",
       "7      3       True  0.512245\n",
       "8      4      False  0.437818\n",
       "9      4       True  0.505778\n",
       "10     5      False  0.455135\n",
       "11     5       True  0.646130\n",
       "12     6      False  0.416255\n",
       "13     6       True  0.438485\n",
       "14     7      False  0.471623\n",
       "15     7       True  0.524098"
      ]
     },
     "execution_count": 16,
     "metadata": {},
     "output_type": "execute_result"
    }
   ],
   "source": [
    "df.groupby([\"subj\", \"iscorrect\"]).mean()[\"rt\"].reset_index()"
   ]
  },
  {
   "cell_type": "markdown",
   "metadata": {},
   "source": [
    "Mit `groupby` können wir jetzt einfach die means der einzelnen Versuchspersonen berechnen:"
   ]
  },
  {
   "cell_type": "code",
   "execution_count": 17,
   "metadata": {},
   "outputs": [
    {
     "data": {
      "text/plain": [
       "Ttest_relResult(statistic=2.6115258577702902, pvalue=0.0348359204393161)"
      ]
     },
     "execution_count": 17,
     "metadata": {},
     "output_type": "execute_result"
    }
   ],
   "source": [
    "richtige = df.query(\"iscorrect\").groupby(\"subj\")[\"rt\"].mean()\n",
    "falsche = df.query(\"iscorrect == False\").groupby(\"subj\")[\"rt\"].mean()\n",
    "\n",
    "stats.ttest_rel(richtige, falsche)"
   ]
  },
  {
   "cell_type": "markdown",
   "metadata": {},
   "source": [
    "Wir können auch andere Aggregierungsfunktionen benutzen, zb. die Standardabweichung:"
   ]
  },
  {
   "cell_type": "code",
   "execution_count": 18,
   "metadata": {},
   "outputs": [
    {
     "data": {
      "text/plain": [
       "Ttest_relResult(statistic=0.9300353207986634, pvalue=0.38330547048898866)"
      ]
     },
     "execution_count": 18,
     "metadata": {},
     "output_type": "execute_result"
    }
   ],
   "source": [
    "richtige = df.query(\"iscorrect\").groupby(\"subj\")[\"rt\"].std()\n",
    "falsche = df.query(\"iscorrect == False\").groupby(\"subj\")[\"rt\"].std()\n",
    "\n",
    "stats.ttest_rel(richtige, falsche)"
   ]
  },
  {
   "cell_type": "markdown",
   "metadata": {},
   "source": [
    "Das Resultat von Gruppierung und Aggregierung (sowie evtl. `reset_index()`) ist ein ganz normaler Dataframe:"
   ]
  },
  {
   "cell_type": "code",
   "execution_count": 19,
   "metadata": {},
   "outputs": [
    {
     "data": {
      "text/html": [
       "<div>\n",
       "<style scoped>\n",
       "    .dataframe tbody tr th:only-of-type {\n",
       "        vertical-align: middle;\n",
       "    }\n",
       "\n",
       "    .dataframe tbody tr th {\n",
       "        vertical-align: top;\n",
       "    }\n",
       "\n",
       "    .dataframe thead th {\n",
       "        text-align: right;\n",
       "    }\n",
       "</style>\n",
       "<table border=\"1\" class=\"dataframe\">\n",
       "  <thead>\n",
       "    <tr style=\"text-align: right;\">\n",
       "      <th></th>\n",
       "      <th>subj</th>\n",
       "      <th>iscorrect</th>\n",
       "      <th>rt</th>\n",
       "    </tr>\n",
       "  </thead>\n",
       "  <tbody>\n",
       "    <tr>\n",
       "      <th>1</th>\n",
       "      <td>0</td>\n",
       "      <td>True</td>\n",
       "      <td>0.504720</td>\n",
       "    </tr>\n",
       "    <tr>\n",
       "      <th>3</th>\n",
       "      <td>1</td>\n",
       "      <td>True</td>\n",
       "      <td>0.510656</td>\n",
       "    </tr>\n",
       "    <tr>\n",
       "      <th>5</th>\n",
       "      <td>2</td>\n",
       "      <td>True</td>\n",
       "      <td>0.457610</td>\n",
       "    </tr>\n",
       "    <tr>\n",
       "      <th>7</th>\n",
       "      <td>3</td>\n",
       "      <td>True</td>\n",
       "      <td>0.512245</td>\n",
       "    </tr>\n",
       "    <tr>\n",
       "      <th>9</th>\n",
       "      <td>4</td>\n",
       "      <td>True</td>\n",
       "      <td>0.505778</td>\n",
       "    </tr>\n",
       "    <tr>\n",
       "      <th>11</th>\n",
       "      <td>5</td>\n",
       "      <td>True</td>\n",
       "      <td>0.646130</td>\n",
       "    </tr>\n",
       "    <tr>\n",
       "      <th>13</th>\n",
       "      <td>6</td>\n",
       "      <td>True</td>\n",
       "      <td>0.438485</td>\n",
       "    </tr>\n",
       "    <tr>\n",
       "      <th>15</th>\n",
       "      <td>7</td>\n",
       "      <td>True</td>\n",
       "      <td>0.524098</td>\n",
       "    </tr>\n",
       "  </tbody>\n",
       "</table>\n",
       "</div>"
      ],
      "text/plain": [
       "    subj  iscorrect        rt\n",
       "1      0       True  0.504720\n",
       "3      1       True  0.510656\n",
       "5      2       True  0.457610\n",
       "7      3       True  0.512245\n",
       "9      4       True  0.505778\n",
       "11     5       True  0.646130\n",
       "13     6       True  0.438485\n",
       "15     7       True  0.524098"
      ]
     },
     "execution_count": 19,
     "metadata": {},
     "output_type": "execute_result"
    }
   ],
   "source": [
    "df.groupby([\"subj\", \"iscorrect\"]).mean()[\"rt\"].reset_index().query(\"iscorrect\")"
   ]
  },
  {
   "cell_type": "markdown",
   "metadata": {},
   "source": [
    "Seaborn bietet eine große Spanne von Visualisierungsfunktionen zur Verfügung. Die typische Syntax ist so aufgebaut, dass über die `x`, `y` und `hue` - Variablen angegeben wird, welche Aspekte der Daten - bzw. welche Spalten eines Dataframes (der mit dem `data`-Parameter spezifiziert wird) - auf die X - und Y-Achsen sowie Farbwahl gemappt werden."
   ]
  },
  {
   "cell_type": "code",
   "execution_count": 20,
   "metadata": {},
   "outputs": [
    {
     "name": "stderr",
     "output_type": "stream",
     "text": [
      "/Users/jona/miniconda3/lib/python3.6/site-packages/scipy/stats/stats.py:1713: FutureWarning: Using a non-tuple sequence for multidimensional indexing is deprecated; use `arr[tuple(seq)]` instead of `arr[seq]`. In the future this will be interpreted as an array index, `arr[np.array(seq)]`, which will result either in an error or a different result.\n",
      "  return np.add.reduce(sorted[indexer] * weights, axis=axis) / sumval\n"
     ]
    },
    {
     "data": {
      "text/plain": [
       "<matplotlib.axes._subplots.AxesSubplot at 0x10f9a9898>"
      ]
     },
     "execution_count": 20,
     "metadata": {},
     "output_type": "execute_result"
    },
    {
     "data": {
      "image/png": "[encoded data removed]",
      "text/plain": [
       "<Figure size 432x288 with 1 Axes>"
      ]
     },
     "metadata": {
      "image/png": {
       "height": 263,
       "width": 385
      }
     },
     "output_type": "display_data"
    }
   ],
   "source": [
    "sns.barplot(x=\"iscorrect\", y=\"rt\", hue=\"correct_key\", data=df)"
   ]
  },
  {
   "cell_type": "code",
   "execution_count": 21,
   "metadata": {},
   "outputs": [
    {
     "data": {
      "text/plain": [
       "<matplotlib.axes._subplots.AxesSubplot at 0x1c23bae860>"
      ]
     },
     "execution_count": 21,
     "metadata": {},
     "output_type": "execute_result"
    },
    {
     "data": {
      "image/png": "[encoded data removed]",
      "text/plain": [
       "<Figure size 432x288 with 1 Axes>"
      ]
     },
     "metadata": {
      "image/png": {
       "height": 263,
       "width": 385
      }
     },
     "output_type": "display_data"
    }
   ],
   "source": [
    "sns.boxplot(x=\"iscorrect\", y=\"rt\", hue=\"correct_key\", data=df, palette=\"coolwarm\")"
   ]
  },
  {
   "cell_type": "code",
   "execution_count": 22,
   "metadata": {},
   "outputs": [
    {
     "name": "stderr",
     "output_type": "stream",
     "text": [
      "/Users/jona/miniconda3/lib/python3.6/site-packages/seaborn/categorical.py:3666: UserWarning: The `factorplot` function has been renamed to `catplot`. The original name will be removed in a future release. Please update your code. Note that the default `kind` in `factorplot` (`'point'`) has changed `'strip'` in `catplot`.\n",
      "  warnings.warn(msg)\n",
      "/Users/jona/miniconda3/lib/python3.6/site-packages/scipy/stats/stats.py:1713: FutureWarning: Using a non-tuple sequence for multidimensional indexing is deprecated; use `arr[tuple(seq)]` instead of `arr[seq]`. In the future this will be interpreted as an array index, `arr[np.array(seq)]`, which will result either in an error or a different result.\n",
      "  return np.add.reduce(sorted[indexer] * weights, axis=axis) / sumval\n"
     ]
    },
    {
     "data": {
      "text/plain": [
       "<seaborn.axisgrid.FacetGrid at 0x1c22dfb128>"
      ]
     },
     "execution_count": 22,
     "metadata": {},
     "output_type": "execute_result"
    },
    {
     "data": {
      "image/png": "[encoded data removed]",
      "text/plain": [
       "<Figure size 419.875x360 with 1 Axes>"
      ]
     },
     "metadata": {
      "image/png": {
       "height": 352,
       "width": 410
      }
     },
     "output_type": "display_data"
    }
   ],
   "source": [
    "sns.factorplot(x=\"iscorrect\", y=\"rt\", hue=\"correct_key\", data=df, palette=\"pink\")"
   ]
  },
  {
   "cell_type": "markdown",
   "metadata": {},
   "source": [
    "## Hausaufgabe\n",
    "\n",
    "- Erstellen Sie einen neuen Dataframe, in dem sie die Daten nach Versuchsperson und der Richtigkeit der Antwort gruppieren. Verwenden Sie `.reset_index()`."
   ]
  },
  {
   "cell_type": "code",
   "execution_count": null,
   "metadata": {},
   "outputs": [],
   "source": [
    "df_by_subj = df. ...  .reset_index()"
   ]
  },
  {
   "cell_type": "markdown",
   "metadata": {},
   "source": [
    "- Testen Sie (... mal wieder), ob die durchschnittliche Reaktionszeit für richtig beantwortete Trials pro Versuchsperson sich unterscheidet zwischen richtigen und falschen Antworten. Ziehen sie die Daten dafür aus dem in der vorigen Aufgabe neu erstellen Dataframe."
   ]
  },
  {
   "cell_type": "code",
   "execution_count": null,
   "metadata": {},
   "outputs": [],
   "source": [
    "correct_rt = df_by_subj[\" ... \n",
    "\n",
    "...\n",
    "\n",
    "stats.tt_ ..."
   ]
  },
  {
   "cell_type": "markdown",
   "metadata": {},
   "source": [
    "* Visualisieren Sie die über VP und Richtigkeit aggregierten Reaktionszeiten mit Hilfe eines Box-, Bar- oder Faktorplots. Verwenden Sie die x-Achse, um die Richtigkeit anzuzeigen."
   ]
  },
  {
   "cell_type": "code",
   "execution_count": null,
   "metadata": {
    "scrolled": false
   },
   "outputs": [],
   "source": [
    "sns.factorplot(x=\" ..., \", data=df_by_subj ..."
   ]
  },
  {
   "cell_type": "markdown",
   "metadata": {},
   "source": [
    "### Bonusaufgabe\n",
    "\n",
    "- Berechnen Sie für jede Versuchsperson einzeln, ob es eine Korrelation zw. Reaktionszeit und Zeit (gemessen als Trialnummer; `trial_id`) gibt. Tipp: DataFrames haben eine `.corr`-Method. Im Zweifelsfalle können Sie folgendermaßen über die Versuchspersonen iterieren:\n"
   ]
  },
  {
   "cell_type": "code",
   "execution_count": null,
   "metadata": {},
   "outputs": [],
   "source": [
    "for subj in df[\"subj\"].unique():\n",
    "    df.query(\"subj == {}\".format(subj))\n",
    "    ..."
   ]
  },
  {
   "cell_type": "markdown",
   "metadata": {},
   "source": [
    "- Plotten Sie diese Korrelationen mit Hilfe eines Boxplots.\n",
    "- Berechnen Sie, ob diese Korrelationskoeffizienten sich signifikant von 0 unterscheiden."
   ]
  },
  {
   "cell_type": "markdown",
   "metadata": {},
   "source": [
    "* Bonus-Bonusaufgabe: Erledigen Sie Bonusaufgaben 1 + 3 in nur 1 Zeile; verwenden Sie nur innerhalb dieses Notebooks schon verwendete oder zumindest erwähnte Methoden."
   ]
  },
  {
   "cell_type": "code",
   "execution_count": null,
   "metadata": {},
   "outputs": [],
   "source": [
    "stats.wilcoxon(df.groupby( ...                                                                                                                                                                             df.groupby([\"subj\"]).corr().reset_index().query(\"level_1 == 'rt'\")[\"trial_id\"]"
   ]
  },
  {
   "cell_type": "code",
   "execution_count": null,
   "metadata": {},
   "outputs": [],
   "source": []
  }
 ],
 "metadata": {
  "anaconda-cloud": {},
  "kernelspec": {
   "display_name": "Python [conda root]",
   "language": "python",
   "name": "conda-root-py"
  },
  "language_info": {
   "codemirror_mode": {
    "name": "ipython",
    "version": 3
   },
   "file_extension": ".py",
   "mimetype": "text/x-python",
   "name": "python",
   "nbconvert_exporter": "python",
   "pygments_lexer": "ipython3",
   "version": "3.6.5"
  }
 },
 "nbformat": 4,
 "nbformat_minor": 1
}
