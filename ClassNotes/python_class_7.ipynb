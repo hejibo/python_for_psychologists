{
 "cells": [
  {
   "cell_type": "markdown",
   "metadata": {},
   "source": [
    "# Return of the Notebook\n",
    "\n",
    "Erhobene Daten können meist am einfachsten im Notebook analysiert werden.\n",
    "Oftmals sind unsere Daten in Tabellenform vorhanden. In diesem Falle bietet\n",
    "sich das `Pandas`-Paket an."
   ]
  },
  {
   "cell_type": "code",
   "execution_count": 2,
   "metadata": {},
   "outputs": [],
   "source": [
    "%matplotlib inline\n",
    "\n",
    "import pandas as pd  # pandas zur Arbeit mit \"Dataframes\" - also Daten in Tabellen\n",
    "import numpy as np\n",
    "import seaborn as sns  # für bequeme Visualisierung"
   ]
  },
  {
   "cell_type": "code",
   "execution_count": 3,
   "metadata": {},
   "outputs": [],
   "source": [
    "fname = \"./all_res_class_contextvals.csv\"  # richtigen Namen einsetzen ...\n",
    "df = pd.read_csv(fname)  # einladen einer CSV-Datei; siehe auch `pd.read_csv?`"
   ]
  },
  {
   "cell_type": "markdown",
   "metadata": {},
   "source": [
    "In `df` sind jetzt die Daten als Dataframe gespeichert. Mit der `head`-method von Dataframes können nur die ersten Zeilen angezeigt werden - man sieht das Spalten/Zeilen-Layout -, und mit `describe` eine Zusammenfassung der numerischen Einträge:"
   ]
  },
  {
   "cell_type": "code",
   "execution_count": 4,
   "metadata": {},
   "outputs": [
    {
     "data": {
      "text/html": [
       "<div>\n",
       "<style scoped>\n",
       "    .dataframe tbody tr th:only-of-type {\n",
       "        vertical-align: middle;\n",
       "    }\n",
       "\n",
       "    .dataframe tbody tr th {\n",
       "        vertical-align: top;\n",
       "    }\n",
       "\n",
       "    .dataframe thead th {\n",
       "        text-align: right;\n",
       "    }\n",
       "</style>\n",
       "<table border=\"1\" class=\"dataframe\">\n",
       "  <thead>\n",
       "    <tr style=\"text-align: right;\">\n",
       "      <th></th>\n",
       "      <th>Unnamed: 0</th>\n",
       "      <th>trial_id</th>\n",
       "      <th>word</th>\n",
       "      <th>correct_key</th>\n",
       "      <th>button</th>\n",
       "      <th>rt</th>\n",
       "      <th>subj</th>\n",
       "      <th>freqs</th>\n",
       "      <th>sims</th>\n",
       "    </tr>\n",
       "  </thead>\n",
       "  <tbody>\n",
       "    <tr>\n",
       "      <th>0</th>\n",
       "      <td>0</td>\n",
       "      <td>0</td>\n",
       "      <td>pinguin</td>\n",
       "      <td>l</td>\n",
       "      <td>l</td>\n",
       "      <td>0.415723</td>\n",
       "      <td>0</td>\n",
       "      <td>2.32</td>\n",
       "      <td>0.000000</td>\n",
       "    </tr>\n",
       "    <tr>\n",
       "      <th>1</th>\n",
       "      <td>1</td>\n",
       "      <td>1</td>\n",
       "      <td>goldfisch</td>\n",
       "      <td>l</td>\n",
       "      <td>l</td>\n",
       "      <td>0.487444</td>\n",
       "      <td>0</td>\n",
       "      <td>1.97</td>\n",
       "      <td>0.179393</td>\n",
       "    </tr>\n",
       "    <tr>\n",
       "      <th>2</th>\n",
       "      <td>2</td>\n",
       "      <td>2</td>\n",
       "      <td>lama</td>\n",
       "      <td>l</td>\n",
       "      <td>l</td>\n",
       "      <td>0.533625</td>\n",
       "      <td>0</td>\n",
       "      <td>4.09</td>\n",
       "      <td>0.004789</td>\n",
       "    </tr>\n",
       "    <tr>\n",
       "      <th>3</th>\n",
       "      <td>3</td>\n",
       "      <td>3</td>\n",
       "      <td>orchidee</td>\n",
       "      <td>l</td>\n",
       "      <td>l</td>\n",
       "      <td>0.470491</td>\n",
       "      <td>0</td>\n",
       "      <td>2.13</td>\n",
       "      <td>0.088054</td>\n",
       "    </tr>\n",
       "    <tr>\n",
       "      <th>4</th>\n",
       "      <td>4</td>\n",
       "      <td>4</td>\n",
       "      <td>scotch</td>\n",
       "      <td>l</td>\n",
       "      <td>l</td>\n",
       "      <td>0.459900</td>\n",
       "      <td>0</td>\n",
       "      <td>9.37</td>\n",
       "      <td>0.026734</td>\n",
       "    </tr>\n",
       "  </tbody>\n",
       "</table>\n",
       "</div>"
      ],
      "text/plain": [
       "   Unnamed: 0  trial_id       word correct_key button        rt  subj  freqs  \\\n",
       "0           0         0    pinguin           l      l  0.415723     0   2.32   \n",
       "1           1         1  goldfisch           l      l  0.487444     0   1.97   \n",
       "2           2         2       lama           l      l  0.533625     0   4.09   \n",
       "3           3         3   orchidee           l      l  0.470491     0   2.13   \n",
       "4           4         4     scotch           l      l  0.459900     0   9.37   \n",
       "\n",
       "       sims  \n",
       "0  0.000000  \n",
       "1  0.179393  \n",
       "2  0.004789  \n",
       "3  0.088054  \n",
       "4  0.026734  "
      ]
     },
     "execution_count": 4,
     "metadata": {},
     "output_type": "execute_result"
    }
   ],
   "source": [
    "df.head()"
   ]
  },
  {
   "cell_type": "code",
   "execution_count": 5,
   "metadata": {},
   "outputs": [
    {
     "data": {
      "text/html": [
       "<div>\n",
       "<style scoped>\n",
       "    .dataframe tbody tr th:only-of-type {\n",
       "        vertical-align: middle;\n",
       "    }\n",
       "\n",
       "    .dataframe tbody tr th {\n",
       "        vertical-align: top;\n",
       "    }\n",
       "\n",
       "    .dataframe thead th {\n",
       "        text-align: right;\n",
       "    }\n",
       "</style>\n",
       "<table border=\"1\" class=\"dataframe\">\n",
       "  <thead>\n",
       "    <tr style=\"text-align: right;\">\n",
       "      <th></th>\n",
       "      <th>Unnamed: 0</th>\n",
       "      <th>trial_id</th>\n",
       "      <th>rt</th>\n",
       "      <th>subj</th>\n",
       "      <th>freqs</th>\n",
       "      <th>sims</th>\n",
       "    </tr>\n",
       "  </thead>\n",
       "  <tbody>\n",
       "    <tr>\n",
       "      <th>count</th>\n",
       "      <td>3431.000000</td>\n",
       "      <td>3431.000000</td>\n",
       "      <td>3431.000000</td>\n",
       "      <td>3431.000000</td>\n",
       "      <td>3431.000000</td>\n",
       "      <td>3431.000000</td>\n",
       "    </tr>\n",
       "    <tr>\n",
       "      <th>mean</th>\n",
       "      <td>1715.000000</td>\n",
       "      <td>214.330516</td>\n",
       "      <td>14.477590</td>\n",
       "      <td>3.453512</td>\n",
       "      <td>36.023862</td>\n",
       "      <td>0.078300</td>\n",
       "    </tr>\n",
       "    <tr>\n",
       "      <th>std</th>\n",
       "      <td>990.588714</td>\n",
       "      <td>124.491005</td>\n",
       "      <td>117.289396</td>\n",
       "      <td>2.264077</td>\n",
       "      <td>167.260922</td>\n",
       "      <td>0.152236</td>\n",
       "    </tr>\n",
       "    <tr>\n",
       "      <th>min</th>\n",
       "      <td>0.000000</td>\n",
       "      <td>0.000000</td>\n",
       "      <td>0.300057</td>\n",
       "      <td>0.000000</td>\n",
       "      <td>0.000000</td>\n",
       "      <td>-0.132483</td>\n",
       "    </tr>\n",
       "    <tr>\n",
       "      <th>25%</th>\n",
       "      <td>857.500000</td>\n",
       "      <td>107.000000</td>\n",
       "      <td>0.428454</td>\n",
       "      <td>1.000000</td>\n",
       "      <td>0.910000</td>\n",
       "      <td>-0.009374</td>\n",
       "    </tr>\n",
       "    <tr>\n",
       "      <th>50%</th>\n",
       "      <td>1715.000000</td>\n",
       "      <td>214.000000</td>\n",
       "      <td>0.490530</td>\n",
       "      <td>3.000000</td>\n",
       "      <td>3.500000</td>\n",
       "      <td>0.028010</td>\n",
       "    </tr>\n",
       "    <tr>\n",
       "      <th>75%</th>\n",
       "      <td>2572.500000</td>\n",
       "      <td>321.000000</td>\n",
       "      <td>0.563579</td>\n",
       "      <td>5.000000</td>\n",
       "      <td>12.010000</td>\n",
       "      <td>0.102908</td>\n",
       "    </tr>\n",
       "    <tr>\n",
       "      <th>max</th>\n",
       "      <td>3430.000000</td>\n",
       "      <td>453.000000</td>\n",
       "      <td>999.000000</td>\n",
       "      <td>7.000000</td>\n",
       "      <td>1458.480000</td>\n",
       "      <td>1.000000</td>\n",
       "    </tr>\n",
       "  </tbody>\n",
       "</table>\n",
       "</div>"
      ],
      "text/plain": [
       "        Unnamed: 0     trial_id           rt         subj        freqs  \\\n",
       "count  3431.000000  3431.000000  3431.000000  3431.000000  3431.000000   \n",
       "mean   1715.000000   214.330516    14.477590     3.453512    36.023862   \n",
       "std     990.588714   124.491005   117.289396     2.264077   167.260922   \n",
       "min       0.000000     0.000000     0.300057     0.000000     0.000000   \n",
       "25%     857.500000   107.000000     0.428454     1.000000     0.910000   \n",
       "50%    1715.000000   214.000000     0.490530     3.000000     3.500000   \n",
       "75%    2572.500000   321.000000     0.563579     5.000000    12.010000   \n",
       "max    3430.000000   453.000000   999.000000     7.000000  1458.480000   \n",
       "\n",
       "              sims  \n",
       "count  3431.000000  \n",
       "mean      0.078300  \n",
       "std       0.152236  \n",
       "min      -0.132483  \n",
       "25%      -0.009374  \n",
       "50%       0.028010  \n",
       "75%       0.102908  \n",
       "max       1.000000  "
      ]
     },
     "execution_count": 5,
     "metadata": {},
     "output_type": "execute_result"
    }
   ],
   "source": [
    "df.describe()"
   ]
  },
  {
   "cell_type": "markdown",
   "metadata": {},
   "source": [
    "Die Spalten eines Dataframes können wie die Einträge von dicts aufgerufen werden. Dies resultiert in einer `pandas.Series`, einer indizierten Liste. Z.b. können wir auf den \"rt\"-Eintrag, also hier die Reaktionszeiten, zugreifen."
   ]
  },
  {
   "cell_type": "code",
   "execution_count": 6,
   "metadata": {},
   "outputs": [
    {
     "data": {
      "text/plain": [
       "0       0.415723\n",
       "1       0.487444\n",
       "2       0.533625\n",
       "3       0.470491\n",
       "4       0.459900\n",
       "5       0.464433\n",
       "6       0.499804\n",
       "7       0.446707\n",
       "8       0.410699\n",
       "9       0.632099\n",
       "10      0.540468\n",
       "11      0.517968\n",
       "12      0.529165\n",
       "13      0.544372\n",
       "14      0.518079\n",
       "15      0.444693\n",
       "16      0.521750\n",
       "17      0.492606\n",
       "18      0.443727\n",
       "19      0.619597\n",
       "20      0.479782\n",
       "21      0.533660\n",
       "22      0.438538\n",
       "23      0.482328\n",
       "24      0.482386\n",
       "25      0.527686\n",
       "26      0.593242\n",
       "27      0.436570\n",
       "28      0.645483\n",
       "29      0.480192\n",
       "          ...   \n",
       "3401    0.499025\n",
       "3402    0.524039\n",
       "3403    0.480117\n",
       "3404    0.518131\n",
       "3405    0.521257\n",
       "3406    0.544721\n",
       "3407    0.522267\n",
       "3408    0.489172\n",
       "3409    0.517643\n",
       "3410    0.561087\n",
       "3411    0.586125\n",
       "3412    0.611901\n",
       "3413    0.670935\n",
       "3414    0.547390\n",
       "3415    0.587867\n",
       "3416    0.534694\n",
       "3417    0.581013\n",
       "3418    0.677997\n",
       "3419    0.519916\n",
       "3420    0.519635\n",
       "3421    0.496012\n",
       "3422    0.495662\n",
       "3423    0.601610\n",
       "3424    0.444621\n",
       "3425    0.522314\n",
       "3426    0.522300\n",
       "3427    0.453684\n",
       "3428    0.519695\n",
       "3429    0.548700\n",
       "3430    0.573293\n",
       "Name: rt, Length: 3431, dtype: float64"
      ]
     },
     "execution_count": 6,
     "metadata": {},
     "output_type": "execute_result"
    }
   ],
   "source": [
    "df[\"rt\"]"
   ]
  },
  {
   "cell_type": "markdown",
   "metadata": {},
   "source": [
    "Sie können in diese Series-Objekte indizieren wie in Listen."
   ]
  },
  {
   "cell_type": "code",
   "execution_count": 7,
   "metadata": {},
   "outputs": [
    {
     "data": {
      "text/plain": [
       "0.540467977524"
      ]
     },
     "execution_count": 7,
     "metadata": {},
     "output_type": "execute_result"
    }
   ],
   "source": [
    "df[\"rt\"][10]"
   ]
  },
  {
   "cell_type": "code",
   "execution_count": 8,
   "metadata": {},
   "outputs": [
    {
     "data": {
      "text/plain": [
       "0    0.415723\n",
       "1    0.487444\n",
       "2    0.533625\n",
       "3    0.470491\n",
       "4    0.459900\n",
       "5    0.464433\n",
       "6    0.499804\n",
       "7    0.446707\n",
       "8    0.410699\n",
       "9    0.632099\n",
       "Name: rt, dtype: float64"
      ]
     },
     "execution_count": 8,
     "metadata": {},
     "output_type": "execute_result"
    }
   ],
   "source": [
    "df[\"rt\"][:10]"
   ]
  },
  {
   "cell_type": "code",
   "execution_count": 9,
   "metadata": {},
   "outputs": [
    {
     "data": {
      "text/plain": [
       "10    0.540468\n",
       "11    0.517968\n",
       "12    0.529165\n",
       "13    0.544372\n",
       "14    0.518079\n",
       "Name: rt, dtype: float64"
      ]
     },
     "execution_count": 9,
     "metadata": {},
     "output_type": "execute_result"
    }
   ],
   "source": [
    "df[\"rt\"][10:15]"
   ]
  },
  {
   "cell_type": "markdown",
   "metadata": {},
   "source": [
    "Pandas stellt bereits Visualisierungsmethoden vor, etwa als methods auf den Dataframe- bzw. Series-Objekten."
   ]
  },
  {
   "cell_type": "code",
   "execution_count": 10,
   "metadata": {},
   "outputs": [
    {
     "data": {
      "text/plain": [
       "<matplotlib.axes._subplots.AxesSubplot at 0x1c187e28d0>"
      ]
     },
     "execution_count": 10,
     "metadata": {},
     "output_type": "execute_result"
    },
    {
     "data": {
      "image/png": "[encoded data removed]",
      "text/plain": [
       "<Figure size 432x288 with 1 Axes>"
      ]
     },
     "metadata": {
      "image/png": {
       "height": 250,
       "width": 380
      }
     },
     "output_type": "display_data"
    }
   ],
   "source": [
    "df[\"rt\"].hist()"
   ]
  },
  {
   "cell_type": "markdown",
   "metadata": {},
   "source": [
    "Aha! Es gibt einige Outlier. Fehlende Reaktionszeiten (zu spät) sind mit \"999\" kodiert. Wir können mit der `max`-method den höchsten Wert und mit der `query`-method ein Subset des Dataframes anzeigen lassen."
   ]
  },
  {
   "cell_type": "code",
   "execution_count": 11,
   "metadata": {},
   "outputs": [
    {
     "data": {
      "text/plain": [
       "999.0"
      ]
     },
     "execution_count": 11,
     "metadata": {},
     "output_type": "execute_result"
    }
   ],
   "source": [
    "df[\"rt\"].max()"
   ]
  },
  {
   "cell_type": "code",
   "execution_count": 12,
   "metadata": {},
   "outputs": [
    {
     "data": {
      "text/html": [
       "<div>\n",
       "<style scoped>\n",
       "    .dataframe tbody tr th:only-of-type {\n",
       "        vertical-align: middle;\n",
       "    }\n",
       "\n",
       "    .dataframe tbody tr th {\n",
       "        vertical-align: top;\n",
       "    }\n",
       "\n",
       "    .dataframe thead th {\n",
       "        text-align: right;\n",
       "    }\n",
       "</style>\n",
       "<table border=\"1\" class=\"dataframe\">\n",
       "  <thead>\n",
       "    <tr style=\"text-align: right;\">\n",
       "      <th></th>\n",
       "      <th>Unnamed: 0</th>\n",
       "      <th>trial_id</th>\n",
       "      <th>rt</th>\n",
       "      <th>subj</th>\n",
       "      <th>freqs</th>\n",
       "      <th>sims</th>\n",
       "    </tr>\n",
       "  </thead>\n",
       "  <tbody>\n",
       "    <tr>\n",
       "      <th>count</th>\n",
       "      <td>3383.000000</td>\n",
       "      <td>3383.000000</td>\n",
       "      <td>3383.000000</td>\n",
       "      <td>3383.000000</td>\n",
       "      <td>3383.000000</td>\n",
       "      <td>3383.000000</td>\n",
       "    </tr>\n",
       "    <tr>\n",
       "      <th>mean</th>\n",
       "      <td>1709.997931</td>\n",
       "      <td>214.426840</td>\n",
       "      <td>0.508606</td>\n",
       "      <td>3.441915</td>\n",
       "      <td>35.778093</td>\n",
       "      <td>0.078641</td>\n",
       "    </tr>\n",
       "    <tr>\n",
       "      <th>std</th>\n",
       "      <td>993.347523</td>\n",
       "      <td>124.532576</td>\n",
       "      <td>0.120306</td>\n",
       "      <td>2.271122</td>\n",
       "      <td>166.527549</td>\n",
       "      <td>0.152460</td>\n",
       "    </tr>\n",
       "    <tr>\n",
       "      <th>min</th>\n",
       "      <td>0.000000</td>\n",
       "      <td>0.000000</td>\n",
       "      <td>0.300057</td>\n",
       "      <td>0.000000</td>\n",
       "      <td>0.000000</td>\n",
       "      <td>-0.132483</td>\n",
       "    </tr>\n",
       "    <tr>\n",
       "      <th>25%</th>\n",
       "      <td>848.500000</td>\n",
       "      <td>106.000000</td>\n",
       "      <td>0.427950</td>\n",
       "      <td>1.000000</td>\n",
       "      <td>0.870000</td>\n",
       "      <td>-0.009267</td>\n",
       "    </tr>\n",
       "    <tr>\n",
       "      <th>50%</th>\n",
       "      <td>1705.000000</td>\n",
       "      <td>215.000000</td>\n",
       "      <td>0.488761</td>\n",
       "      <td>3.000000</td>\n",
       "      <td>3.500000</td>\n",
       "      <td>0.028056</td>\n",
       "    </tr>\n",
       "    <tr>\n",
       "      <th>75%</th>\n",
       "      <td>2575.500000</td>\n",
       "      <td>321.000000</td>\n",
       "      <td>0.559434</td>\n",
       "      <td>5.000000</td>\n",
       "      <td>12.010000</td>\n",
       "      <td>0.103403</td>\n",
       "    </tr>\n",
       "    <tr>\n",
       "      <th>max</th>\n",
       "      <td>3430.000000</td>\n",
       "      <td>453.000000</td>\n",
       "      <td>1.016465</td>\n",
       "      <td>7.000000</td>\n",
       "      <td>1458.480000</td>\n",
       "      <td>1.000000</td>\n",
       "    </tr>\n",
       "  </tbody>\n",
       "</table>\n",
       "</div>"
      ],
      "text/plain": [
       "        Unnamed: 0     trial_id           rt         subj        freqs  \\\n",
       "count  3383.000000  3383.000000  3383.000000  3383.000000  3383.000000   \n",
       "mean   1709.997931   214.426840     0.508606     3.441915    35.778093   \n",
       "std     993.347523   124.532576     0.120306     2.271122   166.527549   \n",
       "min       0.000000     0.000000     0.300057     0.000000     0.000000   \n",
       "25%     848.500000   106.000000     0.427950     1.000000     0.870000   \n",
       "50%    1705.000000   215.000000     0.488761     3.000000     3.500000   \n",
       "75%    2575.500000   321.000000     0.559434     5.000000    12.010000   \n",
       "max    3430.000000   453.000000     1.016465     7.000000  1458.480000   \n",
       "\n",
       "              sims  \n",
       "count  3383.000000  \n",
       "mean      0.078641  \n",
       "std       0.152460  \n",
       "min      -0.132483  \n",
       "25%      -0.009267  \n",
       "50%       0.028056  \n",
       "75%       0.103403  \n",
       "max       1.000000  "
      ]
     },
     "execution_count": 12,
     "metadata": {},
     "output_type": "execute_result"
    }
   ],
   "source": [
    "df_cleaned = df.query(\"rt < 10\")  # nur die RTs unter 10\n",
    "df_cleaned.describe()"
   ]
  },
  {
   "cell_type": "markdown",
   "metadata": {},
   "source": [
    "Jetzt können wir noch einmal die Reaktionszeiten anschauen ..."
   ]
  },
  {
   "cell_type": "code",
   "execution_count": 13,
   "metadata": {},
   "outputs": [
    {
     "data": {
      "text/plain": [
       "<matplotlib.axes._subplots.AxesSubplot at 0x1c18dd6ac8>"
      ]
     },
     "execution_count": 13,
     "metadata": {},
     "output_type": "execute_result"
    },
    {
     "data": {
      "image/png": "[encoded data removed]",
      "text/plain": [
       "<Figure size 432x288 with 1 Axes>"
      ]
     },
     "metadata": {
      "image/png": {
       "height": 250,
       "width": 374
      }
     },
     "output_type": "display_data"
    }
   ],
   "source": [
    "df.query(\"rt < 10\")[\"rt\"].hist(bins=50)"
   ]
  },
  {
   "cell_type": "markdown",
   "metadata": {},
   "source": [
    "Oder ausführlicher:"
   ]
  },
  {
   "cell_type": "code",
   "execution_count": 14,
   "metadata": {},
   "outputs": [
    {
     "data": {
      "text/plain": [
       "<matplotlib.axes._subplots.AxesSubplot at 0x1c192f0e10>"
      ]
     },
     "execution_count": 14,
     "metadata": {},
     "output_type": "execute_result"
    },
    {
     "data": {
      "image/png": "[encoded data removed]",
      "text/plain": [
       "<Figure size 432x288 with 1 Axes>"
      ]
     },
     "metadata": {
      "image/png": {
       "height": 250,
       "width": 374
      }
     },
     "output_type": "display_data"
    }
   ],
   "source": [
    "df_cleaned = df.query(\"rt < 10\").copy()  # Achtung: das .copy() ist wichtig, da `query` eine \"view\" ausgibt.\n",
    "rts = df_cleaned[\"rt\"]\n",
    "rts.hist(bins=50)"
   ]
  },
  {
   "cell_type": "markdown",
   "metadata": {},
   "source": [
    "Eine Alternative zur `query`-method ist, direkt in den Index des Dataframes zu indizieren."
   ]
  },
  {
   "cell_type": "code",
   "execution_count": 15,
   "metadata": {},
   "outputs": [
    {
     "data": {
      "text/html": [
       "<div>\n",
       "<style scoped>\n",
       "    .dataframe tbody tr th:only-of-type {\n",
       "        vertical-align: middle;\n",
       "    }\n",
       "\n",
       "    .dataframe tbody tr th {\n",
       "        vertical-align: top;\n",
       "    }\n",
       "\n",
       "    .dataframe thead th {\n",
       "        text-align: right;\n",
       "    }\n",
       "</style>\n",
       "<table border=\"1\" class=\"dataframe\">\n",
       "  <thead>\n",
       "    <tr style=\"text-align: right;\">\n",
       "      <th></th>\n",
       "      <th>Unnamed: 0</th>\n",
       "      <th>trial_id</th>\n",
       "      <th>word</th>\n",
       "      <th>correct_key</th>\n",
       "      <th>button</th>\n",
       "      <th>rt</th>\n",
       "      <th>subj</th>\n",
       "      <th>freqs</th>\n",
       "      <th>sims</th>\n",
       "    </tr>\n",
       "  </thead>\n",
       "  <tbody>\n",
       "    <tr>\n",
       "      <th>0</th>\n",
       "      <td>0</td>\n",
       "      <td>0</td>\n",
       "      <td>pinguin</td>\n",
       "      <td>l</td>\n",
       "      <td>l</td>\n",
       "      <td>0.415723</td>\n",
       "      <td>0</td>\n",
       "      <td>2.32</td>\n",
       "      <td>0.000000</td>\n",
       "    </tr>\n",
       "    <tr>\n",
       "      <th>1</th>\n",
       "      <td>1</td>\n",
       "      <td>1</td>\n",
       "      <td>goldfisch</td>\n",
       "      <td>l</td>\n",
       "      <td>l</td>\n",
       "      <td>0.487444</td>\n",
       "      <td>0</td>\n",
       "      <td>1.97</td>\n",
       "      <td>0.179393</td>\n",
       "    </tr>\n",
       "    <tr>\n",
       "      <th>2</th>\n",
       "      <td>2</td>\n",
       "      <td>2</td>\n",
       "      <td>lama</td>\n",
       "      <td>l</td>\n",
       "      <td>l</td>\n",
       "      <td>0.533625</td>\n",
       "      <td>0</td>\n",
       "      <td>4.09</td>\n",
       "      <td>0.004789</td>\n",
       "    </tr>\n",
       "    <tr>\n",
       "      <th>3</th>\n",
       "      <td>3</td>\n",
       "      <td>3</td>\n",
       "      <td>orchidee</td>\n",
       "      <td>l</td>\n",
       "      <td>l</td>\n",
       "      <td>0.470491</td>\n",
       "      <td>0</td>\n",
       "      <td>2.13</td>\n",
       "      <td>0.088054</td>\n",
       "    </tr>\n",
       "    <tr>\n",
       "      <th>4</th>\n",
       "      <td>4</td>\n",
       "      <td>4</td>\n",
       "      <td>scotch</td>\n",
       "      <td>l</td>\n",
       "      <td>l</td>\n",
       "      <td>0.459900</td>\n",
       "      <td>0</td>\n",
       "      <td>9.37</td>\n",
       "      <td>0.026734</td>\n",
       "    </tr>\n",
       "  </tbody>\n",
       "</table>\n",
       "</div>"
      ],
      "text/plain": [
       "   Unnamed: 0  trial_id       word correct_key button        rt  subj  freqs  \\\n",
       "0           0         0    pinguin           l      l  0.415723     0   2.32   \n",
       "1           1         1  goldfisch           l      l  0.487444     0   1.97   \n",
       "2           2         2       lama           l      l  0.533625     0   4.09   \n",
       "3           3         3   orchidee           l      l  0.470491     0   2.13   \n",
       "4           4         4     scotch           l      l  0.459900     0   9.37   \n",
       "\n",
       "       sims  \n",
       "0  0.000000  \n",
       "1  0.179393  \n",
       "2  0.004789  \n",
       "3  0.088054  \n",
       "4  0.026734  "
      ]
     },
     "execution_count": 15,
     "metadata": {},
     "output_type": "execute_result"
    }
   ],
   "source": [
    "df[df[\"rt\"] < 99].head()"
   ]
  },
  {
   "cell_type": "markdown",
   "metadata": {},
   "source": [
    "Hierbei ist `df[\"rt\"] < 99` eine Series von `True` und `False` (`True` nur dort, Wo die Reaktionszeit unter 99 liegt), die als Index für den Dataframe verwendet wird. Dort, wo der Index `True` ist, wird die Zeile ausgegeben, sonst nicht."
   ]
  },
  {
   "cell_type": "code",
   "execution_count": 16,
   "metadata": {},
   "outputs": [
    {
     "data": {
      "text/plain": [
       "0    True\n",
       "1    True\n",
       "2    True\n",
       "3    True\n",
       "4    True\n",
       "5    True\n",
       "6    True\n",
       "7    True\n",
       "8    True\n",
       "9    True\n",
       "Name: rt, dtype: bool"
      ]
     },
     "execution_count": 16,
     "metadata": {},
     "output_type": "execute_result"
    }
   ],
   "source": [
    "(df[\"rt\"] < 99)[:10]  # nur die ersten 10 Einträge"
   ]
  },
  {
   "cell_type": "markdown",
   "metadata": {},
   "source": [
    "Allgemein können immer Listen (gleicher Länge) voller `True` und `False` als Index benutzt werden."
   ]
  },
  {
   "cell_type": "code",
   "execution_count": 17,
   "metadata": {},
   "outputs": [
    {
     "data": {
      "text/plain": [
       "30.86118645572053"
      ]
     },
     "execution_count": 17,
     "metadata": {},
     "output_type": "execute_result"
    }
   ],
   "source": [
    "slowRTs = df[[rt > .5 for rt in df[\"rt\"]]]  # nur RTs über .5 Sekunden\n",
    "slowRTs[\"rt\"].mean()"
   ]
  },
  {
   "cell_type": "markdown",
   "metadata": {},
   "source": [
    "Neben `max` bietet Pandas auch die meiste deskriptive Statistik an:"
   ]
  },
  {
   "cell_type": "code",
   "execution_count": 18,
   "metadata": {},
   "outputs": [
    {
     "data": {
      "text/plain": [
       "(999.0, 1.01646518707)"
      ]
     },
     "execution_count": 18,
     "metadata": {},
     "output_type": "execute_result"
    }
   ],
   "source": [
    "df[\"rt\"].max(), df_cleaned[\"rt\"].max()"
   ]
  },
  {
   "cell_type": "code",
   "execution_count": 19,
   "metadata": {},
   "outputs": [
    {
     "data": {
      "text/plain": [
       "(14.477590467203989, 0.5086056438004375)"
      ]
     },
     "execution_count": 19,
     "metadata": {},
     "output_type": "execute_result"
    }
   ],
   "source": [
    "df[\"rt\"].mean(), df_cleaned[\"rt\"].mean()"
   ]
  },
  {
   "cell_type": "code",
   "execution_count": 20,
   "metadata": {},
   "outputs": [
    {
     "data": {
      "text/plain": [
       "(0.490530014038, 0.488760966982)"
      ]
     },
     "execution_count": 20,
     "metadata": {},
     "output_type": "execute_result"
    }
   ],
   "source": [
    "df[\"rt\"].median(), df_cleaned[\"rt\"].median()"
   ]
  },
  {
   "cell_type": "code",
   "execution_count": 21,
   "metadata": {},
   "outputs": [
    {
     "data": {
      "text/plain": [
       "0.488760966982"
      ]
     },
     "execution_count": 21,
     "metadata": {},
     "output_type": "execute_result"
    }
   ],
   "source": [
    "df.query(\"rt < 99\")[\"rt\"].median()"
   ]
  },
  {
   "cell_type": "markdown",
   "metadata": {},
   "source": [
    "Series (Spalten eines Dataframes) verhalten sich in vielerlei Hinsicht wie Listen. Z.b. können wir über sie iterieren (bzw. list comprehensions verwenden)."
   ]
  },
  {
   "cell_type": "code",
   "execution_count": 22,
   "metadata": {},
   "outputs": [
    {
     "data": {
      "text/plain": [
       "[0.415723085403,\n",
       " 0.48744392395,\n",
       " 0.533624887466,\n",
       " 0.470491170883,\n",
       " 0.459900140762,\n",
       " 0.464433193207,\n",
       " 0.499804019928,\n",
       " 0.446707010269,\n",
       " 0.410698890686,\n",
       " 0.632098913193,\n",
       " 0.540467977524,\n",
       " 0.517967939377,\n",
       " 0.529164791107,\n",
       " 0.544371843338,\n",
       " 0.518079042435,\n",
       " 0.444692850113,\n",
       " 0.521749973297,\n",
       " 0.492606163025,\n",
       " 0.443727016449,\n",
       " 0.61959695816,\n",
       " 0.479782104492,\n",
       " 0.533659934998,\n",
       " 0.438537836075,\n",
       " 0.48232793808,\n",
       " 0.482385873795,\n",
       " 0.52768611908,\n",
       " 0.593241930008,\n",
       " 0.436569929123,\n",
       " 0.645483016968,\n",
       " 0.48019194603,\n",
       " 0.550346136093,\n",
       " 0.4505100250240001,\n",
       " 0.474572896957,\n",
       " 0.581449985504,\n",
       " 0.55405497551,\n",
       " 0.459193944931,\n",
       " 0.478338956833,\n",
       " 0.544070005417,\n",
       " 0.469752073288,\n",
       " 0.528548002243,\n",
       " 0.54284286499,\n",
       " 0.5306458473210001,\n",
       " 0.483906984329,\n",
       " 0.517712116241,\n",
       " 0.633472919464,\n",
       " 0.498528957367,\n",
       " 0.492763996124,\n",
       " 0.575531005859,\n",
       " 0.518158912659,\n",
       " 0.698943138123,\n",
       " 0.553560972214,\n",
       " 0.5393331050869999,\n",
       " 0.517978906631,\n",
       " 0.518111944199,\n",
       " 0.524885892868,\n",
       " 0.57698392868,\n",
       " 0.568692922592,\n",
       " 0.486585140228,\n",
       " 0.443656921387,\n",
       " 0.534436225891,\n",
       " 0.610730171204,\n",
       " 0.60910320282,\n",
       " 0.494413852692,\n",
       " 0.519093036652,\n",
       " 0.578459024429,\n",
       " 0.6254048347469999,\n",
       " 0.5193641185760001,\n",
       " 0.449923038483,\n",
       " 0.491046905518,\n",
       " 0.553468942642,\n",
       " 0.554365158081,\n",
       " 0.458034038544,\n",
       " 0.473532915115,\n",
       " 0.480252981186,\n",
       " 0.5183579921720001,\n",
       " 0.412019014359,\n",
       " 0.467163085938,\n",
       " 0.488651990891,\n",
       " 0.441740989685,\n",
       " 0.466929197311,\n",
       " 0.498686075211,\n",
       " 0.517422914505,\n",
       " 0.453559160233,\n",
       " 0.481894016266,\n",
       " 0.441784858704,\n",
       " 0.4631838798520001,\n",
       " 0.452461004257,\n",
       " 0.555916070938,\n",
       " 0.5769798755650001,\n",
       " 0.493449211121,\n",
       " 0.51837515831,\n",
       " 0.487405061722,\n",
       " 0.455533981323,\n",
       " 0.540954828262,\n",
       " 0.574489116669,\n",
       " 0.581376075745,\n",
       " 0.583587884903,\n",
       " 0.466918945312,\n",
       " 0.56205201149,\n",
       " 0.534550905228,\n",
       " 0.8928580284119999,\n",
       " 0.435789108276,\n",
       " 0.525551080704,\n",
       " 0.6087877750399999,\n",
       " 0.53782081604,\n",
       " 0.4805920124050001,\n",
       " 0.517746925354,\n",
       " 0.481319189072,\n",
       " 0.611242055893,\n",
       " 0.557459115982,\n",
       " 0.434664011002,\n",
       " 0.443362951279,\n",
       " 0.452826976776,\n",
       " 0.443650960922,\n",
       " 0.469964981079,\n",
       " 0.531274080276,\n",
       " 0.5173869133,\n",
       " 0.480638980865,\n",
       " 0.518663883209,\n",
       " 0.541723966599,\n",
       " 0.5453259944919999,\n",
       " 0.49932384491,\n",
       " 0.472357988358,\n",
       " 0.519021987915,\n",
       " 0.5181620121,\n",
       " 0.464032888412,\n",
       " 0.523861169815,\n",
       " 0.500540971756,\n",
       " 0.591068983078,\n",
       " 0.43769288063,\n",
       " 0.458945989609,\n",
       " 0.517423152924,\n",
       " 0.483729124069,\n",
       " 0.4924321174620001,\n",
       " 0.547245025635,\n",
       " 0.486757993698,\n",
       " 0.475327968597,\n",
       " 0.518176078796,\n",
       " 0.566297054291,\n",
       " 0.554639101028,\n",
       " 0.551388978958,\n",
       " 0.561122179031,\n",
       " 0.460072040558,\n",
       " 0.447983026505,\n",
       " 0.518403053284,\n",
       " 0.573450088501,\n",
       " 0.55172586441,\n",
       " 0.5243411064150001,\n",
       " 0.533615112305,\n",
       " 0.528341054916,\n",
       " 0.518300056458,\n",
       " 0.518747091293,\n",
       " 0.449640989304,\n",
       " 0.496715068817,\n",
       " 0.541095972061,\n",
       " 0.49355506897,\n",
       " 0.518221139908,\n",
       " 0.4553179740910001,\n",
       " 0.471014976501,\n",
       " 0.617181062698,\n",
       " 0.492327928543,\n",
       " 0.557734012604,\n",
       " 0.413521051407,\n",
       " 0.454900026321,\n",
       " 0.5566539764399999,\n",
       " 0.451699972153,\n",
       " 0.4900050163270001,\n",
       " 0.549706935883,\n",
       " 0.517641067505,\n",
       " 0.496917963028,\n",
       " 0.539610862732,\n",
       " 0.531399011612,\n",
       " 0.518874883652,\n",
       " 0.566200971603,\n",
       " 0.47522187233,\n",
       " 0.522211074829,\n",
       " 0.5316691398619999,\n",
       " 0.479813098907,\n",
       " 0.46427488327,\n",
       " 0.546720981598,\n",
       " 0.495797157288,\n",
       " 0.545053005219,\n",
       " 0.43501496315,\n",
       " 0.533789873123,\n",
       " 0.5501489639280001,\n",
       " 0.519071102142,\n",
       " 0.53195810318,\n",
       " 0.523797988892,\n",
       " 0.498342037201,\n",
       " 0.624177932739,\n",
       " 0.450261831284,\n",
       " 0.5550491809839999,\n",
       " 0.527979135513,\n",
       " 0.585813999176,\n",
       " 0.530730962753,\n",
       " 0.491706132889,\n",
       " 0.5225529670719999,\n",
       " 0.582691907883,\n",
       " 0.489347934723,\n",
       " 0.522629976273,\n",
       " 0.528927087784,\n",
       " 0.4433741569520001,\n",
       " 0.5369279384610001,\n",
       " 0.482048034668,\n",
       " 0.653084993362,\n",
       " 0.518517017365,\n",
       " 0.518038034439,\n",
       " 0.479100942612,\n",
       " 0.454837083817,\n",
       " 0.7023530006409999,\n",
       " 0.4939160346980001,\n",
       " 0.425186872482,\n",
       " 0.526705980301,\n",
       " 0.425999164581,\n",
       " 0.4617190361020001,\n",
       " 0.447467088699,\n",
       " 0.602547883987,\n",
       " 0.440986156464,\n",
       " 0.529626131058,\n",
       " 0.463752031326,\n",
       " 0.545323848724,\n",
       " 0.597638845444,\n",
       " 0.535844802856,\n",
       " 0.48980307579,\n",
       " 0.452599048615,\n",
       " 0.582360029221,\n",
       " 0.472723960876,\n",
       " 0.441050052643,\n",
       " 0.47004199028,\n",
       " 0.470857858658,\n",
       " 0.749778985977,\n",
       " 0.471344947815,\n",
       " 0.475545167923,\n",
       " 0.523008108139,\n",
       " 0.549432992935,\n",
       " 0.549772977829,\n",
       " 0.468127012253,\n",
       " 0.5249059200289999,\n",
       " 0.5177888870239999,\n",
       " 0.47590303421,\n",
       " 0.484657049179,\n",
       " 0.421144008636,\n",
       " 0.523237943649,\n",
       " 0.482543945312,\n",
       " 0.457577943802,\n",
       " 0.467489957809,\n",
       " 0.485018968582,\n",
       " 0.61630320549,\n",
       " 0.439167022705,\n",
       " 0.5361299514769999,\n",
       " 0.534002065659,\n",
       " 0.464265823364,\n",
       " 0.473448991776,\n",
       " 0.464992046356,\n",
       " 0.6805279254909999,\n",
       " 0.454149007797,\n",
       " 0.430732011795,\n",
       " 0.572098016739,\n",
       " 0.479295969009,\n",
       " 0.470695018768,\n",
       " 0.475698947906,\n",
       " 0.518147945404,\n",
       " 0.484848976135,\n",
       " 0.4471180439,\n",
       " 0.4371860027310001,\n",
       " 0.443982124329,\n",
       " 0.447824001312,\n",
       " 0.420026779175,\n",
       " 0.441648006439,\n",
       " 0.482784032822,\n",
       " 0.487890958786,\n",
       " 0.451970100403,\n",
       " 0.44752907753,\n",
       " 0.43839597702,\n",
       " 0.486838102341,\n",
       " 0.493355035782,\n",
       " 0.485601902008,\n",
       " 0.426234960556,\n",
       " 0.495091915131,\n",
       " 0.4208030700680001,\n",
       " 0.394213199615,\n",
       " 0.560342073441,\n",
       " 0.454039096832,\n",
       " 0.549683094025,\n",
       " 0.491878986359,\n",
       " 0.441655874252,\n",
       " 0.5009269714360001,\n",
       " 0.439706087112,\n",
       " 0.446874141693,\n",
       " 0.614495992661,\n",
       " 0.480051994324,\n",
       " 0.519654035568,\n",
       " 0.6758220195769999,\n",
       " 0.473211050034,\n",
       " 0.4309291839600001,\n",
       " 0.433199882507,\n",
       " 0.533714056015,\n",
       " 0.4864921569820001,\n",
       " 0.432791948318,\n",
       " 0.450436115265,\n",
       " 0.44776391983,\n",
       " 0.555819034576,\n",
       " 0.552031040192,\n",
       " 0.476498126984,\n",
       " 0.502326965332,\n",
       " 0.490530014038,\n",
       " 0.6633698940280001,\n",
       " 0.453366994858,\n",
       " 0.447178125381,\n",
       " 0.460493087769,\n",
       " 0.443111181259,\n",
       " 0.460220098495,\n",
       " 0.497187852859,\n",
       " 0.452632904053,\n",
       " 0.500236034393,\n",
       " 0.5014829635620001,\n",
       " 0.458930969238,\n",
       " 0.576352834702,\n",
       " 0.627552986145,\n",
       " 0.52548289299,\n",
       " 0.448474168777,\n",
       " 0.436331033707,\n",
       " 0.424789905548,\n",
       " 0.474457979202,\n",
       " 0.413803100586,\n",
       " 0.430183172226,\n",
       " 0.448698997498,\n",
       " 0.5605649948120001,\n",
       " 0.497586965561,\n",
       " 0.494866132736,\n",
       " 0.485653877258,\n",
       " 0.518944978714,\n",
       " 0.593415975571,\n",
       " 0.474685907364,\n",
       " 0.5869090557100001,\n",
       " 0.500801086426,\n",
       " 0.7284300327300001,\n",
       " 0.482647895813,\n",
       " 0.590419054031,\n",
       " 0.484616041183,\n",
       " 0.492234945297,\n",
       " 0.420457839966,\n",
       " 0.554896831512,\n",
       " 0.392410039902,\n",
       " 0.404592990875,\n",
       " 0.396446943283,\n",
       " 0.407660007477,\n",
       " 0.460252046585,\n",
       " 0.62202000618,\n",
       " 0.416220903397,\n",
       " 0.481950998306,\n",
       " 0.478371143341,\n",
       " 0.47961807251,\n",
       " 0.477192163467,\n",
       " 0.400643825531,\n",
       " 0.582240104675,\n",
       " 0.552454948425,\n",
       " 0.475139856339,\n",
       " 0.496050834656,\n",
       " 0.437793970108,\n",
       " 0.468156099319,\n",
       " 0.615434169769,\n",
       " 0.56268119812,\n",
       " 0.487312078476,\n",
       " 0.450147151947,\n",
       " 0.545847892761,\n",
       " 0.520938158035,\n",
       " 0.478898048401,\n",
       " 0.5176320075990001,\n",
       " 0.424426078796,\n",
       " 0.554826021194,\n",
       " 0.45458483696,\n",
       " 0.544751167297,\n",
       " 0.428552865982,\n",
       " 0.51858997345,\n",
       " 0.5432610511779999,\n",
       " 0.494431018829,\n",
       " 0.518358945847,\n",
       " 0.518117904663,\n",
       " 0.452509880066,\n",
       " 0.556293010712,\n",
       " 0.439556121826,\n",
       " 0.425452947617,\n",
       " 0.544209003448,\n",
       " 0.471503973007,\n",
       " 0.4406478405,\n",
       " 0.438514947891,\n",
       " 0.6130630970000001,\n",
       " 0.456346035004,\n",
       " 0.465318918228,\n",
       " 0.565259933472,\n",
       " 0.439631938934,\n",
       " 0.5975041389469999,\n",
       " 0.532855033875,\n",
       " 0.442255020142,\n",
       " 0.521044015884,\n",
       " 0.480099916458,\n",
       " 0.518785953522,\n",
       " 0.546344041824,\n",
       " 0.448060035706,\n",
       " 0.491276979446,\n",
       " 0.559374094009,\n",
       " 0.5636508464810001,\n",
       " 0.518244028091,\n",
       " 0.447139978409,\n",
       " 0.429666042328,\n",
       " 0.46328496933,\n",
       " 0.5745398998260001,\n",
       " 0.54159784317,\n",
       " 0.493260860443,\n",
       " 0.518846035004,\n",
       " 0.554339170456,\n",
       " 0.5180311203,\n",
       " 0.517930030823,\n",
       " 0.431296825409,\n",
       " 0.458678007126,\n",
       " 0.456058979034,\n",
       " 0.396643877029,\n",
       " 0.476734876633,\n",
       " 0.520745038986,\n",
       " 0.6215720176699999,\n",
       " 0.5176861286159999,\n",
       " 0.56286907196,\n",
       " 0.570156812668,\n",
       " 0.527682065964,\n",
       " 0.469218969345,\n",
       " 0.518794059753,\n",
       " 0.498337030411,\n",
       " 0.46954703331,\n",
       " 0.491013050079,\n",
       " 0.443634986877,\n",
       " 0.438889026642,\n",
       " 0.4509170055390001,\n",
       " 0.418812036514,\n",
       " 0.427885055542,\n",
       " 0.465715169907,\n",
       " 0.443413972855,\n",
       " 0.438503980637,\n",
       " 0.6925046432299999,\n",
       " 0.71084456885,\n",
       " 0.466867321753,\n",
       " 0.595478589297,\n",
       " 0.8223338683020001,\n",
       " 0.71604483691,\n",
       " 0.610348961083,\n",
       " 0.497554462752,\n",
       " 0.454937068629,\n",
       " 0.657951085828,\n",
       " 0.5513306228679999,\n",
       " 0.458943755424,\n",
       " 0.516713345074,\n",
       " 0.474124176078,\n",
       " 0.532826050592,\n",
       " 0.566676545481,\n",
       " 0.519150543027,\n",
       " 0.4347406986640001,\n",
       " 0.489400391118,\n",
       " 0.588680179673,\n",
       " 0.524716027314,\n",
       " 0.441920147685,\n",
       " 0.445780149254,\n",
       " 0.457295150671,\n",
       " 0.548217304517,\n",
       " 0.475867719913,\n",
       " 0.450945349759,\n",
       " 0.4771220279510001,\n",
       " 0.532084071543,\n",
       " 0.399763764115,\n",
       " 0.396906182636,\n",
       " 0.362400950107,\n",
       " 0.42021031148,\n",
       " 0.455815041554,\n",
       " 0.516932731378,\n",
       " 0.5172739989940001,\n",
       " 0.483035622223,\n",
       " 0.537021332653,\n",
       " 0.381019705848,\n",
       " 0.494865804445,\n",
       " 0.635826853279,\n",
       " 0.31062706426,\n",
       " 0.376657211222,\n",
       " 0.342991890444,\n",
       " 0.38914940122,\n",
       " 0.414389518031,\n",
       " 0.37414645683,\n",
       " 0.599649495096,\n",
       " 0.454356315022,\n",
       " 0.424876867852,\n",
       " 0.388668718573,\n",
       " 0.591367982677,\n",
       " 0.392454736051,\n",
       " 0.456398788723,\n",
       " 0.457362292334,\n",
       " 0.516830094508,\n",
       " 0.403505305701,\n",
       " 0.388692667184,\n",
       " 0.458066210151,\n",
       " 0.554362259398,\n",
       " 0.482777319499,\n",
       " 0.71484997269,\n",
       " 0.5690748270139999,\n",
       " 0.471773791767,\n",
       " 0.471739151864,\n",
       " 0.561809847248,\n",
       " 0.424694687361,\n",
       " 0.410133081547,\n",
       " 0.516858319636,\n",
       " 0.364742353675,\n",
       " 0.3966465968990001,\n",
       " 0.423817997449,\n",
       " 0.404040727997,\n",
       " 0.474997872429,\n",
       " 0.443907026376,\n",
       " 0.549346310028,\n",
       " 0.402051283396,\n",
       " 0.42678976251,\n",
       " 0.493290756189,\n",
       " 0.581624322571,\n",
       " 0.474574922991,\n",
       " 0.420250510972,\n",
       " 0.575424627983,\n",
       " 0.578120128775,\n",
       " 0.5170285257630001,\n",
       " 0.653621948208,\n",
       " 0.5351939687389999,\n",
       " 0.836780007754,\n",
       " 0.498721529497,\n",
       " 0.791663405776,\n",
       " 0.661266684358,\n",
       " 0.471702373587,\n",
       " 0.5170721464670001,\n",
       " 0.462177672132,\n",
       " 0.413449535379,\n",
       " 0.481841185712,\n",
       " 0.560617548937,\n",
       " 0.5302939135,\n",
       " 0.447444149526,\n",
       " 0.516798020457,\n",
       " 0.5378415723100001,\n",
       " 0.475215120416,\n",
       " 0.646087546658,\n",
       " 0.580276358349,\n",
       " 0.389668572694,\n",
       " 0.517191889463,\n",
       " 0.589779249451,\n",
       " 0.517284690286,\n",
       " 0.475230515993,\n",
       " 0.624316128378,\n",
       " 0.5279935646689999,\n",
       " 0.471941859578,\n",
       " 0.490220630832,\n",
       " 0.563887388504,\n",
       " 0.524353376997,\n",
       " 0.476439920429,\n",
       " 0.489520561823,\n",
       " 0.516996879422,\n",
       " 0.586715111276,\n",
       " 0.516851904802,\n",
       " 0.378834823496,\n",
       " 0.409768720623,\n",
       " 0.6399259133030001,\n",
       " 0.567429643474,\n",
       " 0.435222664266,\n",
       " 0.435213255871,\n",
       " 0.521585602779,\n",
       " 0.450614773436,\n",
       " 0.487182579469,\n",
       " 0.583544487308,\n",
       " 0.427166525333,\n",
       " 0.82326273201,\n",
       " 0.563443484076,\n",
       " 0.572220219357,\n",
       " 0.498097582837,\n",
       " 0.560702224378,\n",
       " 0.5912084679,\n",
       " 0.458528076066,\n",
       " 0.518136576284,\n",
       " 0.525503337616,\n",
       " 0.516773644253,\n",
       " 0.599815424648,\n",
       " 0.5654868130799999,\n",
       " 0.473155968299,\n",
       " 0.454734788451,\n",
       " 0.557768948143,\n",
       " 0.487400255166,\n",
       " 0.5210890969609999,\n",
       " 0.534138519608,\n",
       " 0.610734704649,\n",
       " 0.516813843686,\n",
       " 0.6619701745800001,\n",
       " 0.474586897297,\n",
       " 0.470906510251,\n",
       " 0.564567357767,\n",
       " 0.656055725005,\n",
       " 0.428145424463,\n",
       " 0.476119607862,\n",
       " 0.469101384282,\n",
       " 0.480357655324,\n",
       " 0.561879554763,\n",
       " 0.553735746827,\n",
       " 0.5365192672469999,\n",
       " 0.435470703349,\n",
       " 0.476280405652,\n",
       " 0.6311791136980001,\n",
       " 0.738945260819,\n",
       " 0.5227103317740001,\n",
       " 0.499517820543,\n",
       " 0.7067134348909999,\n",
       " 0.5204997902040001,\n",
       " 0.530059986981,\n",
       " 0.412857235118,\n",
       " 0.531349362689,\n",
       " 0.564545119763,\n",
       " 0.5592913950680001,\n",
       " 0.45598225412,\n",
       " 0.464566972863,\n",
       " 0.362286338874,\n",
       " 0.489884922688,\n",
       " 0.482122581801,\n",
       " 0.484264271101,\n",
       " 0.489137811819,\n",
       " 0.421297834662,\n",
       " 0.498633432842,\n",
       " 0.4929392248740001,\n",
       " 0.355047018384,\n",
       " 0.486205390887,\n",
       " 0.41418125073,\n",
       " 0.558790612675,\n",
       " 0.488375733024,\n",
       " 0.571473963792,\n",
       " 0.425061614194,\n",
       " 0.415217455418,\n",
       " 0.479222662572,\n",
       " 0.474293954612,\n",
       " 0.657366910949,\n",
       " 0.3603020260930001,\n",
       " 0.461410889169,\n",
       " 0.439944815589,\n",
       " 0.402561046474,\n",
       " 0.462041678256,\n",
       " 0.44561593025,\n",
       " 0.39580754051,\n",
       " 0.475718468777,\n",
       " 0.399014087336,\n",
       " 0.603491962887,\n",
       " 0.5469724048160001,\n",
       " 0.703079234343,\n",
       " 0.582530520565,\n",
       " 0.483718157455,\n",
       " 0.517735437199,\n",
       " 0.434916036611,\n",
       " 0.489113007905,\n",
       " 0.649373209453,\n",
       " 0.499491306022,\n",
       " 0.650272565021,\n",
       " 0.376084155403,\n",
       " 0.5169549693819999,\n",
       " 0.460511961312,\n",
       " 0.340614991554,\n",
       " 0.426877859107,\n",
       " 0.396609818679,\n",
       " 0.408072646358,\n",
       " 0.437192436832,\n",
       " 0.551473459171,\n",
       " 0.459975255944,\n",
       " 0.479454023123,\n",
       " 0.365646841063,\n",
       " 0.635258501628,\n",
       " 0.407428172359,\n",
       " 0.6194900572300001,\n",
       " 0.919171327027,\n",
       " 0.468041230924,\n",
       " 0.412021172291,\n",
       " 0.497537784278,\n",
       " 0.440675675636,\n",
       " 0.421464619576,\n",
       " 0.568855440652,\n",
       " 0.546684166242,\n",
       " 0.517531446472,\n",
       " 0.4757278771720001,\n",
       " 0.749341948016,\n",
       " 0.547435125976,\n",
       " 0.588314963446,\n",
       " 0.402775728609,\n",
       " 0.549306110595,\n",
       " 0.5940788790470001,\n",
       " 0.555111936177,\n",
       " 0.383121195715,\n",
       " 0.5002486805899999,\n",
       " 0.516717621591,\n",
       " 0.555054202967,\n",
       " 0.497234577837,\n",
       " 0.495811774221,\n",
       " 0.5569452872730001,\n",
       " 0.576415501419,\n",
       " 0.4438373188600001,\n",
       " 0.517415552284,\n",
       " 0.542471778055,\n",
       " 0.530119858508,\n",
       " 0.642316069396,\n",
       " 0.36644355976,\n",
       " 0.395974325365,\n",
       " 0.5171769215959999,\n",
       " 0.397880377597,\n",
       " 0.399253573385,\n",
       " 0.434422096703,\n",
       " 0.5618179726879999,\n",
       " 0.642774514039,\n",
       " 0.528622643091,\n",
       " 0.516750123294,\n",
       " 0.6397852152,\n",
       " 0.530538103718,\n",
       " 0.4332058497820001,\n",
       " 0.395830206107,\n",
       " 0.552557133487,\n",
       " 0.497720820014,\n",
       " 0.655211536679,\n",
       " 0.494183269271,\n",
       " 0.489810510946,\n",
       " 0.425032533763,\n",
       " 0.56496336509,\n",
       " 0.48037989327,\n",
       " 0.3912312190510001,\n",
       " 0.446150069591,\n",
       " 0.389643768838,\n",
       " 0.6043305916830001,\n",
       " 0.451857962529,\n",
       " 0.634549451934,\n",
       " 0.553198613867,\n",
       " 0.516861313197,\n",
       " 0.480834489048,\n",
       " 0.583796375315,\n",
       " 0.662869530148,\n",
       " 0.456441554066,\n",
       " 0.5380622415690001,\n",
       " 0.626666940341,\n",
       " 0.592376817542,\n",
       " 0.474501794262,\n",
       " 0.534136809001,\n",
       " 0.4103332234080001,\n",
       " 0.400515579211,\n",
       " 0.37917010393,\n",
       " 0.45347406558,\n",
       " 0.424666462291,\n",
       " 0.406746492488,\n",
       " 0.432800434122,\n",
       " 0.5526999697899999,\n",
       " 0.594209741044,\n",
       " 0.540439140401,\n",
       " 0.441899192578,\n",
       " 0.5510175803790001,\n",
       " 0.533916994988,\n",
       " 0.379328763403,\n",
       " 0.393492223753,\n",
       " 0.433307631349,\n",
       " 0.3796460824090001,\n",
       " 0.653954662732,\n",
       " 0.386217407999,\n",
       " 0.324772990774,\n",
       " 0.419080450607,\n",
       " 0.445917853736,\n",
       " 0.5825797007419999,\n",
       " 0.689105224621,\n",
       " 0.6140417500859999,\n",
       " 0.607577765593,\n",
       " 0.551190352475,\n",
       " 0.490832175477,\n",
       " 0.450153762824,\n",
       " 0.521408554225,\n",
       " 0.469613713329,\n",
       " 0.4747511163000001,\n",
       " 0.622375008592,\n",
       " 0.436304200324,\n",
       " 0.484973748506,\n",
       " 0.517439073301,\n",
       " 0.481760359136,\n",
       " 0.5771284000370001,\n",
       " 0.470012714155,\n",
       " 0.5628990810360001,\n",
       " 0.419596200867,\n",
       " 0.455778263276,\n",
       " 0.621464534022,\n",
       " 0.489340091939,\n",
       " 0.467133749975,\n",
       " 0.944209591311,\n",
       " 0.528372893401,\n",
       " 0.460009040602,\n",
       " 0.639374667779,\n",
       " 0.438420658058,\n",
       " 0.613588009612,\n",
       " 0.630873769056,\n",
       " 0.598789056006,\n",
       " 0.517028525821,\n",
       " 0.596390346822,\n",
       " 0.457924656861,\n",
       " 0.536276360042,\n",
       " 0.7383632241979999,\n",
       " 0.479814962833,\n",
       " 0.361957900866,\n",
       " 0.456850818591,\n",
       " 0.430308496463,\n",
       " 0.516911776329,\n",
       " 0.411960445461,\n",
       " 0.419092424971,\n",
       " 0.642223696224,\n",
       " 0.447663963481,\n",
       " 0.677289582673,\n",
       " 0.583609063062,\n",
       " 0.5176097070800001,\n",
       " 0.605797443539,\n",
       " 0.614585725532,\n",
       " 0.400145658816,\n",
       " 0.525229639316,\n",
       " 0.456978687027,\n",
       " 0.443675238115,\n",
       " 0.393164213456,\n",
       " 0.5167522615519999,\n",
       " 0.395328568411,\n",
       " 0.360929821618,\n",
       " 0.747065547737,\n",
       " 0.7633322085600001,\n",
       " 0.429330452636,\n",
       " 0.465253784612,\n",
       " 0.517626813205,\n",
       " 0.491989833827,\n",
       " 0.5169660883839999,\n",
       " 0.4966987278890001,\n",
       " 0.463458494691,\n",
       " 0.577257979021,\n",
       " 0.622992540477,\n",
       " 0.519400292775,\n",
       " 0.65655693505,\n",
       " 0.405760323221,\n",
       " 0.524999989313,\n",
       " 0.547925217077,\n",
       " 0.655689225823,\n",
       " 0.63950638508,\n",
       " 0.519186466001,\n",
       " 0.517551118508,\n",
       " 0.6041526877669999,\n",
       " 0.411871493503,\n",
       " 0.430012132507,\n",
       " 0.567127720045,\n",
       " 0.5971973292180001,\n",
       " 0.558545139502,\n",
       " 0.479752953048,\n",
       " 0.489231467946,\n",
       " 0.454177983454,\n",
       " 0.448218630219,\n",
       " 0.424290982366,\n",
       " 0.4259365935,\n",
       " 0.641320064082,\n",
       " 0.399549509631,\n",
       " 0.469466172857,\n",
       " 0.587725656806,\n",
       " 0.5177161928149999,\n",
       " 0.7925481796259999,\n",
       " 0.485023975372,\n",
       " 0.535978794098,\n",
       " 0.6586880683899999,\n",
       " 0.432948827744,\n",
       " 0.463516950607,\n",
       " 0.398227930069,\n",
       " 0.461104869843,\n",
       " 0.395861148834,\n",
       " 0.33062005043000003,\n",
       " 0.353368997574,\n",
       " 0.38393497467,\n",
       " 0.399745941162,\n",
       " 0.426098108292,\n",
       " 0.366427898407,\n",
       " 0.363083124161,\n",
       " 0.401817798615,\n",
       " 0.368399858475,\n",
       " 0.820171833038,\n",
       " 0.435010910034,\n",
       " 0.633731842041,\n",
       " 0.578588962555,\n",
       " 0.44949889183,\n",
       " 0.440313100815,\n",
       " 0.44682598114,\n",
       " 0.389745950699,\n",
       " 0.500399827957,\n",
       " 0.547180891037,\n",
       " 0.721938848495,\n",
       " 0.536089897156,\n",
       " 0.43945479393,\n",
       " 0.53591799736,\n",
       " 0.349148035049,\n",
       " 0.355851888657,\n",
       " 0.402508974075,\n",
       " 0.536293983459,\n",
       " 0.471966981888,\n",
       " 0.6307528018949999,\n",
       " 0.5362040996549999,\n",
       " 0.452382087708,\n",
       " 0.411096811295,\n",
       " 0.620366096497,\n",
       " 0.8030800819399999,\n",
       " 0.5535149574279999,\n",
       " 0.42630815506,\n",
       " 0.433673143387,\n",
       " 0.431369066238,\n",
       " 0.445807933807,\n",
       " 0.468372106552,\n",
       " 0.403573036194,\n",
       " 0.5360188484189999,\n",
       " 0.544521093369,\n",
       " 0.536172866821,\n",
       " 0.438515901566,\n",
       " 0.428903102875,\n",
       " 0.411571025848,\n",
       " 0.458591938019,\n",
       " 0.449171066284,\n",
       " 0.418237924576,\n",
       " 0.496575117111,\n",
       " 0.430135011673,\n",
       " 0.536133050919,\n",
       " 0.485196828842,\n",
       " 0.4838900566100001,\n",
       " 0.626728057861,\n",
       " 0.385219097137,\n",
       " 0.621621131897,\n",
       " 0.555876970291,\n",
       " 0.44269990921,\n",
       " 0.61739897728,\n",
       " 0.656302928925,\n",
       " 0.441269874573,\n",
       " 0.662055969238,\n",
       " 0.62827706337,\n",
       " 0.491120100021,\n",
       " 0.441777944565,\n",
       " 0.480846881866,\n",
       " 0.536160945892,\n",
       " 0.5364818573,\n",
       " 0.5747799873349999,\n",
       " 0.638495922089,\n",
       " 0.7284300327300001,\n",
       " 0.430739164352,\n",
       " 0.421547174454,\n",
       " 0.428149938583,\n",
       " 0.47518992424,\n",
       " 0.649666070938,\n",
       " 0.456491947174,\n",
       " 0.6231110095979999,\n",
       " 0.41446185112,\n",
       " 0.492896795273,\n",
       " 0.536390066147,\n",
       " 0.602097988129,\n",
       " 0.369084119797,\n",
       " 0.391989946365,\n",
       " 0.418528079987,\n",
       " 0.40685915947,\n",
       " 0.388277053833,\n",
       " 0.386694908142,\n",
       " 0.409723043442,\n",
       " 0.400275945663,\n",
       " 0.6187429428100001,\n",
       " 0.353549957275,\n",
       " 0.310218095779,\n",
       " 0.413446903229,\n",
       " 0.412662029266,\n",
       " 0.379729986191,\n",
       " 0.378051042557,\n",
       " 0.472734928131,\n",
       " 0.4313778877260001,\n",
       " 0.382180929184,\n",
       " 0.3738338947300001,\n",
       " 0.395761013031,\n",
       " 0.386611938477,\n",
       " 0.441334962845,\n",
       " 0.3770430088040001,\n",
       " 0.333601951599,\n",
       " 0.524494886398,\n",
       " 0.523795843124,\n",
       " 0.379472970963,\n",
       " 0.434741020203,\n",
       " 0.490326881409,\n",
       " 0.625129938126,\n",
       " 0.415951013565,\n",
       " 0.494765996933,\n",
       " 0.711962938309,\n",
       " 0.494386911392,\n",
       " 0.667752027512,\n",
       " 0.519536018372,\n",
       " 0.386649131775,\n",
       " 0.5701179504389999,\n",
       " 0.521587848663,\n",
       " 0.361040830612,\n",
       " 0.392484903336,\n",
       " 0.591939926147,\n",
       " 0.391145944595,\n",
       " 0.390598058701,\n",
       " 0.421217918396,\n",
       " 0.580082893372,\n",
       " 0.371706008911,\n",
       " 0.563373088837,\n",
       " 0.412061929703,\n",
       " 0.402203083038,\n",
       " 0.30321097374,\n",
       " ...]"
      ]
     },
     "execution_count": 22,
     "metadata": {},
     "output_type": "execute_result"
    }
   ],
   "source": [
    "[rt for rt in df[\"rt\"] if rt < 99]"
   ]
  },
  {
   "cell_type": "code",
   "execution_count": 23,
   "metadata": {},
   "outputs": [
    {
     "data": {
      "text/plain": [
       "0.488760966982"
      ]
     },
     "execution_count": 23,
     "metadata": {},
     "output_type": "execute_result"
    }
   ],
   "source": [
    "np.median([rt for rt in df[\"rt\"] if rt < 99])"
   ]
  },
  {
   "cell_type": "markdown",
   "metadata": {},
   "source": [
    "Und sie haben eine Länge."
   ]
  },
  {
   "cell_type": "code",
   "execution_count": 24,
   "metadata": {},
   "outputs": [
    {
     "data": {
      "text/plain": [
       "48"
      ]
     },
     "execution_count": 24,
     "metadata": {},
     "output_type": "execute_result"
    }
   ],
   "source": [
    "len(df.query(\"rt > 10\"))"
   ]
  },
  {
   "cell_type": "code",
   "execution_count": 25,
   "metadata": {},
   "outputs": [
    {
     "data": {
      "text/plain": [
       "3431"
      ]
     },
     "execution_count": 25,
     "metadata": {},
     "output_type": "execute_result"
    }
   ],
   "source": [
    "len(df)"
   ]
  },
  {
   "cell_type": "markdown",
   "metadata": {},
   "source": [
    "Neue Spalten legen wir an wie Einträge in dicts. Wir können sie mit einer einzelnen Zahl initialisieren:"
   ]
  },
  {
   "cell_type": "code",
   "execution_count": 26,
   "metadata": {},
   "outputs": [],
   "source": [
    "df_cleaned[\"log_rt\"] = 0"
   ]
  },
  {
   "cell_type": "code",
   "execution_count": 27,
   "metadata": {},
   "outputs": [
    {
     "data": {
      "text/html": [
       "<div>\n",
       "<style scoped>\n",
       "    .dataframe tbody tr th:only-of-type {\n",
       "        vertical-align: middle;\n",
       "    }\n",
       "\n",
       "    .dataframe tbody tr th {\n",
       "        vertical-align: top;\n",
       "    }\n",
       "\n",
       "    .dataframe thead th {\n",
       "        text-align: right;\n",
       "    }\n",
       "</style>\n",
       "<table border=\"1\" class=\"dataframe\">\n",
       "  <thead>\n",
       "    <tr style=\"text-align: right;\">\n",
       "      <th></th>\n",
       "      <th>Unnamed: 0</th>\n",
       "      <th>trial_id</th>\n",
       "      <th>word</th>\n",
       "      <th>correct_key</th>\n",
       "      <th>button</th>\n",
       "      <th>rt</th>\n",
       "      <th>subj</th>\n",
       "      <th>freqs</th>\n",
       "      <th>sims</th>\n",
       "      <th>log_rt</th>\n",
       "    </tr>\n",
       "  </thead>\n",
       "  <tbody>\n",
       "    <tr>\n",
       "      <th>0</th>\n",
       "      <td>0</td>\n",
       "      <td>0</td>\n",
       "      <td>pinguin</td>\n",
       "      <td>l</td>\n",
       "      <td>l</td>\n",
       "      <td>0.415723</td>\n",
       "      <td>0</td>\n",
       "      <td>2.32</td>\n",
       "      <td>0.000000</td>\n",
       "      <td>0</td>\n",
       "    </tr>\n",
       "    <tr>\n",
       "      <th>1</th>\n",
       "      <td>1</td>\n",
       "      <td>1</td>\n",
       "      <td>goldfisch</td>\n",
       "      <td>l</td>\n",
       "      <td>l</td>\n",
       "      <td>0.487444</td>\n",
       "      <td>0</td>\n",
       "      <td>1.97</td>\n",
       "      <td>0.179393</td>\n",
       "      <td>0</td>\n",
       "    </tr>\n",
       "    <tr>\n",
       "      <th>2</th>\n",
       "      <td>2</td>\n",
       "      <td>2</td>\n",
       "      <td>lama</td>\n",
       "      <td>l</td>\n",
       "      <td>l</td>\n",
       "      <td>0.533625</td>\n",
       "      <td>0</td>\n",
       "      <td>4.09</td>\n",
       "      <td>0.004789</td>\n",
       "      <td>0</td>\n",
       "    </tr>\n",
       "    <tr>\n",
       "      <th>3</th>\n",
       "      <td>3</td>\n",
       "      <td>3</td>\n",
       "      <td>orchidee</td>\n",
       "      <td>l</td>\n",
       "      <td>l</td>\n",
       "      <td>0.470491</td>\n",
       "      <td>0</td>\n",
       "      <td>2.13</td>\n",
       "      <td>0.088054</td>\n",
       "      <td>0</td>\n",
       "    </tr>\n",
       "    <tr>\n",
       "      <th>4</th>\n",
       "      <td>4</td>\n",
       "      <td>4</td>\n",
       "      <td>scotch</td>\n",
       "      <td>l</td>\n",
       "      <td>l</td>\n",
       "      <td>0.459900</td>\n",
       "      <td>0</td>\n",
       "      <td>9.37</td>\n",
       "      <td>0.026734</td>\n",
       "      <td>0</td>\n",
       "    </tr>\n",
       "  </tbody>\n",
       "</table>\n",
       "</div>"
      ],
      "text/plain": [
       "   Unnamed: 0  trial_id       word correct_key button        rt  subj  freqs  \\\n",
       "0           0         0    pinguin           l      l  0.415723     0   2.32   \n",
       "1           1         1  goldfisch           l      l  0.487444     0   1.97   \n",
       "2           2         2       lama           l      l  0.533625     0   4.09   \n",
       "3           3         3   orchidee           l      l  0.470491     0   2.13   \n",
       "4           4         4     scotch           l      l  0.459900     0   9.37   \n",
       "\n",
       "       sims  log_rt  \n",
       "0  0.000000       0  \n",
       "1  0.179393       0  \n",
       "2  0.004789       0  \n",
       "3  0.088054       0  \n",
       "4  0.026734       0  "
      ]
     },
     "execution_count": 27,
     "metadata": {},
     "output_type": "execute_result"
    }
   ],
   "source": [
    "df_cleaned.head()"
   ]
  },
  {
   "cell_type": "markdown",
   "metadata": {},
   "source": [
    "Wir können diese Spalte jetzt mit Zahlen fühllen, oder hätten sie gleich so initialisieren können."
   ]
  },
  {
   "cell_type": "code",
   "execution_count": 28,
   "metadata": {},
   "outputs": [],
   "source": [
    "rt = df_cleaned[\"rt\"]\n",
    "df_cleaned[\"log_rt\"] = np.log(rt)"
   ]
  },
  {
   "cell_type": "markdown",
   "metadata": {},
   "source": [
    "Äquivalent:"
   ]
  },
  {
   "cell_type": "code",
   "execution_count": 29,
   "metadata": {},
   "outputs": [],
   "source": [
    "df_cleaned[\"log_rt\"] = np.log(df_cleaned[\"rt\"])"
   ]
  },
  {
   "cell_type": "markdown",
   "metadata": {},
   "source": [
    "Die logtransformierten RTs sehen eher normalverteilt aus ..."
   ]
  },
  {
   "cell_type": "code",
   "execution_count": 30,
   "metadata": {},
   "outputs": [
    {
     "data": {
      "text/plain": [
       "<matplotlib.axes._subplots.AxesSubplot at 0x1c195612b0>"
      ]
     },
     "execution_count": 30,
     "metadata": {},
     "output_type": "execute_result"
    },
    {
     "data": {
      "image/png": "[encoded data removed]",
      "text/plain": [
       "<Figure size 432x288 with 1 Axes>"
      ]
     },
     "metadata": {
      "image/png": {
       "height": 250,
       "width": 374
      }
     },
     "output_type": "display_data"
    }
   ],
   "source": [
    "df_cleaned[\"log_rt\"].hist(bins=50)"
   ]
  },
  {
   "cell_type": "markdown",
   "metadata": {},
   "source": [
    "Wir können auch neue Spalten erstellen, indem wir Stück für Stück eine neue Liste aufbauen und sie dann in das Dataframe schreiben."
   ]
  },
  {
   "cell_type": "code",
   "execution_count": 31,
   "metadata": {},
   "outputs": [],
   "source": [
    "length = []\n",
    "\n",
    "for word in df_cleaned[\"word\"]:\n",
    "    wordlen = len(word)  # Länge des Wortes in Buchstaben\n",
    "    length.append(wordlen)\n",
    "\n",
    "df_cleaned[\"length\"] = length"
   ]
  },
  {
   "cell_type": "code",
   "execution_count": 32,
   "metadata": {},
   "outputs": [],
   "source": [
    "# äquivalent zu oben\n",
    "df_cleaned[\"length\"] = [len(wort) for wort in df_cleaned[\"word\"]]"
   ]
  },
  {
   "cell_type": "code",
   "execution_count": 33,
   "metadata": {},
   "outputs": [
    {
     "data": {
      "text/plain": [
       "<matplotlib.axes._subplots.AxesSubplot at 0x1c197c02e8>"
      ]
     },
     "execution_count": 33,
     "metadata": {},
     "output_type": "execute_result"
    },
    {
     "data": {
      "image/png": "[encoded data removed]",
      "text/plain": [
       "<Figure size 432x288 with 1 Axes>"
      ]
     },
     "metadata": {
      "image/png": {
       "height": 250,
       "width": 374
      }
     },
     "output_type": "display_data"
    }
   ],
   "source": [
    "df_cleaned[\"length\"].hist(bins=40)"
   ]
  },
  {
   "cell_type": "markdown",
   "metadata": {},
   "source": [
    "Mit Vergleichsoperatoren können Zeilenweise vergleiche zwischen Spalten erledigt werden.\n",
    "\n",
    "Hier überprüfen wir bspw., ob die Versuchsperson die richtigen Antworttaste gewählt hat."
   ]
  },
  {
   "cell_type": "code",
   "execution_count": 34,
   "metadata": {},
   "outputs": [
    {
     "data": {
      "text/plain": [
       "0        True\n",
       "1        True\n",
       "2        True\n",
       "3        True\n",
       "4        True\n",
       "5        True\n",
       "6        True\n",
       "7        True\n",
       "8       False\n",
       "9        True\n",
       "10       True\n",
       "11      False\n",
       "12       True\n",
       "13       True\n",
       "14       True\n",
       "15       True\n",
       "16       True\n",
       "17       True\n",
       "18       True\n",
       "19       True\n",
       "20       True\n",
       "21       True\n",
       "22       True\n",
       "23       True\n",
       "24      False\n",
       "25       True\n",
       "26       True\n",
       "27       True\n",
       "28       True\n",
       "29       True\n",
       "        ...  \n",
       "3401     True\n",
       "3402     True\n",
       "3403     True\n",
       "3404     True\n",
       "3405     True\n",
       "3406     True\n",
       "3407     True\n",
       "3408     True\n",
       "3409     True\n",
       "3410     True\n",
       "3411     True\n",
       "3412     True\n",
       "3413     True\n",
       "3414     True\n",
       "3415     True\n",
       "3416     True\n",
       "3417    False\n",
       "3418     True\n",
       "3419     True\n",
       "3420     True\n",
       "3421     True\n",
       "3422     True\n",
       "3423     True\n",
       "3424    False\n",
       "3425     True\n",
       "3426     True\n",
       "3427     True\n",
       "3428     True\n",
       "3429     True\n",
       "3430     True\n",
       "Length: 3383, dtype: bool"
      ]
     },
     "execution_count": 34,
     "metadata": {},
     "output_type": "execute_result"
    }
   ],
   "source": [
    "iscorrect = df_cleaned[\"correct_key\"] == df_cleaned[\"button\"]\n",
    "iscorrect"
   ]
  },
  {
   "cell_type": "code",
   "execution_count": 35,
   "metadata": {},
   "outputs": [],
   "source": [
    "df_cleaned[\"iscorrect\"] = iscorrect"
   ]
  },
  {
   "cell_type": "markdown",
   "metadata": {},
   "source": [
    "Weil `True` und `False` 0 und 1 entsprechen, können wir so sehr leicht die durchschnittliche Akkuratheit berechnen ..."
   ]
  },
  {
   "cell_type": "code",
   "execution_count": 36,
   "metadata": {},
   "outputs": [
    {
     "data": {
      "text/plain": [
       "0.9382205143363879"
      ]
     },
     "execution_count": 36,
     "metadata": {},
     "output_type": "execute_result"
    }
   ],
   "source": [
    "df_cleaned[\"iscorrect\"].mean()  # 93 Prozent"
   ]
  },
  {
   "cell_type": "markdown",
   "metadata": {},
   "source": [
    "Seaborn schließlich bietet uns Möglichkeiten, mit wenig Aufwand komplexe Visualisierungen darzustellen. Hier beispielsweise berechnen wir die Abhängigkeit zwischen \"length\" und \"rt\" für `df_cleaned`."
   ]
  },
  {
   "cell_type": "code",
   "execution_count": 37,
   "metadata": {},
   "outputs": [
    {
     "name": "stderr",
     "output_type": "stream",
     "text": [
      "/Users/jona/miniconda3/lib/python3.6/site-packages/scipy/stats/stats.py:1713: FutureWarning: Using a non-tuple sequence for multidimensional indexing is deprecated; use `arr[tuple(seq)]` instead of `arr[seq]`. In the future this will be interpreted as an array index, `arr[np.array(seq)]`, which will result either in an error or a different result.\n",
      "  return np.add.reduce(sorted[indexer] * weights, axis=axis) / sumval\n"
     ]
    },
    {
     "data": {
      "text/plain": [
       "<seaborn.axisgrid.JointGrid at 0x1c199a4e80>"
      ]
     },
     "execution_count": 37,
     "metadata": {},
     "output_type": "execute_result"
    },
    {
     "data": {
      "image/png": "[encoded data removed]",
      "text/plain": [
       "<Figure size 432x432 with 3 Axes>"
      ]
     },
     "metadata": {
      "image/png": {
       "height": 424,
       "width": 423
      }
     },
     "output_type": "display_data"
    }
   ],
   "source": [
    "sns.jointplot(\"length\", \"rt\", df_cleaned, kind='reg')"
   ]
  },
  {
   "cell_type": "markdown",
   "metadata": {},
   "source": [
    "# Hausaufgaben"
   ]
  },
  {
   "cell_type": "markdown",
   "metadata": {},
   "source": [
    "- Überprüfen Sie, ob die durchschnittl. Reaktionszeit für falsch beantwortete Trials numerisch größer ist als für richtig beantwortete. Sie können (müssen aber nicht) dafür zwei Subsets erzeugen."
   ]
  },
  {
   "cell_type": "code",
   "execution_count": null,
   "metadata": {},
   "outputs": [],
   "source": [
    "df_correct = df_cleaned.query(\" ...\n",
    "df_incorrect = ...\n",
    "\n",
    "df_incorrect[\"rt\"].mean() ..."
   ]
  },
  {
   "cell_type": "code",
   "execution_count": null,
   "metadata": {},
   "outputs": [],
   "source": [
    "diff = ...\n",
    "print(\"Richtig beantwortete Trials sind um {}s langsamer als falsch beantwortete.\".format(diff))"
   ]
  },
  {
   "cell_type": "markdown",
   "metadata": {},
   "source": [
    "- Untersuchen Sie, ob es einen Zusammenhang zwischen Wortlänge und Wortfrequenz (\"freqs\") gibt."
   ]
  },
  {
   "cell_type": "code",
   "execution_count": null,
   "metadata": {},
   "outputs": [],
   "source": [
    "sns.jointplot(\" ..."
   ]
  },
  {
   "cell_type": "markdown",
   "metadata": {},
   "source": [
    "- **Bonusaufgabe**: Berechnen Sie die Reaktionszeiten der einzelnen Versuchspersonen\n",
    "- **Bonusaufgabe 2**: Lösen Sie die 1. Aufgabe in nur einer Zeile, ohne das erstellen von Subsets (außer `df_cleaned`)."
   ]
  },
  {
   "cell_type": "code",
   "execution_count": null,
   "metadata": {},
   "outputs": [],
   "source": []
  }
 ],
 "metadata": {
  "anaconda-cloud": {},
  "kernelspec": {
   "display_name": "Python [conda root]",
   "language": "python",
   "name": "conda-root-py"
  },
  "language_info": {
   "codemirror_mode": {
    "name": "ipython",
    "version": 3
   },
   "file_extension": ".py",
   "mimetype": "text/x-python",
   "name": "python",
   "nbconvert_exporter": "python",
   "pygments_lexer": "ipython3",
   "version": "3.6.5"
  }
 },
 "nbformat": 4,
 "nbformat_minor": 1
}
