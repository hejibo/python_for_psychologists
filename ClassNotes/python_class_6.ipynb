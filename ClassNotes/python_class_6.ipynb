{
 "cells": [
  {
   "cell_type": "markdown",
   "metadata": {},
   "source": [
    "# Bonus\n",
    "\n",
    "Komplexe Arbeit mit Funktionen!"
   ]
  },
  {
   "cell_type": "markdown",
   "metadata": {},
   "source": [
    "In Python können wir genau so über Funktionen loopen, sie in Listen stecken oder sie an Variablen verweisen, wie wir es mit allen anderen Objekten können."
   ]
  },
  {
   "cell_type": "code",
   "execution_count": 1,
   "metadata": {},
   "outputs": [
    {
     "data": {
      "text/plain": [
       "(4.428571428571429, 4.0)"
      ]
     },
     "execution_count": 1,
     "metadata": {},
     "output_type": "execute_result"
    }
   ],
   "source": [
    "from numpy import mean, median\n",
    "zahlen = [1, 2, 3, 4, 5, 6, 10]\n",
    "mean(zahlen), median(zahlen)"
   ]
  },
  {
   "cell_type": "code",
   "execution_count": 2,
   "metadata": {},
   "outputs": [
    {
     "name": "stdout",
     "output_type": "stream",
     "text": [
      "4.428571428571429\n",
      "4.0\n"
     ]
    }
   ],
   "source": [
    "for central_tendency_estimator in [mean, median]:  # loop over functions\n",
    "    central_tendency = central_tendency_estimator(zahlen)\n",
    "    print(central_tendency)"
   ]
  },
  {
   "cell_type": "code",
   "execution_count": 3,
   "metadata": {},
   "outputs": [],
   "source": [
    "central_tendency_dict = {\"mean\":mean, \"median\":median}  # dict of functions"
   ]
  },
  {
   "cell_type": "code",
   "execution_count": 4,
   "metadata": {},
   "outputs": [
    {
     "name": "stdout",
     "output_type": "stream",
     "text": [
      "mean: 4.428571428571429\n",
      "median: 4.0\n"
     ]
    }
   ],
   "source": [
    "for name in [\"mean\", \"median\"]:\n",
    "    central_tendency = central_tendency_dict[name](zahlen)  # retrieve function from dict\n",
    "    print(name + \": \" + str(central_tendency))"
   ]
  },
  {
   "cell_type": "code",
   "execution_count": 5,
   "metadata": {},
   "outputs": [
    {
     "name": "stdout",
     "output_type": "stream",
     "text": [
      "mean: 4.428571428571429\n",
      "median: 4.0\n"
     ]
    }
   ],
   "source": [
    "for name in [\"mean\", \"median\"]:  # same as above, but more explicit\n",
    "    central_tendency_estimator = central_tendency_dict[name]\n",
    "    central_tendency = central_tendency_estimator(zahlen)\n",
    "    print(name + \": \" + str(central_tendency))"
   ]
  },
  {
   "cell_type": "markdown",
   "metadata": {},
   "source": [
    "Keyword - Argument für Funktionen:"
   ]
  },
  {
   "cell_type": "code",
   "execution_count": 6,
   "metadata": {},
   "outputs": [],
   "source": [
    "central_tendency_dict = {\"mean\":mean, \"median\":median}\n",
    "\n",
    "def my_central_tendency(values, method=\"mean\"):\n",
    "    estimator = central_tendency_dict[method]  # 'method' ist immer, was beim Aufruf der Funktion\n",
    "    return estimator(values)                   # unter 'method' spezifiziert wurde, oder der default 'mean'"
   ]
  },
  {
   "cell_type": "code",
   "execution_count": 7,
   "metadata": {},
   "outputs": [
    {
     "name": "stdout",
     "output_type": "stream",
     "text": [
      "4.428571428571429\n",
      "4.0\n"
     ]
    }
   ],
   "source": [
    "for method in [\"mean\", \"median\"]:\n",
    "    print(my_central_tendency(zahlen, method=method))"
   ]
  },
  {
   "cell_type": "code",
   "execution_count": 8,
   "metadata": {},
   "outputs": [
    {
     "data": {
      "text/plain": [
       "4.428571428571429"
      ]
     },
     "execution_count": 8,
     "metadata": {},
     "output_type": "execute_result"
    }
   ],
   "source": [
    "my_central_tendency(zahlen)  # default"
   ]
  },
  {
   "cell_type": "code",
   "execution_count": 9,
   "metadata": {},
   "outputs": [
    {
     "data": {
      "text/plain": [
       "4.428571428571429"
      ]
     },
     "execution_count": 9,
     "metadata": {},
     "output_type": "execute_result"
    }
   ],
   "source": [
    "my_central_tendency(zahlen, method=\"mean\")  # explizit"
   ]
  },
  {
   "cell_type": "code",
   "execution_count": 10,
   "metadata": {},
   "outputs": [
    {
     "data": {
      "text/plain": [
       "4.0"
      ]
     },
     "execution_count": 10,
     "metadata": {},
     "output_type": "execute_result"
    }
   ],
   "source": [
    "my_central_tendency(zahlen, method=\"median\")  # explizit"
   ]
  },
  {
   "cell_type": "markdown",
   "metadata": {},
   "source": [
    "Eine Möglichkeit, um Stimuluslisten zu generieren, ist `str.format`."
   ]
  },
  {
   "cell_type": "code",
   "execution_count": 11,
   "metadata": {},
   "outputs": [],
   "source": [
    "temp = \"/Users/jona/Downloads/stims/{}_{}.jpg\"\n",
    "\n",
    "stims = []\n",
    "\n",
    "occupations = [\"sportler\", \"maler\"]\n",
    "sexes = [\"w\", \"m\"]\n",
    "for occupation in occupations:\n",
    "    for sex in sexes:\n",
    "        stim = temp.format(occupation, sex)\n",
    "        stims.append(stim)\n"
   ]
  },
  {
   "cell_type": "code",
   "execution_count": 12,
   "metadata": {},
   "outputs": [
    {
     "data": {
      "text/plain": [
       "['/Users/jona/Downloads/stims/sportler_w.jpg',\n",
       " '/Users/jona/Downloads/stims/sportler_m.jpg',\n",
       " '/Users/jona/Downloads/stims/maler_w.jpg',\n",
       " '/Users/jona/Downloads/stims/maler_m.jpg']"
      ]
     },
     "execution_count": 12,
     "metadata": {},
     "output_type": "execute_result"
    }
   ],
   "source": [
    "stims"
   ]
  },
  {
   "cell_type": "markdown",
   "metadata": {},
   "source": [
    "Im `random`-Modul befinden sich Funktionen, mit denen Zufallsziehungen erledigt werden können."
   ]
  },
  {
   "cell_type": "code",
   "execution_count": 13,
   "metadata": {},
   "outputs": [],
   "source": [
    "import random"
   ]
  },
  {
   "cell_type": "code",
   "execution_count": 14,
   "metadata": {},
   "outputs": [
    {
     "data": {
      "text/plain": [
       "'/Users/jona/Downloads/stims/maler_m.jpg'"
      ]
     },
     "execution_count": 14,
     "metadata": {},
     "output_type": "execute_result"
    }
   ],
   "source": [
    "random.choice(stims)  # 'choice' wählt einen zufälligen Eintrag aus,\n",
    "                      # er befindet sich dann immer noch in der Liste"
   ]
  },
  {
   "cell_type": "code",
   "execution_count": 15,
   "metadata": {},
   "outputs": [
    {
     "name": "stdout",
     "output_type": "stream",
     "text": [
      "/Users/jona/Downloads/stims/maler_w.jpg\n",
      "/Users/jona/Downloads/stims/maler_w.jpg\n",
      "/Users/jona/Downloads/stims/maler_m.jpg\n",
      "/Users/jona/Downloads/stims/maler_w.jpg\n",
      "/Users/jona/Downloads/stims/maler_m.jpg\n"
     ]
    }
   ],
   "source": [
    "for trial in range(5):\n",
    "    print(random.choice(stims))"
   ]
  },
  {
   "cell_type": "code",
   "execution_count": 16,
   "metadata": {},
   "outputs": [
    {
     "data": {
      "text/plain": [
       "['/Users/jona/Downloads/stims/sportler_w.jpg',\n",
       " '/Users/jona/Downloads/stims/sportler_m.jpg',\n",
       " '/Users/jona/Downloads/stims/maler_w.jpg',\n",
       " '/Users/jona/Downloads/stims/maler_m.jpg']"
      ]
     },
     "execution_count": 16,
     "metadata": {},
     "output_type": "execute_result"
    }
   ],
   "source": [
    "stims"
   ]
  },
  {
   "cell_type": "code",
   "execution_count": 17,
   "metadata": {},
   "outputs": [],
   "source": [
    "random.shuffle(stims)  # Bringt die Liste in eine neue Reihenfolge"
   ]
  },
  {
   "cell_type": "code",
   "execution_count": 18,
   "metadata": {},
   "outputs": [
    {
     "data": {
      "text/plain": [
       "['/Users/jona/Downloads/stims/sportler_w.jpg',\n",
       " '/Users/jona/Downloads/stims/maler_m.jpg',\n",
       " '/Users/jona/Downloads/stims/sportler_m.jpg',\n",
       " '/Users/jona/Downloads/stims/maler_w.jpg']"
      ]
     },
     "execution_count": 18,
     "metadata": {},
     "output_type": "execute_result"
    }
   ],
   "source": [
    "stims"
   ]
  },
  {
   "cell_type": "markdown",
   "metadata": {},
   "source": [
    "Mit `zip` kann über mehrere Listen gleichzeitig iteriert werden."
   ]
  },
  {
   "cell_type": "code",
   "execution_count": 19,
   "metadata": {},
   "outputs": [
    {
     "name": "stdout",
     "output_type": "stream",
     "text": [
      "1 a\n",
      "2 b\n",
      "3 c\n"
     ]
    }
   ],
   "source": [
    "numbers, letters = [1, 2, 3], ['a', 'b', 'c']\n",
    "\n",
    "for number, letter in zip(numbers, letters):\n",
    "    print(number, letter)"
   ]
  },
  {
   "cell_type": "code",
   "execution_count": null,
   "metadata": {
    "collapsed": true
   },
   "outputs": [],
   "source": []
  }
 ],
 "metadata": {
  "kernelspec": {
   "display_name": "Python [default]",
   "language": "python",
   "name": "python3"
  },
  "language_info": {
   "codemirror_mode": {
    "name": "ipython",
    "version": 3
   },
   "file_extension": ".py",
   "mimetype": "text/x-python",
   "name": "python",
   "nbconvert_exporter": "python",
   "pygments_lexer": "ipython3",
   "version": "3.6.5"
  }
 },
 "nbformat": 4,
 "nbformat_minor": 1
}
